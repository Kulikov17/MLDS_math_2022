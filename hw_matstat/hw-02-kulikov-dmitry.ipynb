{
  "cells": [
    {
      "cell_type": "markdown",
      "id": "9074d943",
      "metadata": {
        "id": "9074d943"
      },
      "source": [
        "<center>\n",
        "<img src=\"https://camo.githubusercontent.com/ad20aaaa48264581c46aa126919dbb72060ebd98cffe015523549b4974843ae5/68747470733a2f2f7261772e67697468756275736572636f6e74656e742e636f6d2f46556c79616e6b696e2f725f70726f626162696c6974792f6d61737465722f656e645f73656d696e6172732f73656d5f362f73747564656e745f746561636865725f646973742e706e67\" height=\"200\">\n",
        "\n",
        "# Прикладаная статистика: домашнее задание 2\n",
        "</center>\n",
        "\n",
        "> скрррааа па па ка ка ка скидики па па энд э пу пу дррр бум скьа ду ду ку ку тун тун пум пум\n",
        "\n",
        "$\\qquad$ [БутcРэп](https://www.youtube.com/watch?v=eE4qxB2E8d4)\n"
      ]
    },
    {
      "cell_type": "markdown",
      "id": "153348a7",
      "metadata": {
        "id": "153348a7"
      },
      "source": [
        "**ФИО:** Куликов Дмитрий Алексеевич"
      ]
    },
    {
      "cell_type": "markdown",
      "id": "f40dc119",
      "metadata": {
        "id": "f40dc119"
      },
      "source": [
        "## Общая информация\n",
        "\n",
        "\n",
        "__Дата выдачи:__ 23.04.2022\n",
        "\n",
        "__Дедлайн:__ 23:59MSK 14.05.2022"
      ]
    },
    {
      "cell_type": "markdown",
      "id": "58abed2e",
      "metadata": {
        "id": "58abed2e"
      },
      "source": [
        "## Формат сдачи\n",
        "\n",
        "Сам ноутбук называйте в формате hw-01-USERNAME.ipynb, где USERNAME — ваши фамилия и имя. Файл надо будет, как обычно, сдать в anytask."
      ]
    },
    {
      "cell_type": "markdown",
      "id": "23434b16",
      "metadata": {
        "id": "23434b16"
      },
      "source": [
        "## Оформление"
      ]
    },
    {
      "cell_type": "markdown",
      "id": "9ec5a430",
      "metadata": {
        "id": "9ec5a430"
      },
      "source": [
        "В этом домашнем задании мы будем проверять гипотезы. Во всех задачах подробно обосновывайте выбор критерия для проверки гипотезы и делайте выводы."
      ]
    },
    {
      "cell_type": "code",
      "execution_count": 3,
      "id": "154ad6fa",
      "metadata": {
        "id": "154ad6fa"
      },
      "outputs": [],
      "source": [
        "import numpy as np\n",
        "import pandas as pd\n",
        "\n",
        "from scipy import stats as sts\n",
        "\n",
        "import seaborn as sns\n",
        "import matplotlib.pyplot as plt"
      ]
    },
    {
      "cell_type": "markdown",
      "id": "b4a9c38f",
      "metadata": {
        "id": "b4a9c38f"
      },
      "source": [
        "## [10 баллов] Задание 1 (рейтинги президентов)\n",
        "\n",
        "В таблице `presidents.csv` представлены рейтинги различных президентов США (интересно, почему не российских). Социальные опросы проводились раз в квартал. Опрашивалась случайная выборка граждан. У каждого спрашивалось одобряет ли он деятельность президента.\n",
        "\n",
        "Ричард Никсон был президентом США с 20 января 1969 года по 9 августа 1974 года. 17 июня 1972 года произошёл Уотергейтский скандал. Давайте проанализируем, что при этом произошло с его рейтингом."
      ]
    },
    {
      "cell_type": "code",
      "execution_count": 3,
      "id": "82891bdd",
      "metadata": {
        "id": "82891bdd",
        "outputId": "822b8ccf-1e38-4645-d930-72486fead94b",
        "colab": {
          "base_uri": "https://localhost:8080/",
          "height": 206
        }
      },
      "outputs": [
        {
          "output_type": "execute_result",
          "data": {
            "text/plain": [
              "   year  Qtr1  Qtr2  Qtr3  Qtr4\n",
              "0  1945   NaN    87  82.0  75.0\n",
              "1  1946  63.0    50  43.0  32.0\n",
              "2  1947  35.0    60  54.0  55.0\n",
              "3  1948  36.0    39   NaN   NaN\n",
              "4  1949  69.0    57  57.0  51.0"
            ],
            "text/html": [
              "\n",
              "  <div id=\"df-629c066e-72f2-42b4-b9f2-eb5b5ce9657d\">\n",
              "    <div class=\"colab-df-container\">\n",
              "      <div>\n",
              "<style scoped>\n",
              "    .dataframe tbody tr th:only-of-type {\n",
              "        vertical-align: middle;\n",
              "    }\n",
              "\n",
              "    .dataframe tbody tr th {\n",
              "        vertical-align: top;\n",
              "    }\n",
              "\n",
              "    .dataframe thead th {\n",
              "        text-align: right;\n",
              "    }\n",
              "</style>\n",
              "<table border=\"1\" class=\"dataframe\">\n",
              "  <thead>\n",
              "    <tr style=\"text-align: right;\">\n",
              "      <th></th>\n",
              "      <th>year</th>\n",
              "      <th>Qtr1</th>\n",
              "      <th>Qtr2</th>\n",
              "      <th>Qtr3</th>\n",
              "      <th>Qtr4</th>\n",
              "    </tr>\n",
              "  </thead>\n",
              "  <tbody>\n",
              "    <tr>\n",
              "      <th>0</th>\n",
              "      <td>1945</td>\n",
              "      <td>NaN</td>\n",
              "      <td>87</td>\n",
              "      <td>82.0</td>\n",
              "      <td>75.0</td>\n",
              "    </tr>\n",
              "    <tr>\n",
              "      <th>1</th>\n",
              "      <td>1946</td>\n",
              "      <td>63.0</td>\n",
              "      <td>50</td>\n",
              "      <td>43.0</td>\n",
              "      <td>32.0</td>\n",
              "    </tr>\n",
              "    <tr>\n",
              "      <th>2</th>\n",
              "      <td>1947</td>\n",
              "      <td>35.0</td>\n",
              "      <td>60</td>\n",
              "      <td>54.0</td>\n",
              "      <td>55.0</td>\n",
              "    </tr>\n",
              "    <tr>\n",
              "      <th>3</th>\n",
              "      <td>1948</td>\n",
              "      <td>36.0</td>\n",
              "      <td>39</td>\n",
              "      <td>NaN</td>\n",
              "      <td>NaN</td>\n",
              "    </tr>\n",
              "    <tr>\n",
              "      <th>4</th>\n",
              "      <td>1949</td>\n",
              "      <td>69.0</td>\n",
              "      <td>57</td>\n",
              "      <td>57.0</td>\n",
              "      <td>51.0</td>\n",
              "    </tr>\n",
              "  </tbody>\n",
              "</table>\n",
              "</div>\n",
              "      <button class=\"colab-df-convert\" onclick=\"convertToInteractive('df-629c066e-72f2-42b4-b9f2-eb5b5ce9657d')\"\n",
              "              title=\"Convert this dataframe to an interactive table.\"\n",
              "              style=\"display:none;\">\n",
              "        \n",
              "  <svg xmlns=\"http://www.w3.org/2000/svg\" height=\"24px\"viewBox=\"0 0 24 24\"\n",
              "       width=\"24px\">\n",
              "    <path d=\"M0 0h24v24H0V0z\" fill=\"none\"/>\n",
              "    <path d=\"M18.56 5.44l.94 2.06.94-2.06 2.06-.94-2.06-.94-.94-2.06-.94 2.06-2.06.94zm-11 1L8.5 8.5l.94-2.06 2.06-.94-2.06-.94L8.5 2.5l-.94 2.06-2.06.94zm10 10l.94 2.06.94-2.06 2.06-.94-2.06-.94-.94-2.06-.94 2.06-2.06.94z\"/><path d=\"M17.41 7.96l-1.37-1.37c-.4-.4-.92-.59-1.43-.59-.52 0-1.04.2-1.43.59L10.3 9.45l-7.72 7.72c-.78.78-.78 2.05 0 2.83L4 21.41c.39.39.9.59 1.41.59.51 0 1.02-.2 1.41-.59l7.78-7.78 2.81-2.81c.8-.78.8-2.07 0-2.86zM5.41 20L4 18.59l7.72-7.72 1.47 1.35L5.41 20z\"/>\n",
              "  </svg>\n",
              "      </button>\n",
              "      \n",
              "  <style>\n",
              "    .colab-df-container {\n",
              "      display:flex;\n",
              "      flex-wrap:wrap;\n",
              "      gap: 12px;\n",
              "    }\n",
              "\n",
              "    .colab-df-convert {\n",
              "      background-color: #E8F0FE;\n",
              "      border: none;\n",
              "      border-radius: 50%;\n",
              "      cursor: pointer;\n",
              "      display: none;\n",
              "      fill: #1967D2;\n",
              "      height: 32px;\n",
              "      padding: 0 0 0 0;\n",
              "      width: 32px;\n",
              "    }\n",
              "\n",
              "    .colab-df-convert:hover {\n",
              "      background-color: #E2EBFA;\n",
              "      box-shadow: 0px 1px 2px rgba(60, 64, 67, 0.3), 0px 1px 3px 1px rgba(60, 64, 67, 0.15);\n",
              "      fill: #174EA6;\n",
              "    }\n",
              "\n",
              "    [theme=dark] .colab-df-convert {\n",
              "      background-color: #3B4455;\n",
              "      fill: #D2E3FC;\n",
              "    }\n",
              "\n",
              "    [theme=dark] .colab-df-convert:hover {\n",
              "      background-color: #434B5C;\n",
              "      box-shadow: 0px 1px 3px 1px rgba(0, 0, 0, 0.15);\n",
              "      filter: drop-shadow(0px 1px 2px rgba(0, 0, 0, 0.3));\n",
              "      fill: #FFFFFF;\n",
              "    }\n",
              "  </style>\n",
              "\n",
              "      <script>\n",
              "        const buttonEl =\n",
              "          document.querySelector('#df-629c066e-72f2-42b4-b9f2-eb5b5ce9657d button.colab-df-convert');\n",
              "        buttonEl.style.display =\n",
              "          google.colab.kernel.accessAllowed ? 'block' : 'none';\n",
              "\n",
              "        async function convertToInteractive(key) {\n",
              "          const element = document.querySelector('#df-629c066e-72f2-42b4-b9f2-eb5b5ce9657d');\n",
              "          const dataTable =\n",
              "            await google.colab.kernel.invokeFunction('convertToInteractive',\n",
              "                                                     [key], {});\n",
              "          if (!dataTable) return;\n",
              "\n",
              "          const docLinkHtml = 'Like what you see? Visit the ' +\n",
              "            '<a target=\"_blank\" href=https://colab.research.google.com/notebooks/data_table.ipynb>data table notebook</a>'\n",
              "            + ' to learn more about interactive tables.';\n",
              "          element.innerHTML = '';\n",
              "          dataTable['output_type'] = 'display_data';\n",
              "          await google.colab.output.renderOutput(dataTable, element);\n",
              "          const docLink = document.createElement('div');\n",
              "          docLink.innerHTML = docLinkHtml;\n",
              "          element.appendChild(docLink);\n",
              "        }\n",
              "      </script>\n",
              "    </div>\n",
              "  </div>\n",
              "  "
            ]
          },
          "metadata": {},
          "execution_count": 3
        }
      ],
      "source": [
        "df = pd.read_csv('data/presidents.csv')\n",
        "df.head()"
      ]
    },
    {
      "cell_type": "markdown",
      "id": "c87d176d",
      "metadata": {
        "id": "c87d176d"
      },
      "source": [
        "Чтобы привести таблицу к удобному виду используйте функцию `pd.melt`. Вытащите из таблички рейтинг Никсона с 1 квартала 1969 года по 2 квартал 1972 года (включая его). Запишите эти данные в переменную `x`. Рейтинг с 3 квартала 1972 года по 2 квартал 1974 года поместите в переменную `y`. Пропуски в данных удалите из выборки."
      ]
    },
    {
      "cell_type": "code",
      "source": [
        "df_melted = pd.melt(df,\n",
        "                    id_vars=['year'],\n",
        "                    value_vars=['Qtr1', 'Qtr2', 'Qtr3', 'Qtr4'],\n",
        "                    var_name='Qtr',\n",
        "                    value_name='Rating').sort_values(by=['year', 'Qtr'])"
      ],
      "metadata": {
        "id": "MVSZGiqn3edW"
      },
      "id": "MVSZGiqn3edW",
      "execution_count": 4,
      "outputs": []
    },
    {
      "cell_type": "code",
      "source": [
        "df_melted"
      ],
      "metadata": {
        "colab": {
          "base_uri": "https://localhost:8080/",
          "height": 424
        },
        "id": "EOlXWSqG48S0",
        "outputId": "293a9d97-5798-4f5f-aa01-51d18a941d07"
      },
      "id": "EOlXWSqG48S0",
      "execution_count": 5,
      "outputs": [
        {
          "output_type": "execute_result",
          "data": {
            "text/plain": [
              "     year   Qtr  Rating\n",
              "0    1945  Qtr1     NaN\n",
              "30   1945  Qtr2    87.0\n",
              "60   1945  Qtr3    82.0\n",
              "90   1945  Qtr4    75.0\n",
              "1    1946  Qtr1    63.0\n",
              "..    ...   ...     ...\n",
              "118  1973  Qtr4    27.0\n",
              "29   1974  Qtr1    28.0\n",
              "59   1974  Qtr2    25.0\n",
              "89   1974  Qtr3    24.0\n",
              "119  1974  Qtr4    24.0\n",
              "\n",
              "[120 rows x 3 columns]"
            ],
            "text/html": [
              "\n",
              "  <div id=\"df-08946eba-433d-4457-8c8c-66694125c52a\">\n",
              "    <div class=\"colab-df-container\">\n",
              "      <div>\n",
              "<style scoped>\n",
              "    .dataframe tbody tr th:only-of-type {\n",
              "        vertical-align: middle;\n",
              "    }\n",
              "\n",
              "    .dataframe tbody tr th {\n",
              "        vertical-align: top;\n",
              "    }\n",
              "\n",
              "    .dataframe thead th {\n",
              "        text-align: right;\n",
              "    }\n",
              "</style>\n",
              "<table border=\"1\" class=\"dataframe\">\n",
              "  <thead>\n",
              "    <tr style=\"text-align: right;\">\n",
              "      <th></th>\n",
              "      <th>year</th>\n",
              "      <th>Qtr</th>\n",
              "      <th>Rating</th>\n",
              "    </tr>\n",
              "  </thead>\n",
              "  <tbody>\n",
              "    <tr>\n",
              "      <th>0</th>\n",
              "      <td>1945</td>\n",
              "      <td>Qtr1</td>\n",
              "      <td>NaN</td>\n",
              "    </tr>\n",
              "    <tr>\n",
              "      <th>30</th>\n",
              "      <td>1945</td>\n",
              "      <td>Qtr2</td>\n",
              "      <td>87.0</td>\n",
              "    </tr>\n",
              "    <tr>\n",
              "      <th>60</th>\n",
              "      <td>1945</td>\n",
              "      <td>Qtr3</td>\n",
              "      <td>82.0</td>\n",
              "    </tr>\n",
              "    <tr>\n",
              "      <th>90</th>\n",
              "      <td>1945</td>\n",
              "      <td>Qtr4</td>\n",
              "      <td>75.0</td>\n",
              "    </tr>\n",
              "    <tr>\n",
              "      <th>1</th>\n",
              "      <td>1946</td>\n",
              "      <td>Qtr1</td>\n",
              "      <td>63.0</td>\n",
              "    </tr>\n",
              "    <tr>\n",
              "      <th>...</th>\n",
              "      <td>...</td>\n",
              "      <td>...</td>\n",
              "      <td>...</td>\n",
              "    </tr>\n",
              "    <tr>\n",
              "      <th>118</th>\n",
              "      <td>1973</td>\n",
              "      <td>Qtr4</td>\n",
              "      <td>27.0</td>\n",
              "    </tr>\n",
              "    <tr>\n",
              "      <th>29</th>\n",
              "      <td>1974</td>\n",
              "      <td>Qtr1</td>\n",
              "      <td>28.0</td>\n",
              "    </tr>\n",
              "    <tr>\n",
              "      <th>59</th>\n",
              "      <td>1974</td>\n",
              "      <td>Qtr2</td>\n",
              "      <td>25.0</td>\n",
              "    </tr>\n",
              "    <tr>\n",
              "      <th>89</th>\n",
              "      <td>1974</td>\n",
              "      <td>Qtr3</td>\n",
              "      <td>24.0</td>\n",
              "    </tr>\n",
              "    <tr>\n",
              "      <th>119</th>\n",
              "      <td>1974</td>\n",
              "      <td>Qtr4</td>\n",
              "      <td>24.0</td>\n",
              "    </tr>\n",
              "  </tbody>\n",
              "</table>\n",
              "<p>120 rows × 3 columns</p>\n",
              "</div>\n",
              "      <button class=\"colab-df-convert\" onclick=\"convertToInteractive('df-08946eba-433d-4457-8c8c-66694125c52a')\"\n",
              "              title=\"Convert this dataframe to an interactive table.\"\n",
              "              style=\"display:none;\">\n",
              "        \n",
              "  <svg xmlns=\"http://www.w3.org/2000/svg\" height=\"24px\"viewBox=\"0 0 24 24\"\n",
              "       width=\"24px\">\n",
              "    <path d=\"M0 0h24v24H0V0z\" fill=\"none\"/>\n",
              "    <path d=\"M18.56 5.44l.94 2.06.94-2.06 2.06-.94-2.06-.94-.94-2.06-.94 2.06-2.06.94zm-11 1L8.5 8.5l.94-2.06 2.06-.94-2.06-.94L8.5 2.5l-.94 2.06-2.06.94zm10 10l.94 2.06.94-2.06 2.06-.94-2.06-.94-.94-2.06-.94 2.06-2.06.94z\"/><path d=\"M17.41 7.96l-1.37-1.37c-.4-.4-.92-.59-1.43-.59-.52 0-1.04.2-1.43.59L10.3 9.45l-7.72 7.72c-.78.78-.78 2.05 0 2.83L4 21.41c.39.39.9.59 1.41.59.51 0 1.02-.2 1.41-.59l7.78-7.78 2.81-2.81c.8-.78.8-2.07 0-2.86zM5.41 20L4 18.59l7.72-7.72 1.47 1.35L5.41 20z\"/>\n",
              "  </svg>\n",
              "      </button>\n",
              "      \n",
              "  <style>\n",
              "    .colab-df-container {\n",
              "      display:flex;\n",
              "      flex-wrap:wrap;\n",
              "      gap: 12px;\n",
              "    }\n",
              "\n",
              "    .colab-df-convert {\n",
              "      background-color: #E8F0FE;\n",
              "      border: none;\n",
              "      border-radius: 50%;\n",
              "      cursor: pointer;\n",
              "      display: none;\n",
              "      fill: #1967D2;\n",
              "      height: 32px;\n",
              "      padding: 0 0 0 0;\n",
              "      width: 32px;\n",
              "    }\n",
              "\n",
              "    .colab-df-convert:hover {\n",
              "      background-color: #E2EBFA;\n",
              "      box-shadow: 0px 1px 2px rgba(60, 64, 67, 0.3), 0px 1px 3px 1px rgba(60, 64, 67, 0.15);\n",
              "      fill: #174EA6;\n",
              "    }\n",
              "\n",
              "    [theme=dark] .colab-df-convert {\n",
              "      background-color: #3B4455;\n",
              "      fill: #D2E3FC;\n",
              "    }\n",
              "\n",
              "    [theme=dark] .colab-df-convert:hover {\n",
              "      background-color: #434B5C;\n",
              "      box-shadow: 0px 1px 3px 1px rgba(0, 0, 0, 0.15);\n",
              "      filter: drop-shadow(0px 1px 2px rgba(0, 0, 0, 0.3));\n",
              "      fill: #FFFFFF;\n",
              "    }\n",
              "  </style>\n",
              "\n",
              "      <script>\n",
              "        const buttonEl =\n",
              "          document.querySelector('#df-08946eba-433d-4457-8c8c-66694125c52a button.colab-df-convert');\n",
              "        buttonEl.style.display =\n",
              "          google.colab.kernel.accessAllowed ? 'block' : 'none';\n",
              "\n",
              "        async function convertToInteractive(key) {\n",
              "          const element = document.querySelector('#df-08946eba-433d-4457-8c8c-66694125c52a');\n",
              "          const dataTable =\n",
              "            await google.colab.kernel.invokeFunction('convertToInteractive',\n",
              "                                                     [key], {});\n",
              "          if (!dataTable) return;\n",
              "\n",
              "          const docLinkHtml = 'Like what you see? Visit the ' +\n",
              "            '<a target=\"_blank\" href=https://colab.research.google.com/notebooks/data_table.ipynb>data table notebook</a>'\n",
              "            + ' to learn more about interactive tables.';\n",
              "          element.innerHTML = '';\n",
              "          dataTable['output_type'] = 'display_data';\n",
              "          await google.colab.output.renderOutput(dataTable, element);\n",
              "          const docLink = document.createElement('div');\n",
              "          docLink.innerHTML = docLinkHtml;\n",
              "          element.appendChild(docLink);\n",
              "        }\n",
              "      </script>\n",
              "    </div>\n",
              "  </div>\n",
              "  "
            ]
          },
          "metadata": {},
          "execution_count": 5
        }
      ]
    },
    {
      "cell_type": "code",
      "source": [
        "x = pd.concat([\n",
        "    df_melted.loc[(df_melted['year'] >= 1969) & (df_melted['year'] < 1972)],\n",
        "    df_melted.loc[(df_melted['year'] == 1972) & (df_melted['Qtr'].isin(['Qtr1', 'Qtr2']))],\n",
        "])['Rating'].dropna().to_numpy()"
      ],
      "metadata": {
        "id": "vCigAYxu5rkg"
      },
      "id": "vCigAYxu5rkg",
      "execution_count": 6,
      "outputs": []
    },
    {
      "cell_type": "code",
      "source": [
        "y = pd.concat([\n",
        "    df_melted.loc[(df_melted['year'] == 1972) & (df_melted['Qtr'].isin(['Qtr3', 'Qtr4']))],\n",
        "    df_melted.loc[(df_melted['year'] > 1972) & (df_melted['year'] < 1974)],\n",
        "    df_melted.loc[(df_melted['year'] == 1974) & (df_melted['Qtr'].isin(['Qtr1', 'Qtr2']))],\n",
        "])['Rating'].dropna().to_numpy()"
      ],
      "metadata": {
        "id": "8f3U8Jxe-lNM"
      },
      "id": "8f3U8Jxe-lNM",
      "execution_count": 7,
      "outputs": []
    },
    {
      "cell_type": "markdown",
      "id": "fd439aca",
      "metadata": {
        "id": "fd439aca"
      },
      "source": [
        "Правда ли, что после скандала средний рейтинг Никсона рухнул? Предполагайте, что рейтинг распределён нормально, а также, что дисперсия рейтинга не изменилась из-за скандала. Наблюдаемое значение статистики запишите в переменную `obs`, в переменную `pval` запишите $p$-значение."
      ]
    },
    {
      "cell_type": "markdown",
      "source": [
        "Проверка гипотезы о средних. Выборки независимые. Дисперсия не известны, но равны.\n",
        "\n",
        "$$\n",
        "\\begin{aligned}\n",
        "&H_0: \\hspace{2mm} \\mu_1 = \\mu_2 \\hspace{2mm} \\text{Рейтинг не изменился} \\\\\n",
        "&H_1: \\hspace{2mm} \\mu_1 > \\mu_2  \\hspace{2mm} \\text{Рейтинг упал}\n",
        "\\end{aligned}\n",
        "$$"
      ],
      "metadata": {
        "id": "dBrzN6tIEuUe"
      },
      "id": "dBrzN6tIEuUe"
    },
    {
      "cell_type": "markdown",
      "source": [
        "Гипотезу проверяю на уровне значимости 5%"
      ],
      "metadata": {
        "id": "vQdzn6sdOBaW"
      },
      "id": "vQdzn6sdOBaW"
    },
    {
      "cell_type": "code",
      "source": [
        "alpha = 0.05                                          # уровень значимости = 5%\n",
        "nx, ny = x.size, y.size                               # размер выборок\n",
        "diff = x.mean() - y.mean()                            # разность средних\n",
        "\n",
        "diff_var = ((nx - 1) * x.var(ddof=1) + (ny - 1) * y.var(ddof=1)) / (nx + ny - 2)\n",
        "diff_std = np.sqrt(diff_var / nx + diff_var / ny)     # стандартное отклонение\n",
        "\n",
        "t_obs = diff/diff_std                                 # наблюдаемое значение\n",
        "t_crit = sts.t(df = nx + ny - 2).ppf(1 - alpha)       # критическое значение\n",
        "\n",
        "print(f'Наблюдаемое значение {t_obs:.3} больше критического {t_crit:.3} => нулевая гипотеза отвергается')"
      ],
      "metadata": {
        "colab": {
          "base_uri": "https://localhost:8080/"
        },
        "id": "CtQM90i3BLmB",
        "outputId": "18fd96eb-b6f8-4bbf-e114-f051e358530a"
      },
      "id": "CtQM90i3BLmB",
      "execution_count": 8,
      "outputs": [
        {
          "output_type": "stream",
          "name": "stdout",
          "text": [
            "Наблюдаемое значение 3.56 больше критического 1.73 => нулевая гипотеза отвергается\n"
          ]
        }
      ]
    },
    {
      "cell_type": "markdown",
      "source": [
        "То же самое средствами `statsmodels`."
      ],
      "metadata": {
        "id": "HBlr7adfIES_"
      },
      "id": "HBlr7adfIES_"
    },
    {
      "cell_type": "code",
      "source": [
        "from statsmodels.stats.weightstats import ttest_ind\n",
        "\n",
        "t_obs, p_val, _ = ttest_ind(x, y, value=0, alternative='larger')\n",
        "\n",
        "print(f\"Наблюдаемое значение: {t_obs:.3}\")\n",
        "print(f\"P-значение: {p_val:.3}\")"
      ],
      "metadata": {
        "colab": {
          "base_uri": "https://localhost:8080/"
        },
        "id": "_VpAadFXCl8S",
        "outputId": "e7328299-77d8-4851-91b4-19c25a70d5e9"
      },
      "id": "_VpAadFXCl8S",
      "execution_count": 9,
      "outputs": [
        {
          "output_type": "stream",
          "name": "stdout",
          "text": [
            "Наблюдаемое значение: 3.56\n",
            "P-значение: 0.00111\n"
          ]
        }
      ]
    },
    {
      "cell_type": "code",
      "execution_count": 10,
      "id": "e034f76c",
      "metadata": {
        "id": "e034f76c"
      },
      "outputs": [],
      "source": [
        "# небольшая самопроверка\n",
        "assert np.abs(t_obs - 3.5640741313229793) < 1e-5"
      ]
    },
    {
      "cell_type": "markdown",
      "id": "5eb8fd45",
      "metadata": {
        "id": "5eb8fd45"
      },
      "source": [
        "**Почему вы выбрали именно этот критерий для проверки гипотезы? Какие выводы вы сделали?**\n",
        "\n",
        "**Ответ:**"
      ]
    },
    {
      "cell_type": "markdown",
      "source": [
        "В задаче говорится об использовании гипотезы о средних. Выборки независимые, нормально распредены, кол-во наблюдений небольшое, дисперсии неизвестны, но равны => используем t-статистику, распределение Стьюдента."
      ],
      "metadata": {
        "id": "yiqoAM6aNUof"
      },
      "id": "yiqoAM6aNUof"
    },
    {
      "cell_type": "markdown",
      "source": [
        "Таким образом, после скандала средний рейтинг Никсона рухнул.\n",
        "P-значение: 0.001"
      ],
      "metadata": {
        "id": "EwyPwgc8PA5S"
      },
      "id": "EwyPwgc8PA5S"
    },
    {
      "cell_type": "markdown",
      "source": [],
      "metadata": {
        "id": "jvKoBtIEJZbc"
      },
      "id": "jvKoBtIEJZbc"
    },
    {
      "cell_type": "markdown",
      "id": "b5d0253f",
      "metadata": {
        "id": "b5d0253f"
      },
      "source": [
        "Снова президентом Никсон станет в $3000$ году.\n",
        "\n",
        "![](https://vignette.wikia.nocookie.net/futurama/images/2/2f/Richard_M._Nixon%27s_head.jpg/revision/latest/scale-to-width-down/250?cb=20131123190522&path-prefix=ru)"
      ]
    },
    {
      "cell_type": "markdown",
      "id": "3ead1a50",
      "metadata": {
        "id": "3ead1a50"
      },
      "source": [
        "## [10 баллов] Задание 2 (доктор сон)\n",
        "\n",
        "Проводится эксперимент о пользе нового снотворного. Для его проведения используется группа из $10$ студентов. В первый день каждый из них ложится спать. На утро измеряется, сколько он проспал. Из результата вычитают $8$ (нормальное число часов сна). На второй день каждому дают таблетку. Утром снова измеряют, сколько человек проспал, и вычитают $8$. Результаты эксперимента записаны в табличку `sleep.csv`."
      ]
    },
    {
      "cell_type": "code",
      "execution_count": 11,
      "id": "e6be5698",
      "metadata": {
        "id": "e6be5698",
        "outputId": "f447a562-2cc1-46c8-85ca-635bbaea4269",
        "colab": {
          "base_uri": "https://localhost:8080/",
          "height": 206
        }
      },
      "outputs": [
        {
          "output_type": "execute_result",
          "data": {
            "text/plain": [
              "   extra  group  ID\n",
              "0    0.7      1   1\n",
              "1   -1.6      1   2\n",
              "2   -0.2      1   3\n",
              "3   -1.2      1   4\n",
              "4   -0.1      1   5"
            ],
            "text/html": [
              "\n",
              "  <div id=\"df-5e7f8f41-11ad-4c8e-bcbd-677e121b6b4f\">\n",
              "    <div class=\"colab-df-container\">\n",
              "      <div>\n",
              "<style scoped>\n",
              "    .dataframe tbody tr th:only-of-type {\n",
              "        vertical-align: middle;\n",
              "    }\n",
              "\n",
              "    .dataframe tbody tr th {\n",
              "        vertical-align: top;\n",
              "    }\n",
              "\n",
              "    .dataframe thead th {\n",
              "        text-align: right;\n",
              "    }\n",
              "</style>\n",
              "<table border=\"1\" class=\"dataframe\">\n",
              "  <thead>\n",
              "    <tr style=\"text-align: right;\">\n",
              "      <th></th>\n",
              "      <th>extra</th>\n",
              "      <th>group</th>\n",
              "      <th>ID</th>\n",
              "    </tr>\n",
              "  </thead>\n",
              "  <tbody>\n",
              "    <tr>\n",
              "      <th>0</th>\n",
              "      <td>0.7</td>\n",
              "      <td>1</td>\n",
              "      <td>1</td>\n",
              "    </tr>\n",
              "    <tr>\n",
              "      <th>1</th>\n",
              "      <td>-1.6</td>\n",
              "      <td>1</td>\n",
              "      <td>2</td>\n",
              "    </tr>\n",
              "    <tr>\n",
              "      <th>2</th>\n",
              "      <td>-0.2</td>\n",
              "      <td>1</td>\n",
              "      <td>3</td>\n",
              "    </tr>\n",
              "    <tr>\n",
              "      <th>3</th>\n",
              "      <td>-1.2</td>\n",
              "      <td>1</td>\n",
              "      <td>4</td>\n",
              "    </tr>\n",
              "    <tr>\n",
              "      <th>4</th>\n",
              "      <td>-0.1</td>\n",
              "      <td>1</td>\n",
              "      <td>5</td>\n",
              "    </tr>\n",
              "  </tbody>\n",
              "</table>\n",
              "</div>\n",
              "      <button class=\"colab-df-convert\" onclick=\"convertToInteractive('df-5e7f8f41-11ad-4c8e-bcbd-677e121b6b4f')\"\n",
              "              title=\"Convert this dataframe to an interactive table.\"\n",
              "              style=\"display:none;\">\n",
              "        \n",
              "  <svg xmlns=\"http://www.w3.org/2000/svg\" height=\"24px\"viewBox=\"0 0 24 24\"\n",
              "       width=\"24px\">\n",
              "    <path d=\"M0 0h24v24H0V0z\" fill=\"none\"/>\n",
              "    <path d=\"M18.56 5.44l.94 2.06.94-2.06 2.06-.94-2.06-.94-.94-2.06-.94 2.06-2.06.94zm-11 1L8.5 8.5l.94-2.06 2.06-.94-2.06-.94L8.5 2.5l-.94 2.06-2.06.94zm10 10l.94 2.06.94-2.06 2.06-.94-2.06-.94-.94-2.06-.94 2.06-2.06.94z\"/><path d=\"M17.41 7.96l-1.37-1.37c-.4-.4-.92-.59-1.43-.59-.52 0-1.04.2-1.43.59L10.3 9.45l-7.72 7.72c-.78.78-.78 2.05 0 2.83L4 21.41c.39.39.9.59 1.41.59.51 0 1.02-.2 1.41-.59l7.78-7.78 2.81-2.81c.8-.78.8-2.07 0-2.86zM5.41 20L4 18.59l7.72-7.72 1.47 1.35L5.41 20z\"/>\n",
              "  </svg>\n",
              "      </button>\n",
              "      \n",
              "  <style>\n",
              "    .colab-df-container {\n",
              "      display:flex;\n",
              "      flex-wrap:wrap;\n",
              "      gap: 12px;\n",
              "    }\n",
              "\n",
              "    .colab-df-convert {\n",
              "      background-color: #E8F0FE;\n",
              "      border: none;\n",
              "      border-radius: 50%;\n",
              "      cursor: pointer;\n",
              "      display: none;\n",
              "      fill: #1967D2;\n",
              "      height: 32px;\n",
              "      padding: 0 0 0 0;\n",
              "      width: 32px;\n",
              "    }\n",
              "\n",
              "    .colab-df-convert:hover {\n",
              "      background-color: #E2EBFA;\n",
              "      box-shadow: 0px 1px 2px rgba(60, 64, 67, 0.3), 0px 1px 3px 1px rgba(60, 64, 67, 0.15);\n",
              "      fill: #174EA6;\n",
              "    }\n",
              "\n",
              "    [theme=dark] .colab-df-convert {\n",
              "      background-color: #3B4455;\n",
              "      fill: #D2E3FC;\n",
              "    }\n",
              "\n",
              "    [theme=dark] .colab-df-convert:hover {\n",
              "      background-color: #434B5C;\n",
              "      box-shadow: 0px 1px 3px 1px rgba(0, 0, 0, 0.15);\n",
              "      filter: drop-shadow(0px 1px 2px rgba(0, 0, 0, 0.3));\n",
              "      fill: #FFFFFF;\n",
              "    }\n",
              "  </style>\n",
              "\n",
              "      <script>\n",
              "        const buttonEl =\n",
              "          document.querySelector('#df-5e7f8f41-11ad-4c8e-bcbd-677e121b6b4f button.colab-df-convert');\n",
              "        buttonEl.style.display =\n",
              "          google.colab.kernel.accessAllowed ? 'block' : 'none';\n",
              "\n",
              "        async function convertToInteractive(key) {\n",
              "          const element = document.querySelector('#df-5e7f8f41-11ad-4c8e-bcbd-677e121b6b4f');\n",
              "          const dataTable =\n",
              "            await google.colab.kernel.invokeFunction('convertToInteractive',\n",
              "                                                     [key], {});\n",
              "          if (!dataTable) return;\n",
              "\n",
              "          const docLinkHtml = 'Like what you see? Visit the ' +\n",
              "            '<a target=\"_blank\" href=https://colab.research.google.com/notebooks/data_table.ipynb>data table notebook</a>'\n",
              "            + ' to learn more about interactive tables.';\n",
              "          element.innerHTML = '';\n",
              "          dataTable['output_type'] = 'display_data';\n",
              "          await google.colab.output.renderOutput(dataTable, element);\n",
              "          const docLink = document.createElement('div');\n",
              "          docLink.innerHTML = docLinkHtml;\n",
              "          element.appendChild(docLink);\n",
              "        }\n",
              "      </script>\n",
              "    </div>\n",
              "  </div>\n",
              "  "
            ]
          },
          "metadata": {},
          "execution_count": 11
        }
      ],
      "source": [
        "df = pd.read_csv('data/sleep.csv')\n",
        "df.head()"
      ]
    },
    {
      "cell_type": "markdown",
      "source": [
        "В х будут лежать данные о сне без приема снотворного, в y данные о сне после приема снотворного."
      ],
      "metadata": {
        "id": "UvziL48PRfEK"
      },
      "id": "UvziL48PRfEK"
    },
    {
      "cell_type": "code",
      "source": [
        "x = df.loc[(df['group'] == 1)]['extra'].to_numpy()"
      ],
      "metadata": {
        "id": "wDRE0iLdRebd"
      },
      "id": "wDRE0iLdRebd",
      "execution_count": 12,
      "outputs": []
    },
    {
      "cell_type": "code",
      "source": [
        "y = df.loc[(df['group'] == 2)]['extra'].to_numpy()"
      ],
      "metadata": {
        "id": "XjBP4jZGSKNv"
      },
      "id": "XjBP4jZGSKNv",
      "execution_count": 13,
      "outputs": []
    },
    {
      "cell_type": "markdown",
      "id": "563eb4c7",
      "metadata": {
        "id": "563eb4c7"
      },
      "source": [
        "Правда ли, что сон студентов до приёма снотворного не отличается от нормы (отклонение от 8 часов равно нулю). Проверьте эту гипотезу на $5\\%$ уровне значимости, в переменную `pval1` запишите p-значение."
      ]
    },
    {
      "cell_type": "code",
      "source": [
        "alpha = 0.05                          # уровень значимости = 5%"
      ],
      "metadata": {
        "id": "HePBxiIPZsHP"
      },
      "id": "HePBxiIPZsHP",
      "execution_count": 16,
      "outputs": []
    },
    {
      "cell_type": "markdown",
      "source": [
        "Проверка гипотезы о мат. ожидании при неизвестной дисперсии. Данных немного. Считаем, что дисперсия нам неизвестна. Спрашивается,  об отличии от нормы в среднем по выборке.\n",
        "\n",
        "$$\n",
        "\\begin{aligned}\n",
        "&H_0: \\hspace{2mm} \\mu_1 = 0 \\hspace{2mm} \\text{Сон не отличается от нормы} \\\\\n",
        "&H_1: \\hspace{2mm} \\mu_1 \\neq 0  \\hspace{2mm} \\text{Сон отличается от нормы}\n",
        "\\end{aligned}\n",
        "$$"
      ],
      "metadata": {
        "id": "-ARFZwftROhm"
      },
      "id": "-ARFZwftROhm"
    },
    {
      "cell_type": "markdown",
      "source": [
        "Используем t-критерий для среднего, точный"
      ],
      "metadata": {
        "id": "2zKf-JQKZFrB"
      },
      "id": "2zKf-JQKZFrB"
    },
    {
      "cell_type": "code",
      "source": [
        "tobs1, pval1 = sts.ttest_1samp(x, popmean=0)\n",
        "print(f\"Наблюдаемое значение: {tobs1:.5}\")\n",
        "print(f\"p-val: {pval1:.5}\")"
      ],
      "metadata": {
        "colab": {
          "base_uri": "https://localhost:8080/"
        },
        "id": "LRq1C8D-FUfq",
        "outputId": "34dff833-7890-4c2d-b8aa-d0592430310e"
      },
      "id": "LRq1C8D-FUfq",
      "execution_count": 24,
      "outputs": [
        {
          "output_type": "stream",
          "name": "stdout",
          "text": [
            "Наблюдаемое значение: 1.3257\n",
            "p-val: 0.2176\n"
          ]
        }
      ]
    },
    {
      "cell_type": "markdown",
      "source": [
        "`p-val > alpha ` гипотеза о том, что сон не отличается от нормы не отвергается."
      ],
      "metadata": {
        "id": "eaOUeUhVGe0e"
      },
      "id": "eaOUeUhVGe0e"
    },
    {
      "cell_type": "markdown",
      "id": "b979e7e1",
      "metadata": {
        "id": "b979e7e1"
      },
      "source": [
        "Правда ли, что благодаря таблеткам студенты стали спать больше (односторонняя альтернатива)? Запишите в переменную `pval2` соотвествующее p-значение."
      ]
    },
    {
      "cell_type": "markdown",
      "source": [
        "Проверю эту гипотезу на  5%  уровне значимости."
      ],
      "metadata": {
        "id": "UYuCwNQxLFoE"
      },
      "id": "UYuCwNQxLFoE"
    },
    {
      "cell_type": "markdown",
      "source": [
        "Проверка гипотезы о разности средних,  о связанных парах. Используется 2 группы студентов, измерения делаются на одних и тех же людях.\n",
        "\n",
        "$$\n",
        "\\begin{aligned}\n",
        "&H_0: \\hspace{2mm} \\mu_2 = 0 \\hspace{2mm} \\text{Сон не отличается от нормы} \\\\\n",
        "&H_1: \\hspace{2mm} \\mu_2 > 0  \\hspace{2mm} \\text{Сон студентов увеличился}\n",
        "\\end{aligned}\n",
        "$$"
      ],
      "metadata": {
        "id": "CSxo5N7uc1Gh"
      },
      "id": "CSxo5N7uc1Gh"
    },
    {
      "cell_type": "code",
      "source": [
        "tobs2, pval2 = sts.ttest_rel(y, x, alternative=\"greater\")\n",
        "print(f\"Наблюдаемое значение: {tobs2:.5}\")\n",
        "print(f\"p-val: {pval2:.5}\")"
      ],
      "metadata": {
        "colab": {
          "base_uri": "https://localhost:8080/"
        },
        "id": "S1ZfxUfWHEvc",
        "outputId": "bdf132d9-b87f-4f83-d08f-977e820d0814"
      },
      "id": "S1ZfxUfWHEvc",
      "execution_count": 27,
      "outputs": [
        {
          "output_type": "stream",
          "name": "stdout",
          "text": [
            "Наблюдаемое значение: 4.0621\n",
            "p-val: 0.0014164\n"
          ]
        }
      ]
    },
    {
      "cell_type": "markdown",
      "source": [
        "`pvalue < alpha` значит нулевая гипотеза отвергается, т.е таблетки увеличивают продолжительность сна."
      ],
      "metadata": {
        "id": "LRYDGHoXKwXK"
      },
      "id": "LRYDGHoXKwXK"
    },
    {
      "cell_type": "code",
      "execution_count": 28,
      "id": "5f6b72f9",
      "metadata": {
        "id": "5f6b72f9"
      },
      "outputs": [],
      "source": [
        "# самопроверка\n",
        "assert np.abs(tobs1 - 1.325710) < 1e-5\n",
        "assert np.abs(tobs2 - 4.062127) < 1e-5"
      ]
    },
    {
      "cell_type": "markdown",
      "id": "20d4a20f",
      "metadata": {
        "id": "20d4a20f"
      },
      "source": [
        "**Почему вы выбрали именно этот критерий для проверки гипотезы? Какие выводы вы сделали?**\n",
        "\n",
        "**Ответ:**\n",
        "\n",
        "В первом случае проверялась гипотеза о мат. ожидании при неизвестной дисперсии.Спрашивалось, об отличии от нормы в среднем по выборке. Гипотеза о том, что сон не отличается от нормы не отвергается.\n",
        "\n",
        "\n",
        "Во втором случае была проверка гипотезы о разности средних, о связанных парах. Используется 2 группы студентов, измерения делаются на одних и тех же людях. Выяснилось что на 5% уровне значимости таблетки увеличивают продолжительность сна."
      ]
    },
    {
      "cell_type": "markdown",
      "id": "ff02898b",
      "metadata": {
        "id": "ff02898b"
      },
      "source": [
        "## [30 баллов] Задание 3 (мудрость)\n",
        "\n",
        "> Помните, что для человека звук его имени является самым сладким и самым важным звуком человеческой речи. (Дейл Карнеги)\n",
        "\n",
        "Доверяй, но проверяй. Решим задачку по психологии! Все цитаты в пабликах вконтакте делятся на два вида: мудрые и недостаточно мудрые. Если цитата мудрая, то её можно лайкнуть. Поговаривают, что если в цитате есть личные местоимения, то пользователь автоматически сопоставляет себя автору этой цитаты и вероятность того, что она будет лайкнута, повышается. Например, цитату\n",
        "\n",
        "> Можно простить человеку все, кроме отсутствия. (Экзюпери)\n",
        "\n",
        "мне не очень хотелось бы лайкать. А вот цитата\n",
        "\n",
        "> Мне наплевать, что вы обо мне думаете. Я о вас вообще не думаю. (Булгаков)\n",
        "\n",
        "совершенно другое дело.\n",
        "\n",
        "В табличке `df_vk_wise` лежат данные о мудрых цитатах из [мудрого паблика.](https://vk.com/ooioioioioioo) В колонке `I` находится переменная, которая принимает значение `True`, когда в тексте цитаты было личное местоимение \"Я\".\n",
        "\n",
        "Срежем первые $50$ постов, так как под ними количество репостов и лайков ещё окончательно не выставлено, и будем работать с остатками."
      ]
    },
    {
      "cell_type": "code",
      "execution_count": 30,
      "id": "4fc58188",
      "metadata": {
        "id": "4fc58188",
        "outputId": "f47d09f7-dab3-4c55-8004-7fe99f805e10",
        "colab": {
          "base_uri": "https://localhost:8080/",
          "height": 206
        }
      },
      "outputs": [
        {
          "output_type": "execute_result",
          "data": {
            "text/plain": [
              "    likes  reposts                                               text      I\n",
              "50    549       25  Я, говорит, люблю человечество, но дивлюсь на ...   True\n",
              "51    607       22  Нельзя любить то, что я люблю, да ещё так, как...   True\n",
              "52    914       37  Если испытываешь по-настоящему глубокое чувств...  False\n",
              "53    989       34  — Я тебя люблю, — сказал я. \\n— Это пройдет, —...   True\n",
              "54   1229       32  Он очаровательно рассказывает мне о том, как о...  False"
            ],
            "text/html": [
              "\n",
              "  <div id=\"df-374f1bcf-2402-490c-ab2b-882b77332bca\">\n",
              "    <div class=\"colab-df-container\">\n",
              "      <div>\n",
              "<style scoped>\n",
              "    .dataframe tbody tr th:only-of-type {\n",
              "        vertical-align: middle;\n",
              "    }\n",
              "\n",
              "    .dataframe tbody tr th {\n",
              "        vertical-align: top;\n",
              "    }\n",
              "\n",
              "    .dataframe thead th {\n",
              "        text-align: right;\n",
              "    }\n",
              "</style>\n",
              "<table border=\"1\" class=\"dataframe\">\n",
              "  <thead>\n",
              "    <tr style=\"text-align: right;\">\n",
              "      <th></th>\n",
              "      <th>likes</th>\n",
              "      <th>reposts</th>\n",
              "      <th>text</th>\n",
              "      <th>I</th>\n",
              "    </tr>\n",
              "  </thead>\n",
              "  <tbody>\n",
              "    <tr>\n",
              "      <th>50</th>\n",
              "      <td>549</td>\n",
              "      <td>25</td>\n",
              "      <td>Я, говорит, люблю человечество, но дивлюсь на ...</td>\n",
              "      <td>True</td>\n",
              "    </tr>\n",
              "    <tr>\n",
              "      <th>51</th>\n",
              "      <td>607</td>\n",
              "      <td>22</td>\n",
              "      <td>Нельзя любить то, что я люблю, да ещё так, как...</td>\n",
              "      <td>True</td>\n",
              "    </tr>\n",
              "    <tr>\n",
              "      <th>52</th>\n",
              "      <td>914</td>\n",
              "      <td>37</td>\n",
              "      <td>Если испытываешь по-настоящему глубокое чувств...</td>\n",
              "      <td>False</td>\n",
              "    </tr>\n",
              "    <tr>\n",
              "      <th>53</th>\n",
              "      <td>989</td>\n",
              "      <td>34</td>\n",
              "      <td>— Я тебя люблю, — сказал я. \\n— Это пройдет, —...</td>\n",
              "      <td>True</td>\n",
              "    </tr>\n",
              "    <tr>\n",
              "      <th>54</th>\n",
              "      <td>1229</td>\n",
              "      <td>32</td>\n",
              "      <td>Он очаровательно рассказывает мне о том, как о...</td>\n",
              "      <td>False</td>\n",
              "    </tr>\n",
              "  </tbody>\n",
              "</table>\n",
              "</div>\n",
              "      <button class=\"colab-df-convert\" onclick=\"convertToInteractive('df-374f1bcf-2402-490c-ab2b-882b77332bca')\"\n",
              "              title=\"Convert this dataframe to an interactive table.\"\n",
              "              style=\"display:none;\">\n",
              "        \n",
              "  <svg xmlns=\"http://www.w3.org/2000/svg\" height=\"24px\"viewBox=\"0 0 24 24\"\n",
              "       width=\"24px\">\n",
              "    <path d=\"M0 0h24v24H0V0z\" fill=\"none\"/>\n",
              "    <path d=\"M18.56 5.44l.94 2.06.94-2.06 2.06-.94-2.06-.94-.94-2.06-.94 2.06-2.06.94zm-11 1L8.5 8.5l.94-2.06 2.06-.94-2.06-.94L8.5 2.5l-.94 2.06-2.06.94zm10 10l.94 2.06.94-2.06 2.06-.94-2.06-.94-.94-2.06-.94 2.06-2.06.94z\"/><path d=\"M17.41 7.96l-1.37-1.37c-.4-.4-.92-.59-1.43-.59-.52 0-1.04.2-1.43.59L10.3 9.45l-7.72 7.72c-.78.78-.78 2.05 0 2.83L4 21.41c.39.39.9.59 1.41.59.51 0 1.02-.2 1.41-.59l7.78-7.78 2.81-2.81c.8-.78.8-2.07 0-2.86zM5.41 20L4 18.59l7.72-7.72 1.47 1.35L5.41 20z\"/>\n",
              "  </svg>\n",
              "      </button>\n",
              "      \n",
              "  <style>\n",
              "    .colab-df-container {\n",
              "      display:flex;\n",
              "      flex-wrap:wrap;\n",
              "      gap: 12px;\n",
              "    }\n",
              "\n",
              "    .colab-df-convert {\n",
              "      background-color: #E8F0FE;\n",
              "      border: none;\n",
              "      border-radius: 50%;\n",
              "      cursor: pointer;\n",
              "      display: none;\n",
              "      fill: #1967D2;\n",
              "      height: 32px;\n",
              "      padding: 0 0 0 0;\n",
              "      width: 32px;\n",
              "    }\n",
              "\n",
              "    .colab-df-convert:hover {\n",
              "      background-color: #E2EBFA;\n",
              "      box-shadow: 0px 1px 2px rgba(60, 64, 67, 0.3), 0px 1px 3px 1px rgba(60, 64, 67, 0.15);\n",
              "      fill: #174EA6;\n",
              "    }\n",
              "\n",
              "    [theme=dark] .colab-df-convert {\n",
              "      background-color: #3B4455;\n",
              "      fill: #D2E3FC;\n",
              "    }\n",
              "\n",
              "    [theme=dark] .colab-df-convert:hover {\n",
              "      background-color: #434B5C;\n",
              "      box-shadow: 0px 1px 3px 1px rgba(0, 0, 0, 0.15);\n",
              "      filter: drop-shadow(0px 1px 2px rgba(0, 0, 0, 0.3));\n",
              "      fill: #FFFFFF;\n",
              "    }\n",
              "  </style>\n",
              "\n",
              "      <script>\n",
              "        const buttonEl =\n",
              "          document.querySelector('#df-374f1bcf-2402-490c-ab2b-882b77332bca button.colab-df-convert');\n",
              "        buttonEl.style.display =\n",
              "          google.colab.kernel.accessAllowed ? 'block' : 'none';\n",
              "\n",
              "        async function convertToInteractive(key) {\n",
              "          const element = document.querySelector('#df-374f1bcf-2402-490c-ab2b-882b77332bca');\n",
              "          const dataTable =\n",
              "            await google.colab.kernel.invokeFunction('convertToInteractive',\n",
              "                                                     [key], {});\n",
              "          if (!dataTable) return;\n",
              "\n",
              "          const docLinkHtml = 'Like what you see? Visit the ' +\n",
              "            '<a target=\"_blank\" href=https://colab.research.google.com/notebooks/data_table.ipynb>data table notebook</a>'\n",
              "            + ' to learn more about interactive tables.';\n",
              "          element.innerHTML = '';\n",
              "          dataTable['output_type'] = 'display_data';\n",
              "          await google.colab.output.renderOutput(dataTable, element);\n",
              "          const docLink = document.createElement('div');\n",
              "          docLink.innerHTML = docLinkHtml;\n",
              "          element.appendChild(docLink);\n",
              "        }\n",
              "      </script>\n",
              "    </div>\n",
              "  </div>\n",
              "  "
            ]
          },
          "metadata": {},
          "execution_count": 30
        }
      ],
      "source": [
        "df = pd.read_csv('data/df_vk_wise.csv')[50:]\n",
        "df.head()"
      ]
    },
    {
      "cell_type": "markdown",
      "id": "2a3e8f04",
      "metadata": {
        "id": "2a3e8f04"
      },
      "source": [
        "Постройте гистограмму для числа лайков постов, содержащих личные местоимения и не содержащих. Как думаете, есть ли с распределением лайков какие-то проблемы?"
      ]
    },
    {
      "cell_type": "code",
      "execution_count": 32,
      "id": "23afcd74",
      "metadata": {
        "id": "23afcd74",
        "colab": {
          "base_uri": "https://localhost:8080/",
          "height": 487
        },
        "outputId": "a577f837-195f-42a8-8268-cb1235f751fe"
      },
      "outputs": [
        {
          "output_type": "display_data",
          "data": {
            "text/plain": [
              "<Figure size 1000x500 with 1 Axes>"
            ],
            "image/png": "[encoded data removed]"
          },
          "metadata": {}
        }
      ],
      "source": [
        "x = df[df['I'] == True]['likes'] # содержит местоимения\n",
        "y = df[df['I'] == False]['likes'] # не содержит местоимения\n",
        "\n",
        "fig, ax = plt.subplots(figsize=(10,5))\n",
        "ax.hist(x, bins=50, density=True, alpha=0.5, label='contains')\n",
        "ax.hist(y, bins=50, density=True, alpha=0.5, label='not contains')\n",
        "\n",
        "ax.set_xlabel('likes')\n",
        "ax.set_title('Гистограмма для числа лайков постов')\n",
        "plt.legend();"
      ]
    },
    {
      "cell_type": "markdown",
      "id": "d66368a6",
      "metadata": {
        "id": "d66368a6"
      },
      "source": [
        "Да, проблемы есть. Это выбросы. Хвосты на гистограммах оказываются очень длинными. Найдите медианы и средние для числа лайков. Сравните их между собой."
      ]
    },
    {
      "cell_type": "code",
      "execution_count": 38,
      "id": "8c9c8185",
      "metadata": {
        "id": "8c9c8185",
        "outputId": "7f9bd4ca-9eb4-4ac6-dfba-5562f0b819b8",
        "colab": {
          "base_uri": "https://localhost:8080/"
        }
      },
      "outputs": [
        {
          "output_type": "stream",
          "name": "stdout",
          "text": [
            "Для всего числа: mean = 2810.7557024793387, median = 2524.0\n",
            "Для содержащих местоимения: mean = 2879.1828885400314, median = 2588.5\n",
            "Для несодержащих местоимения: mean = 2784.0432051478474, median = 2497.0\n"
          ]
        }
      ],
      "source": [
        "print(f'Для всего числа: mean = {np.mean(df[\"likes\"])}, median = {np.median(df[\"likes\"])}')\n",
        "print(f'Для содержащих местоимения: mean = {x.mean()}, median = {x.median()}')\n",
        "print(f'Для несодержащих местоимения: mean = {y.mean()}, median = {y.median()}')"
      ]
    },
    {
      "cell_type": "markdown",
      "source": [
        "Mean и median для содержащих местоимения больше, чем для не содержащих."
      ],
      "metadata": {
        "id": "8nljG4P2_R9O"
      },
      "id": "8nljG4P2_R9O"
    },
    {
      "cell_type": "markdown",
      "id": "363e8837",
      "metadata": {
        "id": "363e8837"
      },
      "source": [
        "Проверьте гипотезу о равенстве среднего числа лайков. Используйте для этого $z$-тест, основанный на ЦПТ. Дисперсию расчитывайте по выборке, используя несмещённую оценку `(ddof=1)`. Запишите наблюдаемое значение статистики в переменную `z_obs`."
      ]
    },
    {
      "cell_type": "markdown",
      "source": [
        "$$\n",
        "\\begin{aligned}\n",
        "&H_0: \\hspace{2mm} \\mu_1 = \\mu_2 \\hspace{2mm} \\text{Среднее число лайков не отличается} \\\\\n",
        "&H_1: \\hspace{2mm} \\mu_1 \\neq \\mu_2  \\hspace{2mm} \\text{Среднее число лайков отличается}\n",
        "\\end{aligned}\n",
        "$$"
      ],
      "metadata": {
        "id": "5VuBvcKUBwUm"
      },
      "id": "5VuBvcKUBwUm"
    },
    {
      "cell_type": "markdown",
      "source": [
        "Проверяю гипотезу на уровне значимости 5%"
      ],
      "metadata": {
        "id": "YFqBJUPeO4k5"
      },
      "id": "YFqBJUPeO4k5"
    },
    {
      "cell_type": "code",
      "source": [
        "alpha = 0.05                     # уровень значимости = 5%\n",
        "nx, ny = x.size, y.size          # размер выборок\n",
        "\n",
        "diff = x.mean() - y.mean()       # разность средних\n",
        "diff_std = np.sqrt(x.var(ddof=1)/nx + y.var(ddof=1)/ny)   # стандартное отклонение\n",
        "\n",
        "z_obs = diff/diff_std            # наблюдаемое значение"
      ],
      "metadata": {
        "id": "KbikZJR8_9om"
      },
      "id": "KbikZJR8_9om",
      "execution_count": 40,
      "outputs": []
    },
    {
      "cell_type": "code",
      "source": [
        "z_obs"
      ],
      "metadata": {
        "id": "jFQQTocYAK0u",
        "outputId": "f00e7f44-1820-46ac-9fef-306b6f51d0d2",
        "colab": {
          "base_uri": "https://localhost:8080/"
        }
      },
      "id": "jFQQTocYAK0u",
      "execution_count": 41,
      "outputs": [
        {
          "output_type": "execute_result",
          "data": {
            "text/plain": [
              "2.6644610922505323"
            ]
          },
          "metadata": {},
          "execution_count": 41
        }
      ]
    },
    {
      "cell_type": "markdown",
      "id": "2fa0d550",
      "metadata": {
        "id": "2fa0d550"
      },
      "source": [
        "Найдите критическое значение статистики. Сравните его с наблюдаемым. Рассчитайте p-value для ситуации с двусторонней альтернативой. Сделайте вывод о выдвинутой гипотезе. Критическое значение статистики запишите в переменную `z_crit`, а p-значение в переменную `pval`."
      ]
    },
    {
      "cell_type": "code",
      "execution_count": 42,
      "id": "afffe274",
      "metadata": {
        "id": "afffe274"
      },
      "outputs": [],
      "source": [
        "z_crit = sts.norm.ppf(1 - alpha / 2)      # критическое значение\n",
        "p_val =  2 * (1 - sts.norm.cdf(np.abs(z_obs))) # двухсторонняя"
      ]
    },
    {
      "cell_type": "code",
      "source": [
        "z_crit"
      ],
      "metadata": {
        "id": "wL_HDsm9AuSd",
        "outputId": "92ee0838-945d-4241-f018-c630f3713d49",
        "colab": {
          "base_uri": "https://localhost:8080/"
        }
      },
      "id": "wL_HDsm9AuSd",
      "execution_count": 43,
      "outputs": [
        {
          "output_type": "execute_result",
          "data": {
            "text/plain": [
              "1.959963984540054"
            ]
          },
          "metadata": {},
          "execution_count": 43
        }
      ]
    },
    {
      "cell_type": "code",
      "source": [
        "print(f'Наблюдаемое значение {z_obs:.4} больше критического {z_crit:.4} => нулевая гипотеза отвергается')"
      ],
      "metadata": {
        "id": "j66NcFY2BSJ5",
        "outputId": "1893d86b-0859-406b-be4c-79a0f31e0344",
        "colab": {
          "base_uri": "https://localhost:8080/"
        }
      },
      "id": "j66NcFY2BSJ5",
      "execution_count": 45,
      "outputs": [
        {
          "output_type": "stream",
          "name": "stdout",
          "text": [
            "Наблюдаемое значение 2.664 больше критического 1.96 => нулевая гипотеза отвергается\n"
          ]
        }
      ]
    },
    {
      "cell_type": "code",
      "source": [
        "p_val"
      ],
      "metadata": {
        "id": "rrBbd_LnAwKP",
        "outputId": "f68ae889-771e-40fa-8aa5-39bdb71a09c7",
        "colab": {
          "base_uri": "https://localhost:8080/"
        }
      },
      "id": "rrBbd_LnAwKP",
      "execution_count": 44,
      "outputs": [
        {
          "output_type": "execute_result",
          "data": {
            "text/plain": [
              "0.007711178605442903"
            ]
          },
          "metadata": {},
          "execution_count": 44
        }
      ]
    },
    {
      "cell_type": "markdown",
      "source": [
        "*Вывод*: гипотеза о том, что среднее число лайков не отличается отвергается."
      ],
      "metadata": {
        "id": "8C2GgblcCQr8"
      },
      "id": "8C2GgblcCQr8"
    },
    {
      "cell_type": "markdown",
      "id": "fb72f53a",
      "metadata": {
        "id": "fb72f53a"
      },
      "source": [
        "Можно заметить, что у распределения числа репостов длинные хвосты. В данных есть выбросы, которые завышают среднее значение. Если выбросы сильные, то ЦПТ может ломаться. Из-за этого имеет смысл в данном случае использовать другой критерий. Например, критерий Манна-Уитни.\n",
        "\n",
        "Найдите наблюдаемое значение статистики Манна-Уитни. Сравните его с критическим. Рассчитайте p-value для ситуации с двусторонней альтернативой. Сделайте вывод о выдвинутой гипотезе. Отличается ли полученный вывод от вывода\n",
        "z-теста?"
      ]
    },
    {
      "cell_type": "code",
      "execution_count": 46,
      "id": "47db495f",
      "metadata": {
        "id": "47db495f",
        "outputId": "a0d7cb73-9f8b-4d49-b0bf-6acadb2ced24",
        "colab": {
          "base_uri": "https://localhost:8080/"
        }
      },
      "outputs": [
        {
          "output_type": "execute_result",
          "data": {
            "text/plain": [
              "MannwhitneyuResult(statistic=8604129.5, pvalue=0.01004067464288777)"
            ]
          },
          "metadata": {},
          "execution_count": 46
        }
      ],
      "source": [
        "sts.mannwhitneyu(x, y, alternative='two-sided')"
      ]
    },
    {
      "cell_type": "markdown",
      "source": [
        "`p_val < alpha` значит нулевая гипотеза отвергается, среднее число лайков отличается.\n",
        "\n",
        "Сравнивая z-test и тест Манна-Уитни, стоит отметить, что z-test более уверен в том, что нужно отвергать нулевую гипотезу. Для z-test p-value=0.0077, а в тесте Манна-Уитни p-value=0.01."
      ],
      "metadata": {
        "id": "u3J_zrTDPVbt"
      },
      "id": "u3J_zrTDPVbt"
    },
    {
      "cell_type": "markdown",
      "id": "ec557ac8",
      "metadata": {
        "id": "ec557ac8"
      },
      "source": [
        "Проверьте гипотезу о мудрости с помощью бутстрапа. Нулевую гипотезу сформулируйте в терминах медиан."
      ]
    },
    {
      "cell_type": "code",
      "source": [
        "def calc_median(x, y, *args):\n",
        "    return np.median(x) - np.median(y)"
      ],
      "metadata": {
        "id": "AyBKLI3cQugK"
      },
      "id": "AyBKLI3cQugK",
      "execution_count": 47,
      "outputs": []
    },
    {
      "cell_type": "code",
      "execution_count": 48,
      "id": "038829cf",
      "metadata": {
        "id": "038829cf",
        "colab": {
          "base_uri": "https://localhost:8080/"
        },
        "outputId": "a859fd85-f612-413b-fbf3-0629af0e6e2d"
      },
      "outputs": [
        {
          "output_type": "execute_result",
          "data": {
            "text/plain": [
              "BootstrapResult(confidence_interval=ConfidenceInterval(low=11.5, high=168.5), bootstrap_distribution=array([ 96. ,  71.5,  98.5, ...,  39.5, 102. ,  88. ]), standard_error=40.248824178539294)"
            ]
          },
          "metadata": {},
          "execution_count": 48
        }
      ],
      "source": [
        "sts.bootstrap(data=(x, y), statistic=calc_median, method='basic', random_state=42)"
      ]
    },
    {
      "cell_type": "markdown",
      "source": [
        "Доверительный индервал (low=11.5, high=168.5) не содержит нуля, значит нулевая гипотеза отвергается (разность медиан не равна нулю). Расчитанных статистики (разность медиан) сильно отличаются от нуля.\n",
        "Бутстрап показал, что среднее число лайков отличается.\n",
        "\n",
        "\n",
        "Таким образом, все тесты подтвердили что среднее число лайков отличается."
      ],
      "metadata": {
        "id": "qGGLQ8TARlv_"
      },
      "id": "qGGLQ8TARlv_"
    },
    {
      "cell_type": "markdown",
      "id": "bd399171",
      "metadata": {
        "id": "bd399171"
      },
      "source": [
        "## [10 баллов] Задание 4 (мыши и зеркало)\n",
        "\n",
        "$16$ лабораторных мышей были помещены в двухкомнатные клетки, в одной из комнат висело зеркало. С целью установить, есть ли у мышей какие-то предпочтения насчет зеркал, измерялась доля времени, которое каждая мышь проводила в каждой из своих двух клеток.\n",
        "\n",
        "![](https://ars.els-cdn.com/content/image/1-s2.0-S0168159104000061-gr1.gif)\n",
        "\n",
        "В файле `mouses_mirror.txt` лежит информация о том, какую долю времени мышка проводила в клетке с зеркалом."
      ]
    },
    {
      "cell_type": "code",
      "execution_count": 4,
      "id": "8796d379",
      "metadata": {
        "id": "8796d379",
        "outputId": "85d480c0-ca57-4efa-8d2f-74729cfa7096",
        "colab": {
          "base_uri": "https://localhost:8080/",
          "height": 430
        }
      },
      "outputs": [
        {
          "output_type": "display_data",
          "data": {
            "text/plain": [
              "<Figure size 640x480 with 1 Axes>"
            ],
            "image/png": "[encoded data removed]"
          },
          "metadata": {}
        }
      ],
      "source": [
        "x = pd.read_csv('data/mouses_mirror.txt', header = None)[0].values\n",
        "plt.hist(x, density=True);"
      ]
    },
    {
      "cell_type": "markdown",
      "id": "a6e7a678",
      "metadata": {
        "id": "a6e7a678"
      },
      "source": [
        "Проверьте гипотезу о том, что мышкам безразлично в какой комнате проводить время с помощью критерия знаков. Сформулируйте нулевую гипотезу, перечислите основные особенности этого критерия. Запишите в переменную `pvalue_1` получившееся в результате этого $p$-значение."
      ]
    },
    {
      "cell_type": "markdown",
      "source": [
        "Критерий знаков\n",
        "\n",
        "H_0: медиана доли времени, проведенного в клетке с зеркалом, равна 0.5, т.е мышкам безразлично в какой комнате проводить время.\n",
        "\n",
        "\n",
        "H_1: медиана доли времени, проведенного в клетке с зеркалом, не равна 0.5, т.е мышкам не безразлично в какой комнате проводить время."
      ],
      "metadata": {
        "id": "gJ03AhYjagoz"
      },
      "id": "gJ03AhYjagoz"
    },
    {
      "cell_type": "markdown",
      "source": [
        "Основные особенности критерия знаков:\n",
        "1. Непараметрический критерий\n",
        "2. Критерий знаков позволяет проверять гипотезу о равенстве медианы и отсутствии сдвига в связных выборках\n",
        "3. Критерий знаков игнорирует величину изменений и обращает внимание только на её направление. Из за этого происходит потеря части информации о выборке.\n",
        "4. Выбросы в данных не будут оказывать влияние на результат\n",
        "5. Предположений о законе распределения не требуется"
      ],
      "metadata": {
        "id": "QS6s3PXCAJlK"
      },
      "id": "QS6s3PXCAJlK"
    },
    {
      "cell_type": "code",
      "execution_count": 5,
      "id": "922a754d",
      "metadata": {
        "id": "922a754d",
        "colab": {
          "base_uri": "https://localhost:8080/"
        },
        "outputId": "5854d466-0d33-4bbc-be53-f11bf170c6a3"
      },
      "outputs": [
        {
          "output_type": "stream",
          "name": "stdout",
          "text": [
            "наблюдаемое значение: -5.0\n",
            "p-val: 0.021271\n"
          ]
        }
      ],
      "source": [
        "from statsmodels.stats.descriptivestats import sign_test\n",
        "\n",
        "obs_1, pvalue_1 = sign_test(x, 0.5)\n",
        "\n",
        "print(f\"наблюдаемое значение: {obs_1:.5}\")\n",
        "print(f\"p-val: {pvalue_1:.5}\")\n"
      ]
    },
    {
      "cell_type": "markdown",
      "source": [
        "Если проверяем гипотезу на уровне значимости alpha=5%, то нулевая гипотеза отвергается, т.е. мышке не безразлично в какой комнате находиться. Но при уровне значимости alpha=1% нулевая гипотеза не отвергается."
      ],
      "metadata": {
        "id": "OqoWLpRiBKNX"
      },
      "id": "OqoWLpRiBKNX"
    },
    {
      "cell_type": "markdown",
      "id": "a696207c",
      "metadata": {
        "id": "a696207c"
      },
      "source": [
        "Проверьте гипотезу о том, что мышкам безразлично в какой комнате проводить время с помощью теста Вилкоксона. Сформулируйте нулевую гипотезу, перечислите основные особенности этого критерия.  Запишите в переменную `pvalue_2` получившееся в результате этого $p$-значение."
      ]
    },
    {
      "cell_type": "markdown",
      "source": [
        "Пусть t - доля времени, проведенная в комнате с зеркалом\n",
        "тогда\n",
        "\n",
        "H_0: $ med(t) = 0.5 $ - мышкам безразлично в какой комнате проводить время} \\\\\n",
        "H_1: $ med(t) \\neq 0.5 $ - мышкам не безразлично в какой комнате проводить время\n"
      ],
      "metadata": {
        "id": "QZNrAgGMBxE-"
      },
      "id": "QZNrAgGMBxE-"
    },
    {
      "cell_type": "markdown",
      "source": [
        "Основные особенности критерия Вилкоксона:\n",
        "1. Ранговый непараметрический критерий\n",
        "2. Ранговые критерии превращают выборку в ранги наблюдений и позволяют больше сохранить наблюдений\n",
        "3. Чтобы сохранить информацию, приходится делать дополнительные предположения. У Вилкоксона накладывается предположение, что выборка пришла из симметричного распределения относительно медианы.Это дополнительное предположение не особо сильное по сравнению с параметримечискими.\n",
        "4. Статистика Вилкоксона имеет табличное распределение"
      ],
      "metadata": {
        "id": "5RPi1I6fC1OC"
      },
      "id": "5RPi1I6fC1OC"
    },
    {
      "cell_type": "code",
      "source": [
        "obs_2, pvalue_2 = sts.wilcoxon(x - 0.5)\n",
        "\n",
        "print(f\"наблюдаемое значение: {obs_2:.5}\")\n",
        "print(f\"p-val: {pvalue_2:.5}\")\n"
      ],
      "metadata": {
        "colab": {
          "base_uri": "https://localhost:8080/"
        },
        "id": "SpYAyy5vCckE",
        "outputId": "22061c5d-f24e-43d9-e2ed-815cd9357d9e"
      },
      "id": "SpYAyy5vCckE",
      "execution_count": 6,
      "outputs": [
        {
          "output_type": "stream",
          "name": "stdout",
          "text": [
            "наблюдаемое значение: 35.0\n",
            "p-val: 0.093445\n"
          ]
        }
      ]
    },
    {
      "cell_type": "markdown",
      "source": [
        "Если проверяем гипотезу на уровне значимости alpha=10%, то нулевая гипотеза отвергается, т.е. мышке не безразлично в какой комнате находиться. Но при уровнях значимости alpha=1% или alpha=5%  нулевая гипотеза не отвергается."
      ],
      "metadata": {
        "id": "N1n6WH6ECpOk"
      },
      "id": "N1n6WH6ECpOk"
    },
    {
      "cell_type": "markdown",
      "id": "c86523d5",
      "metadata": {
        "id": "c86523d5"
      },
      "source": [
        "Проверьте гипотезу о том, что мышкам безразлично в какой комнате проводить время с помощью асимптотического $z$-теста. Сформулируйте нулевую гипотезу, перечислите основные особенности этого критерия.  Запишите в переменную `pvalue_3` получившееся в результате этого $p$-значение."
      ]
    },
    {
      "cell_type": "markdown",
      "source": [
        "Пусть t - доля времени, проведенная в комнате с зеркалом\n",
        "тогда\n",
        "\n",
        "H_0: $ t = 0.5 $ - мышкам безразлично в какой комнате проводить время} \\\\\n",
        "H_1: $ t \\neq 0.5 $ - мышкам не безразлично в какой комнате проводить время"
      ],
      "metadata": {
        "id": "4vEUGgaiFJCa"
      },
      "id": "4vEUGgaiFJCa"
    },
    {
      "cell_type": "markdown",
      "source": [
        "Основные особенности 𝑧 -критерия:\n",
        "- точный критерий\n",
        "- как и любой асимптиточеский критерий требует: наблюдения iid, отсутствие выбросов, большую выборку (Big Data, т.к критерий основан на ЦПТ).\n",
        "\n",
        "\n",
        "PS: в нашей выборке всего 16 наблюдений это не Big Data"
      ],
      "metadata": {
        "id": "rnPpWt2pFOv6"
      },
      "id": "rnPpWt2pFOv6"
    },
    {
      "cell_type": "code",
      "execution_count": 9,
      "id": "1a1a6be6",
      "metadata": {
        "id": "1a1a6be6",
        "outputId": "27637a02-c592-444a-d18d-0af2c7275fb9",
        "colab": {
          "base_uri": "https://localhost:8080/"
        }
      },
      "outputs": [
        {
          "output_type": "stream",
          "name": "stdout",
          "text": [
            "наблюдаемое значение: -1.4962\n",
            "p-val: 0.13461\n"
          ]
        }
      ],
      "source": [
        "from statsmodels.stats.weightstats import ztest\n",
        "\n",
        "z_obs, pvalue_3 = ztest(x, value=0.5)\n",
        "\n",
        "print(f\"наблюдаемое значение: {z_obs:.5}\")\n",
        "print(f\"p-val: {pvalue_3:.5}\")"
      ]
    },
    {
      "cell_type": "markdown",
      "source": [
        "Получается, что при любом разумном уровне значимости alpha=10% или alpha=5% или alpha=1% нулевая гипотеза не отвергается, т.е. мышкам безразлично в какой комнате находиться."
      ],
      "metadata": {
        "id": "Ez1qveexGMCb"
      },
      "id": "Ez1qveexGMCb"
    },
    {
      "cell_type": "code",
      "execution_count": 10,
      "id": "135a7e69",
      "metadata": {
        "id": "135a7e69"
      },
      "outputs": [],
      "source": [
        "# проверка того, что задание решено верно\n",
        "assert pvalue_1 < 0.05\n",
        "assert pvalue_2 > 0.05\n",
        "assert pvalue_3 > 0.05"
      ]
    },
    {
      "cell_type": "markdown",
      "id": "13b27ac4",
      "metadata": {
        "id": "13b27ac4"
      },
      "source": [
        "Объясните, почему `pvalue` от теста к тесту ведёт себя именно так. Подробнее про опыт с мышками читайте [в оригинальном исследовании.](https://www.sciencedirect.com/science/article/abs/pii/S0168159104000061)\n",
        "\n",
        "__Ответ:__\n",
        "\n",
        "Используя критерий знаков мы учитывали только знаки и в следствии чего теряли много информации и казалось, что разница есть. Однако при учете не только знаков, а также доли времени (ранговый критерий Вилкоксона или асимптотический z-тест), то стало ясно, что на самом деле мышке безразлично в какой комнате проводить время."
      ]
    },
    {
      "cell_type": "markdown",
      "id": "abaa42dd",
      "metadata": {
        "id": "abaa42dd"
      },
      "source": [
        "## [10 баллов] Задание 5 (ломаем тест Манна-Уитни)\n",
        "\n",
        "Придумайте пример, на котором тест Манна-Уитни не будет работать.\n",
        "\n",
        "__Hint:__ Главная предпосылка теста заключается в том, что распределение не меняется, но у него происходит сдвиг. Воспользуйтесь этим.\n",
        "\n",
        "\\begin{equation*}\n",
        "    \\begin{aligned}\n",
        "    & H_0: F_X(x) = F_Y(y) \\\\\n",
        "    & H_A: F_X(x) = F_Y(y + m), m \\ne 0\n",
        "    \\end{aligned}\n",
        "\\end{equation*}\n",
        "\n",
        "\n",
        "<center>\n",
        "<img src='https://raw.githubusercontent.com/hse-econ-data-science/andan_2023/main/sem12_more_ab/mw.png' align='center' width=\"300x\">\n",
        "</center>\n"
      ]
    },
    {
      "cell_type": "markdown",
      "source": [
        "Например, проводится А/Б тест проверяется воздействие на людей снотворного. Тест Манна-Уитни сломается в ситуации, если наше воздействие поляризовало людей. В таком случае тест MW его не поймает.\n",
        "Суть будет в том, что часть наблюдений уедет влево, часть - вправо, и в среднем ничего не поменяется."
      ],
      "metadata": {
        "id": "I4fZISqYLihK"
      },
      "id": "I4fZISqYLihK"
    },
    {
      "cell_type": "code",
      "execution_count": 22,
      "id": "ff364986",
      "metadata": {
        "id": "ff364986"
      },
      "outputs": [],
      "source": [
        "### ╰( ͡° ͜ʖ ͡° )つ▬▬ι═══════  bzzzzzzzzzz\n",
        "\n",
        "np.random.seed(seed=42)\n",
        "\n",
        "# генерируем нормальное стандартное распределение\n",
        "x_norm = sts.norm.rvs(size = 10**5, loc=0, scale=1, random_state=42)\n",
        "\n",
        "# генерируем бимодальное распределение\n",
        "sample1 = sts.norm.rvs(size=10**5, loc=-5, scale=1, random_state=42)\n",
        "sample2 = sts.norm.rvs(size=10**5, loc=5, scale=1, random_state=42)\n",
        "x_bimodal = np.random.choice(np.concatenate([sample1, sample2]),\n",
        "                             size=10**5)\n"
      ]
    },
    {
      "cell_type": "code",
      "source": [
        "fig, ax = plt.subplots(figsize = (15, 5))\n",
        "sns.histplot(x_norm, bins=50, label=\"$N(0, 1)$\", kde=True)\n",
        "sns.histplot(x_bimodal, bins=100, label=\"$0.5N(-5, 1) + 0.5N(5, 1)$\",  kde=True)\n",
        "plt.legend()\n",
        "plt.show()"
      ],
      "metadata": {
        "colab": {
          "base_uri": "https://localhost:8080/",
          "height": 445
        },
        "id": "xFSKlRZ5RujW",
        "outputId": "1c62c849-3c3e-42e2-bb22-bead48ebdeab"
      },
      "id": "xFSKlRZ5RujW",
      "execution_count": 25,
      "outputs": [
        {
          "output_type": "display_data",
          "data": {
            "text/plain": [
              "<Figure size 1500x500 with 1 Axes>"
            ],
            "image/png": "[encoded data removed]"
          },
          "metadata": {}
        }
      ]
    },
    {
      "cell_type": "markdown",
      "id": "6d13f614",
      "metadata": {
        "id": "6d13f614"
      },
      "source": [
        "## [10 баллов] Задание 6 (проблема подглядывания)\n",
        "\n",
        "Предположим, что мы отошли от классической схемы проведения АБ тестов и решили подводить итоги на уровне значимости 5% каждый день. Мы держим тест две недели. Если хотябы в один из дней p-value оказывается ниже $0.05,$ мы останавливаем тест и делаем выводы, что гипотеза не отвергается.\n",
        "\n",
        "Так делать нельзя. Это называется проблемой подглядывания. В случае такой процедуры уровень значимости выходит из-под контроля. Давайте убедимся в этом с помощью симуляций.\n",
        "\n",
        "- Запланируйте АБ-тест для долей таким образом, чтобы ошибка 1 и 2 рода были равны 5%. В качестве MDE возьмите любое значение.\n",
        "- Сгенерируйте нужное количество наблюдений. Разбейте его на 14 частей (тест идет 2 недели)\n",
        "- Проверяйте гипотезу каждый день и останавливайтесь, если она не отвергается\n",
        "- Какими оказались ошибки 1 и 2 рода в реальности?\n",
        "\n",
        "Симуляции надо провести отдельно для верности нулевой гипотезы и отдельно для верности альтернативной гипотезы."
      ]
    },
    {
      "cell_type": "code",
      "source": [
        "def get_count_simulations(mde, alpha, beta):\n",
        "    za = sts.norm().ppf(1 - alpha)\n",
        "    zb = sts.norm().ppf(1 - beta)\n",
        "    return int(np.ceil((za + zb) / mde)**2)"
      ],
      "metadata": {
        "id": "j40BzGPYcWbO"
      },
      "id": "j40BzGPYcWbO",
      "execution_count": 26,
      "outputs": []
    },
    {
      "cell_type": "code",
      "source": [
        "def create_group(p_0, p_a, size):\n",
        "    group_0 = np.random.binomial(n=1, p=p_0, size=size)\n",
        "    group_a = np.random.binomial(n=1, p=p_a, size=size)\n",
        "    return group_0, group_a"
      ],
      "metadata": {
        "id": "ckOboT5JcsuX"
      },
      "id": "ckOboT5JcsuX",
      "execution_count": 28,
      "outputs": []
    },
    {
      "cell_type": "code",
      "execution_count": null,
      "id": "a9047438",
      "metadata": {
        "id": "a9047438"
      },
      "outputs": [],
      "source": [
        "### ╰( ͡° ͜ʖ ͡° )つ▬▬ι═══════  bzzzzzzzzzz\n",
        "# will the code be with you\n",
        "\n",
        "# your code here\n"
      ]
    },
    {
      "cell_type": "markdown",
      "id": "635890af",
      "metadata": {
        "id": "635890af"
      },
      "source": [
        "## [20 баллов] Задание 7 (онлифанс)\n",
        "\n",
        "Эта задача на то, что ты выигрываешь или проигрываешь, если отказываешься от АБ-тестов и просто принимаешь решение об изенениях по среднему. Задание довольно творческое, так как способ симуляции вам предстоит придумать самостоятельно.\n",
        "\n",
        "У Аделины и Беллы есть аккаунты на онлифанс с конверсией $p=0.2\\%$. Они меняют вёрстки и смотрят, как дела с деньгами. Белла нанаяла аналитика и принимает решения об изменениях по $p-value < 0.05,$ а Аделина просто смотрит на среднее и катит по нему. Например, если на старом дизайне из тысячи посетителей только $299$ оставило копеечку, а на новом — $300$, берём новый. Если наоборот — оставляем старый.\n",
        "\n",
        "Пусть у каждой было $100$ правочек. Правочки одинаковые для обеих девушек. На них работает один и тот же фронтендер. Будем считать, что правочки независимы друг от друга. То есть, в какой бы момент мы не выкатили правочку, у нас всегда от неё будет одинаковое воздействие на конверсию. У каждой девушки было $100$ правочек. Кто после сотни правочек вырвется вперёд по конверсии?"
      ]
    },
    {
      "cell_type": "code",
      "source": [
        "def get_size_audience(mde, alpha, beta):\n",
        "    za = sts.norm().ppf(1 - alpha)\n",
        "    zb = sts.norm().ppf(1 - beta)\n",
        "    return int(np.ceil((za + zb) / mde)**2)\n",
        "\n",
        "def create_groups(p_0, p_a, size):\n",
        "    group_0 = np.random.binomial(n=1, p=p_0, size=size)\n",
        "    group_a = np.random.binomial(n=1, p=p_a, size=size)\n",
        "    return group_0, group_a"
      ],
      "metadata": {
        "id": "qUN3iVt4eeRo"
      },
      "id": "qUN3iVt4eeRo",
      "execution_count": 87,
      "outputs": []
    },
    {
      "cell_type": "markdown",
      "source": [
        "Допущения:\n",
        "1. Пусть у Аделины и Беллы одинаковое кол-во аудитории.\n",
        "2. Аделина считает конверсию (среднее) по всем людям в контрольной и тестовой группе и сравнивает их."
      ],
      "metadata": {
        "id": "DVAQ32xNfv3v"
      },
      "id": "DVAQ32xNfv3v"
    },
    {
      "cell_type": "markdown",
      "source": [
        "Проверка гипотезы для Беллы:\n",
        "\n",
        "Пусть\n",
        "$p_0$ - конверсии в старой версии (контрольная группа)\n",
        "$p_a$ - конверсии в новой версии (тестовая группа)\n",
        "\n",
        "$$\n",
        "\\begin{aligned}\n",
        "&H_0: \\hspace{2mm} p_0 = p_a \\hspace{2mm} \\text{новое изменение не повлияло на конверсию}\\\\\n",
        "&H_1: \\hspace{2mm} p_0 < p_a \\hspace{2mm} \\text{новое изменение увеличило конверсию}\n",
        "\\end{aligned}\n",
        "$$\n",
        "\n",
        "Гипотезы через MDE:\n",
        "$$\n",
        "\\begin{aligned}\n",
        "&H_0: \\hspace{2mm} MDE = 0 \\\\\n",
        "&H_1: \\hspace{2mm} MDE > 0\n",
        "\\end{aligned}\n",
        "$$"
      ],
      "metadata": {
        "id": "2X4zTMjQe57N"
      },
      "id": "2X4zTMjQe57N"
    },
    {
      "cell_type": "markdown",
      "source": [
        "Функции для принятия решений:"
      ],
      "metadata": {
        "id": "pdF32D2IimSf"
      },
      "id": "pdF32D2IimSf"
    },
    {
      "cell_type": "code",
      "source": [
        "def decision_adeline(group_0, group_a):\n",
        "  return np.mean(group_a) > np.mean(group_0)\n",
        "\n",
        "\n",
        "def decision_bella(group_0, group_a, alpha):\n",
        "    _, p_val = ztest(group_a, group_0, alternative='larger')\n",
        "    return p_val < alpha\n",
        "\n",
        "def simulations(n_simulations,\n",
        "                alpha,\n",
        "                conversion_rate,\n",
        "                audience_size_bella,\n",
        "                audience_size_adeline,\n",
        "                gen_conversions):\n",
        "\n",
        "    conversion_bella = conversion_rate\n",
        "    conversion_adeline = conversion_rate\n",
        "\n",
        "    for i in range(n_simulations):\n",
        "        new_conversion_bella = np.clip(conversion_bella + gen_conversions[i], 0, 1)\n",
        "        new_conversion_adeline = np.clip(conversion_adeline + gen_conversions[i], 0, 1)\n",
        "\n",
        "        g0_bella, ga_bella = create_groups(conversion_rate, new_conversion_bella, audience_size_bella)\n",
        "        g0_adeline, ga_adeline = create_groups(conversion_rate, new_conversion_adeline, audience_size_adeline)\n",
        "\n",
        "        if decision_bella(g0_bella, ga_bella, alpha):\n",
        "            conversion_bella = new_conversion_bella\n",
        "\n",
        "        if decision_adeline(g0_adeline, ga_adeline):\n",
        "            conversion_adeline = new_conversion_adeline\n",
        "\n",
        "    return conversion_bella, conversion_adeline"
      ],
      "metadata": {
        "id": "l0-zqKiIhNO0"
      },
      "id": "l0-zqKiIhNO0",
      "execution_count": 95,
      "outputs": []
    },
    {
      "cell_type": "markdown",
      "source": [
        "Проверим симуляции на разной аудитории Аделины: равно,  меньше и больше аудитории Беллы. А так же проверим влияние seed, чтобы убедиться, что результаты получились такими не из за определенного ГСЧ."
      ],
      "metadata": {
        "id": "oIEYX9856MKZ"
      },
      "id": "oIEYX9856MKZ"
    },
    {
      "cell_type": "code",
      "source": [
        "alpha = 0.05\n",
        "beta = 0.05\n",
        "\n",
        "p_0 = 0.002  # конверсия\n",
        "p_a = 0.005\n",
        "mde = p_a - p_0\n",
        "\n",
        "# требуемое количество наблюдений,\n",
        "# чтобы получить ошибки alpha и beta и заметить mde\n",
        "audience_size = get_size_audience(mde, alpha, beta)\n",
        "print('Количество наблюдений: ', audience_size)\n",
        "num_trials = 100  # Количество правок\n",
        "\n",
        "audience_size_bella = audience_size\n",
        "audience_size_less_bella = int(0.01 * audience_size_bella)\n",
        "audience_size_more_bella = audience_size_bella * 10\n",
        "audience_sizes_adeline = [audience_size_bella, audience_size_less_bella, audience_size_more_bella]"
      ],
      "metadata": {
        "colab": {
          "base_uri": "https://localhost:8080/"
        },
        "id": "LTZGBcHB5G8s",
        "outputId": "ec1550bf-7aef-4885-f215-cf25248bcae0"
      },
      "id": "LTZGBcHB5G8s",
      "execution_count": 96,
      "outputs": [
        {
          "output_type": "stream",
          "name": "stdout",
          "text": [
            "Количество наблюдений:  1203409\n"
          ]
        }
      ]
    },
    {
      "cell_type": "code",
      "execution_count": 99,
      "id": "63d607e7",
      "metadata": {
        "id": "63d607e7"
      },
      "outputs": [],
      "source": [
        "seeds = [42, 123, 228]\n",
        "\n",
        "results = []\n",
        "\n",
        "for seed in seeds:\n",
        "    # генерируем изменения конверсии из нормального распределения\n",
        "    gen_conversions = sts.norm.rvs(loc=0, scale=0.005, size=num_trials, random_state=seed)\n",
        "\n",
        "    for audience_size_adeline in audience_sizes_adeline:\n",
        "        conversion_bella, conversion_adeline = simulations(num_trials,\n",
        "                                                          alpha,\n",
        "                                                          p_0,\n",
        "                                                          audience_size_bella,\n",
        "                                                          audience_size_adeline,\n",
        "                                                          gen_conversions)\n",
        "\n",
        "        results.append({\n",
        "            'seed': seed,\n",
        "            'audience_size_bella': audience_size_bella,\n",
        "            'audience_size_adeline': audience_size_adeline,\n",
        "            'conversion_bella': conversion_bella,\n",
        "            'conversion_adeline': conversion_adeline,\n",
        "        })\n"
      ]
    },
    {
      "cell_type": "code",
      "source": [
        "df = pd.DataFrame(results)\n",
        "df"
      ],
      "metadata": {
        "colab": {
          "base_uri": "https://localhost:8080/",
          "height": 332
        },
        "id": "KdnECu8_1gQL",
        "outputId": "5a1bdb04-e854-4cd1-9702-f9cd9c7a2fc8"
      },
      "id": "KdnECu8_1gQL",
      "execution_count": 100,
      "outputs": [
        {
          "output_type": "execute_result",
          "data": {
            "text/plain": [
              "   seed  audience_size_bella  audience_size_adeline  conversion_bella  \\\n",
              "0    42              1203409                1203409          0.013655   \n",
              "1    42              1203409                  12034          0.013655   \n",
              "2    42              1203409               12034090          0.013655   \n",
              "3   123              1203409                1203409          0.049286   \n",
              "4   123              1203409                  12034          0.049286   \n",
              "5   123              1203409               12034090          0.049286   \n",
              "6   228              1203409                1203409          0.026643   \n",
              "7   228              1203409                  12034          0.026643   \n",
              "8   228              1203409               12034090          0.026278   \n",
              "\n",
              "   conversion_adeline  \n",
              "0            0.013655  \n",
              "1            0.013686  \n",
              "2            0.013655  \n",
              "3            0.049286  \n",
              "4            0.046818  \n",
              "5            0.049286  \n",
              "6            0.026278  \n",
              "7            0.025664  \n",
              "8            0.026278  "
            ],
            "text/html": [
              "\n",
              "  <div id=\"df-a82e7942-5e34-4462-8ba3-248c01499f56\">\n",
              "    <div class=\"colab-df-container\">\n",
              "      <div>\n",
              "<style scoped>\n",
              "    .dataframe tbody tr th:only-of-type {\n",
              "        vertical-align: middle;\n",
              "    }\n",
              "\n",
              "    .dataframe tbody tr th {\n",
              "        vertical-align: top;\n",
              "    }\n",
              "\n",
              "    .dataframe thead th {\n",
              "        text-align: right;\n",
              "    }\n",
              "</style>\n",
              "<table border=\"1\" class=\"dataframe\">\n",
              "  <thead>\n",
              "    <tr style=\"text-align: right;\">\n",
              "      <th></th>\n",
              "      <th>seed</th>\n",
              "      <th>audience_size_bella</th>\n",
              "      <th>audience_size_adeline</th>\n",
              "      <th>conversion_bella</th>\n",
              "      <th>conversion_adeline</th>\n",
              "    </tr>\n",
              "  </thead>\n",
              "  <tbody>\n",
              "    <tr>\n",
              "      <th>0</th>\n",
              "      <td>42</td>\n",
              "      <td>1203409</td>\n",
              "      <td>1203409</td>\n",
              "      <td>0.013655</td>\n",
              "      <td>0.013655</td>\n",
              "    </tr>\n",
              "    <tr>\n",
              "      <th>1</th>\n",
              "      <td>42</td>\n",
              "      <td>1203409</td>\n",
              "      <td>12034</td>\n",
              "      <td>0.013655</td>\n",
              "      <td>0.013686</td>\n",
              "    </tr>\n",
              "    <tr>\n",
              "      <th>2</th>\n",
              "      <td>42</td>\n",
              "      <td>1203409</td>\n",
              "      <td>12034090</td>\n",
              "      <td>0.013655</td>\n",
              "      <td>0.013655</td>\n",
              "    </tr>\n",
              "    <tr>\n",
              "      <th>3</th>\n",
              "      <td>123</td>\n",
              "      <td>1203409</td>\n",
              "      <td>1203409</td>\n",
              "      <td>0.049286</td>\n",
              "      <td>0.049286</td>\n",
              "    </tr>\n",
              "    <tr>\n",
              "      <th>4</th>\n",
              "      <td>123</td>\n",
              "      <td>1203409</td>\n",
              "      <td>12034</td>\n",
              "      <td>0.049286</td>\n",
              "      <td>0.046818</td>\n",
              "    </tr>\n",
              "    <tr>\n",
              "      <th>5</th>\n",
              "      <td>123</td>\n",
              "      <td>1203409</td>\n",
              "      <td>12034090</td>\n",
              "      <td>0.049286</td>\n",
              "      <td>0.049286</td>\n",
              "    </tr>\n",
              "    <tr>\n",
              "      <th>6</th>\n",
              "      <td>228</td>\n",
              "      <td>1203409</td>\n",
              "      <td>1203409</td>\n",
              "      <td>0.026643</td>\n",
              "      <td>0.026278</td>\n",
              "    </tr>\n",
              "    <tr>\n",
              "      <th>7</th>\n",
              "      <td>228</td>\n",
              "      <td>1203409</td>\n",
              "      <td>12034</td>\n",
              "      <td>0.026643</td>\n",
              "      <td>0.025664</td>\n",
              "    </tr>\n",
              "    <tr>\n",
              "      <th>8</th>\n",
              "      <td>228</td>\n",
              "      <td>1203409</td>\n",
              "      <td>12034090</td>\n",
              "      <td>0.026278</td>\n",
              "      <td>0.026278</td>\n",
              "    </tr>\n",
              "  </tbody>\n",
              "</table>\n",
              "</div>\n",
              "      <button class=\"colab-df-convert\" onclick=\"convertToInteractive('df-a82e7942-5e34-4462-8ba3-248c01499f56')\"\n",
              "              title=\"Convert this dataframe to an interactive table.\"\n",
              "              style=\"display:none;\">\n",
              "        \n",
              "  <svg xmlns=\"http://www.w3.org/2000/svg\" height=\"24px\"viewBox=\"0 0 24 24\"\n",
              "       width=\"24px\">\n",
              "    <path d=\"M0 0h24v24H0V0z\" fill=\"none\"/>\n",
              "    <path d=\"M18.56 5.44l.94 2.06.94-2.06 2.06-.94-2.06-.94-.94-2.06-.94 2.06-2.06.94zm-11 1L8.5 8.5l.94-2.06 2.06-.94-2.06-.94L8.5 2.5l-.94 2.06-2.06.94zm10 10l.94 2.06.94-2.06 2.06-.94-2.06-.94-.94-2.06-.94 2.06-2.06.94z\"/><path d=\"M17.41 7.96l-1.37-1.37c-.4-.4-.92-.59-1.43-.59-.52 0-1.04.2-1.43.59L10.3 9.45l-7.72 7.72c-.78.78-.78 2.05 0 2.83L4 21.41c.39.39.9.59 1.41.59.51 0 1.02-.2 1.41-.59l7.78-7.78 2.81-2.81c.8-.78.8-2.07 0-2.86zM5.41 20L4 18.59l7.72-7.72 1.47 1.35L5.41 20z\"/>\n",
              "  </svg>\n",
              "      </button>\n",
              "      \n",
              "  <style>\n",
              "    .colab-df-container {\n",
              "      display:flex;\n",
              "      flex-wrap:wrap;\n",
              "      gap: 12px;\n",
              "    }\n",
              "\n",
              "    .colab-df-convert {\n",
              "      background-color: #E8F0FE;\n",
              "      border: none;\n",
              "      border-radius: 50%;\n",
              "      cursor: pointer;\n",
              "      display: none;\n",
              "      fill: #1967D2;\n",
              "      height: 32px;\n",
              "      padding: 0 0 0 0;\n",
              "      width: 32px;\n",
              "    }\n",
              "\n",
              "    .colab-df-convert:hover {\n",
              "      background-color: #E2EBFA;\n",
              "      box-shadow: 0px 1px 2px rgba(60, 64, 67, 0.3), 0px 1px 3px 1px rgba(60, 64, 67, 0.15);\n",
              "      fill: #174EA6;\n",
              "    }\n",
              "\n",
              "    [theme=dark] .colab-df-convert {\n",
              "      background-color: #3B4455;\n",
              "      fill: #D2E3FC;\n",
              "    }\n",
              "\n",
              "    [theme=dark] .colab-df-convert:hover {\n",
              "      background-color: #434B5C;\n",
              "      box-shadow: 0px 1px 3px 1px rgba(0, 0, 0, 0.15);\n",
              "      filter: drop-shadow(0px 1px 2px rgba(0, 0, 0, 0.3));\n",
              "      fill: #FFFFFF;\n",
              "    }\n",
              "  </style>\n",
              "\n",
              "      <script>\n",
              "        const buttonEl =\n",
              "          document.querySelector('#df-a82e7942-5e34-4462-8ba3-248c01499f56 button.colab-df-convert');\n",
              "        buttonEl.style.display =\n",
              "          google.colab.kernel.accessAllowed ? 'block' : 'none';\n",
              "\n",
              "        async function convertToInteractive(key) {\n",
              "          const element = document.querySelector('#df-a82e7942-5e34-4462-8ba3-248c01499f56');\n",
              "          const dataTable =\n",
              "            await google.colab.kernel.invokeFunction('convertToInteractive',\n",
              "                                                     [key], {});\n",
              "          if (!dataTable) return;\n",
              "\n",
              "          const docLinkHtml = 'Like what you see? Visit the ' +\n",
              "            '<a target=\"_blank\" href=https://colab.research.google.com/notebooks/data_table.ipynb>data table notebook</a>'\n",
              "            + ' to learn more about interactive tables.';\n",
              "          element.innerHTML = '';\n",
              "          dataTable['output_type'] = 'display_data';\n",
              "          await google.colab.output.renderOutput(dataTable, element);\n",
              "          const docLink = document.createElement('div');\n",
              "          docLink.innerHTML = docLinkHtml;\n",
              "          element.appendChild(docLink);\n",
              "        }\n",
              "      </script>\n",
              "    </div>\n",
              "  </div>\n",
              "  "
            ]
          },
          "metadata": {},
          "execution_count": 100
        }
      ]
    },
    {
      "cell_type": "markdown",
      "source": [
        "Вывод:\n",
        "\n",
        "1. Если сравнивать одинаковый размер аудитории, то конверсии примерно равны. (отличаются не сильно на seed=228)\n",
        "2. Если учитывать что размер аудитории Беллы больше, то при seed=123 и seed=228 конверсия Беллы выше. Скорее всего в меньшую выборку Аделины попадают выбросы или среднее может быть смещено. И Аделина чаще принимает неверные решения.\n",
        "3. Если учитывать, что размер аудитории Аделины в 10 раз больше, то разницы между принимаемые решениями нет, конверсии примерно равны. Выборку Аделины, я думаю можно назвать Big Dat'ой."
      ],
      "metadata": {
        "id": "ajjPdiiX87tG"
      },
      "id": "ajjPdiiX87tG"
    }
  ],
  "metadata": {
    "kernelspec": {
      "display_name": "Python 3 (ipykernel)",
      "language": "python",
      "name": "python3"
    },
    "language_info": {
      "codemirror_mode": {
        "name": "ipython",
        "version": 3
      },
      "file_extension": ".py",
      "mimetype": "text/x-python",
      "name": "python",
      "nbconvert_exporter": "python",
      "pygments_lexer": "ipython3",
      "version": "3.10.9"
    },
    "colab": {
      "provenance": []
    }
  },
  "nbformat": 4,
  "nbformat_minor": 5
}