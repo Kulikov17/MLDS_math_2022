{
  "cells": [
    {
      "cell_type": "markdown",
      "id": "9074d943",
      "metadata": {
        "id": "9074d943"
      },
      "source": [
        "<center>\n",
        "<img src=\"https://camo.githubusercontent.com/ad20aaaa48264581c46aa126919dbb72060ebd98cffe015523549b4974843ae5/68747470733a2f2f7261772e67697468756275736572636f6e74656e742e636f6d2f46556c79616e6b696e2f725f70726f626162696c6974792f6d61737465722f656e645f73656d696e6172732f73656d5f362f73747564656e745f746561636865725f646973742e706e67\" height=\"200\"> \n",
        "\n",
        "# Прикладаная статистика: домашнее задание 2\n",
        "</center>\n",
        "\n",
        "> скрррааа па па ка ка ка скидики па па энд э пу пу дррр бум скьа ду ду ку ку тун тун пум пум\n",
        "\n",
        "$\\qquad$ [БутcРэп](https://www.youtube.com/watch?v=eE4qxB2E8d4)\n"
      ]
    },
    {
      "cell_type": "markdown",
      "id": "153348a7",
      "metadata": {
        "id": "153348a7"
      },
      "source": [
        "**ФИО:** Куликов Дмитрий Алексеевич"
      ]
    },
    {
      "cell_type": "markdown",
      "id": "f40dc119",
      "metadata": {
        "id": "f40dc119"
      },
      "source": [
        "## Общая информация\n",
        "\n",
        "\n",
        "__Дата выдачи:__ 23.04.2022\n",
        "\n",
        "__Дедлайн:__ 23:59MSK 14.05.2022"
      ]
    },
    {
      "cell_type": "markdown",
      "id": "58abed2e",
      "metadata": {
        "id": "58abed2e"
      },
      "source": [
        "## Формат сдачи\n",
        "\n",
        "Сам ноутбук называйте в формате hw-01-USERNAME.ipynb, где USERNAME — ваши фамилия и имя. Файл надо будет, как обычно, сдать в anytask."
      ]
    },
    {
      "cell_type": "markdown",
      "id": "23434b16",
      "metadata": {
        "id": "23434b16"
      },
      "source": [
        "## Оформление"
      ]
    },
    {
      "cell_type": "markdown",
      "id": "9ec5a430",
      "metadata": {
        "id": "9ec5a430"
      },
      "source": [
        "В этом домашнем задании мы будем проверять гипотезы. Во всех задачах подробно обосновывайте выбор критерия для проверки гипотезы и делайте выводы."
      ]
    },
    {
      "cell_type": "code",
      "execution_count": 1,
      "id": "154ad6fa",
      "metadata": {
        "id": "154ad6fa"
      },
      "outputs": [],
      "source": [
        "import numpy as np\n",
        "import pandas as pd\n",
        "\n",
        "from scipy import stats as sts\n",
        "\n",
        "import seaborn as sns\n",
        "import matplotlib.pyplot as plt"
      ]
    },
    {
      "cell_type": "markdown",
      "id": "b4a9c38f",
      "metadata": {
        "id": "b4a9c38f"
      },
      "source": [
        "## [10 баллов] Задание 1 (рейтинги президентов) \n",
        "\n",
        "В таблице `presidents.csv` представлены рейтинги различных президентов США (интересно, почему не российских). Социальные опросы проводились раз в квартал. Опрашивалась случайная выборка граждан. У каждого спрашивалось одобряет ли он деятельность президента.\n",
        "\n",
        "Ричард Никсон был президентом США с 20 января 1969 года по 9 августа 1974 года. 17 июня 1972 года произошёл Уотергейтский скандал. Давайте проанализируем, что при этом произошло с его рейтингом."
      ]
    },
    {
      "cell_type": "code",
      "execution_count": null,
      "id": "82891bdd",
      "metadata": {
        "id": "82891bdd",
        "outputId": "e0ce31b9-6b95-4e19-981a-559f963a0646",
        "colab": {
          "base_uri": "https://localhost:8080/",
          "height": 206
        }
      },
      "outputs": [
        {
          "output_type": "execute_result",
          "data": {
            "text/plain": [
              "   year  Qtr1  Qtr2  Qtr3  Qtr4\n",
              "0  1945   NaN    87  82.0  75.0\n",
              "1  1946  63.0    50  43.0  32.0\n",
              "2  1947  35.0    60  54.0  55.0\n",
              "3  1948  36.0    39   NaN   NaN\n",
              "4  1949  69.0    57  57.0  51.0"
            ],
            "text/html": [
              "\n",
              "  <div id=\"df-b8989c1c-8023-49ad-9ac7-d624ff9442f5\">\n",
              "    <div class=\"colab-df-container\">\n",
              "      <div>\n",
              "<style scoped>\n",
              "    .dataframe tbody tr th:only-of-type {\n",
              "        vertical-align: middle;\n",
              "    }\n",
              "\n",
              "    .dataframe tbody tr th {\n",
              "        vertical-align: top;\n",
              "    }\n",
              "\n",
              "    .dataframe thead th {\n",
              "        text-align: right;\n",
              "    }\n",
              "</style>\n",
              "<table border=\"1\" class=\"dataframe\">\n",
              "  <thead>\n",
              "    <tr style=\"text-align: right;\">\n",
              "      <th></th>\n",
              "      <th>year</th>\n",
              "      <th>Qtr1</th>\n",
              "      <th>Qtr2</th>\n",
              "      <th>Qtr3</th>\n",
              "      <th>Qtr4</th>\n",
              "    </tr>\n",
              "  </thead>\n",
              "  <tbody>\n",
              "    <tr>\n",
              "      <th>0</th>\n",
              "      <td>1945</td>\n",
              "      <td>NaN</td>\n",
              "      <td>87</td>\n",
              "      <td>82.0</td>\n",
              "      <td>75.0</td>\n",
              "    </tr>\n",
              "    <tr>\n",
              "      <th>1</th>\n",
              "      <td>1946</td>\n",
              "      <td>63.0</td>\n",
              "      <td>50</td>\n",
              "      <td>43.0</td>\n",
              "      <td>32.0</td>\n",
              "    </tr>\n",
              "    <tr>\n",
              "      <th>2</th>\n",
              "      <td>1947</td>\n",
              "      <td>35.0</td>\n",
              "      <td>60</td>\n",
              "      <td>54.0</td>\n",
              "      <td>55.0</td>\n",
              "    </tr>\n",
              "    <tr>\n",
              "      <th>3</th>\n",
              "      <td>1948</td>\n",
              "      <td>36.0</td>\n",
              "      <td>39</td>\n",
              "      <td>NaN</td>\n",
              "      <td>NaN</td>\n",
              "    </tr>\n",
              "    <tr>\n",
              "      <th>4</th>\n",
              "      <td>1949</td>\n",
              "      <td>69.0</td>\n",
              "      <td>57</td>\n",
              "      <td>57.0</td>\n",
              "      <td>51.0</td>\n",
              "    </tr>\n",
              "  </tbody>\n",
              "</table>\n",
              "</div>\n",
              "      <button class=\"colab-df-convert\" onclick=\"convertToInteractive('df-b8989c1c-8023-49ad-9ac7-d624ff9442f5')\"\n",
              "              title=\"Convert this dataframe to an interactive table.\"\n",
              "              style=\"display:none;\">\n",
              "        \n",
              "  <svg xmlns=\"http://www.w3.org/2000/svg\" height=\"24px\"viewBox=\"0 0 24 24\"\n",
              "       width=\"24px\">\n",
              "    <path d=\"M0 0h24v24H0V0z\" fill=\"none\"/>\n",
              "    <path d=\"M18.56 5.44l.94 2.06.94-2.06 2.06-.94-2.06-.94-.94-2.06-.94 2.06-2.06.94zm-11 1L8.5 8.5l.94-2.06 2.06-.94-2.06-.94L8.5 2.5l-.94 2.06-2.06.94zm10 10l.94 2.06.94-2.06 2.06-.94-2.06-.94-.94-2.06-.94 2.06-2.06.94z\"/><path d=\"M17.41 7.96l-1.37-1.37c-.4-.4-.92-.59-1.43-.59-.52 0-1.04.2-1.43.59L10.3 9.45l-7.72 7.72c-.78.78-.78 2.05 0 2.83L4 21.41c.39.39.9.59 1.41.59.51 0 1.02-.2 1.41-.59l7.78-7.78 2.81-2.81c.8-.78.8-2.07 0-2.86zM5.41 20L4 18.59l7.72-7.72 1.47 1.35L5.41 20z\"/>\n",
              "  </svg>\n",
              "      </button>\n",
              "      \n",
              "  <style>\n",
              "    .colab-df-container {\n",
              "      display:flex;\n",
              "      flex-wrap:wrap;\n",
              "      gap: 12px;\n",
              "    }\n",
              "\n",
              "    .colab-df-convert {\n",
              "      background-color: #E8F0FE;\n",
              "      border: none;\n",
              "      border-radius: 50%;\n",
              "      cursor: pointer;\n",
              "      display: none;\n",
              "      fill: #1967D2;\n",
              "      height: 32px;\n",
              "      padding: 0 0 0 0;\n",
              "      width: 32px;\n",
              "    }\n",
              "\n",
              "    .colab-df-convert:hover {\n",
              "      background-color: #E2EBFA;\n",
              "      box-shadow: 0px 1px 2px rgba(60, 64, 67, 0.3), 0px 1px 3px 1px rgba(60, 64, 67, 0.15);\n",
              "      fill: #174EA6;\n",
              "    }\n",
              "\n",
              "    [theme=dark] .colab-df-convert {\n",
              "      background-color: #3B4455;\n",
              "      fill: #D2E3FC;\n",
              "    }\n",
              "\n",
              "    [theme=dark] .colab-df-convert:hover {\n",
              "      background-color: #434B5C;\n",
              "      box-shadow: 0px 1px 3px 1px rgba(0, 0, 0, 0.15);\n",
              "      filter: drop-shadow(0px 1px 2px rgba(0, 0, 0, 0.3));\n",
              "      fill: #FFFFFF;\n",
              "    }\n",
              "  </style>\n",
              "\n",
              "      <script>\n",
              "        const buttonEl =\n",
              "          document.querySelector('#df-b8989c1c-8023-49ad-9ac7-d624ff9442f5 button.colab-df-convert');\n",
              "        buttonEl.style.display =\n",
              "          google.colab.kernel.accessAllowed ? 'block' : 'none';\n",
              "\n",
              "        async function convertToInteractive(key) {\n",
              "          const element = document.querySelector('#df-b8989c1c-8023-49ad-9ac7-d624ff9442f5');\n",
              "          const dataTable =\n",
              "            await google.colab.kernel.invokeFunction('convertToInteractive',\n",
              "                                                     [key], {});\n",
              "          if (!dataTable) return;\n",
              "\n",
              "          const docLinkHtml = 'Like what you see? Visit the ' +\n",
              "            '<a target=\"_blank\" href=https://colab.research.google.com/notebooks/data_table.ipynb>data table notebook</a>'\n",
              "            + ' to learn more about interactive tables.';\n",
              "          element.innerHTML = '';\n",
              "          dataTable['output_type'] = 'display_data';\n",
              "          await google.colab.output.renderOutput(dataTable, element);\n",
              "          const docLink = document.createElement('div');\n",
              "          docLink.innerHTML = docLinkHtml;\n",
              "          element.appendChild(docLink);\n",
              "        }\n",
              "      </script>\n",
              "    </div>\n",
              "  </div>\n",
              "  "
            ]
          },
          "metadata": {},
          "execution_count": 3
        }
      ],
      "source": [
        "df = pd.read_csv('data/presidents.csv')\n",
        "df.head()"
      ]
    },
    {
      "cell_type": "markdown",
      "id": "c87d176d",
      "metadata": {
        "id": "c87d176d"
      },
      "source": [
        "Чтобы привести таблицу к удобному виду используйте функцию `pd.melt`. Вытащите из таблички рейтинг Никсона с 1 квартала 1969 года по 2 квартал 1972 года (включая его). Запишите эти данные в переменную `x`. Рейтинг с 3 квартала 1972 года по 2 квартал 1974 года поместите в переменную `y`. Пропуски в данных удалите из выборки."
      ]
    },
    {
      "cell_type": "code",
      "source": [
        "df_melted = pd.melt(df, \n",
        "                    id_vars=['year'],\n",
        "                    value_vars=['Qtr1', 'Qtr2', 'Qtr3', 'Qtr4'],\n",
        "                    var_name='Qtr', \n",
        "                    value_name='Rating').sort_values(by=['year', 'Qtr'])"
      ],
      "metadata": {
        "id": "MVSZGiqn3edW"
      },
      "id": "MVSZGiqn3edW",
      "execution_count": null,
      "outputs": []
    },
    {
      "cell_type": "code",
      "source": [
        "df_melted"
      ],
      "metadata": {
        "colab": {
          "base_uri": "https://localhost:8080/",
          "height": 424
        },
        "id": "EOlXWSqG48S0",
        "outputId": "a9cf2764-31e3-4d6d-8d38-b0a107fd0e10"
      },
      "id": "EOlXWSqG48S0",
      "execution_count": null,
      "outputs": [
        {
          "output_type": "execute_result",
          "data": {
            "text/plain": [
              "     year   Qtr  Rating\n",
              "0    1945  Qtr1     NaN\n",
              "30   1945  Qtr2    87.0\n",
              "60   1945  Qtr3    82.0\n",
              "90   1945  Qtr4    75.0\n",
              "1    1946  Qtr1    63.0\n",
              "..    ...   ...     ...\n",
              "118  1973  Qtr4    27.0\n",
              "29   1974  Qtr1    28.0\n",
              "59   1974  Qtr2    25.0\n",
              "89   1974  Qtr3    24.0\n",
              "119  1974  Qtr4    24.0\n",
              "\n",
              "[120 rows x 3 columns]"
            ],
            "text/html": [
              "\n",
              "  <div id=\"df-5e6d0ffb-9960-4006-9d42-eda7f813ac4e\">\n",
              "    <div class=\"colab-df-container\">\n",
              "      <div>\n",
              "<style scoped>\n",
              "    .dataframe tbody tr th:only-of-type {\n",
              "        vertical-align: middle;\n",
              "    }\n",
              "\n",
              "    .dataframe tbody tr th {\n",
              "        vertical-align: top;\n",
              "    }\n",
              "\n",
              "    .dataframe thead th {\n",
              "        text-align: right;\n",
              "    }\n",
              "</style>\n",
              "<table border=\"1\" class=\"dataframe\">\n",
              "  <thead>\n",
              "    <tr style=\"text-align: right;\">\n",
              "      <th></th>\n",
              "      <th>year</th>\n",
              "      <th>Qtr</th>\n",
              "      <th>Rating</th>\n",
              "    </tr>\n",
              "  </thead>\n",
              "  <tbody>\n",
              "    <tr>\n",
              "      <th>0</th>\n",
              "      <td>1945</td>\n",
              "      <td>Qtr1</td>\n",
              "      <td>NaN</td>\n",
              "    </tr>\n",
              "    <tr>\n",
              "      <th>30</th>\n",
              "      <td>1945</td>\n",
              "      <td>Qtr2</td>\n",
              "      <td>87.0</td>\n",
              "    </tr>\n",
              "    <tr>\n",
              "      <th>60</th>\n",
              "      <td>1945</td>\n",
              "      <td>Qtr3</td>\n",
              "      <td>82.0</td>\n",
              "    </tr>\n",
              "    <tr>\n",
              "      <th>90</th>\n",
              "      <td>1945</td>\n",
              "      <td>Qtr4</td>\n",
              "      <td>75.0</td>\n",
              "    </tr>\n",
              "    <tr>\n",
              "      <th>1</th>\n",
              "      <td>1946</td>\n",
              "      <td>Qtr1</td>\n",
              "      <td>63.0</td>\n",
              "    </tr>\n",
              "    <tr>\n",
              "      <th>...</th>\n",
              "      <td>...</td>\n",
              "      <td>...</td>\n",
              "      <td>...</td>\n",
              "    </tr>\n",
              "    <tr>\n",
              "      <th>118</th>\n",
              "      <td>1973</td>\n",
              "      <td>Qtr4</td>\n",
              "      <td>27.0</td>\n",
              "    </tr>\n",
              "    <tr>\n",
              "      <th>29</th>\n",
              "      <td>1974</td>\n",
              "      <td>Qtr1</td>\n",
              "      <td>28.0</td>\n",
              "    </tr>\n",
              "    <tr>\n",
              "      <th>59</th>\n",
              "      <td>1974</td>\n",
              "      <td>Qtr2</td>\n",
              "      <td>25.0</td>\n",
              "    </tr>\n",
              "    <tr>\n",
              "      <th>89</th>\n",
              "      <td>1974</td>\n",
              "      <td>Qtr3</td>\n",
              "      <td>24.0</td>\n",
              "    </tr>\n",
              "    <tr>\n",
              "      <th>119</th>\n",
              "      <td>1974</td>\n",
              "      <td>Qtr4</td>\n",
              "      <td>24.0</td>\n",
              "    </tr>\n",
              "  </tbody>\n",
              "</table>\n",
              "<p>120 rows × 3 columns</p>\n",
              "</div>\n",
              "      <button class=\"colab-df-convert\" onclick=\"convertToInteractive('df-5e6d0ffb-9960-4006-9d42-eda7f813ac4e')\"\n",
              "              title=\"Convert this dataframe to an interactive table.\"\n",
              "              style=\"display:none;\">\n",
              "        \n",
              "  <svg xmlns=\"http://www.w3.org/2000/svg\" height=\"24px\"viewBox=\"0 0 24 24\"\n",
              "       width=\"24px\">\n",
              "    <path d=\"M0 0h24v24H0V0z\" fill=\"none\"/>\n",
              "    <path d=\"M18.56 5.44l.94 2.06.94-2.06 2.06-.94-2.06-.94-.94-2.06-.94 2.06-2.06.94zm-11 1L8.5 8.5l.94-2.06 2.06-.94-2.06-.94L8.5 2.5l-.94 2.06-2.06.94zm10 10l.94 2.06.94-2.06 2.06-.94-2.06-.94-.94-2.06-.94 2.06-2.06.94z\"/><path d=\"M17.41 7.96l-1.37-1.37c-.4-.4-.92-.59-1.43-.59-.52 0-1.04.2-1.43.59L10.3 9.45l-7.72 7.72c-.78.78-.78 2.05 0 2.83L4 21.41c.39.39.9.59 1.41.59.51 0 1.02-.2 1.41-.59l7.78-7.78 2.81-2.81c.8-.78.8-2.07 0-2.86zM5.41 20L4 18.59l7.72-7.72 1.47 1.35L5.41 20z\"/>\n",
              "  </svg>\n",
              "      </button>\n",
              "      \n",
              "  <style>\n",
              "    .colab-df-container {\n",
              "      display:flex;\n",
              "      flex-wrap:wrap;\n",
              "      gap: 12px;\n",
              "    }\n",
              "\n",
              "    .colab-df-convert {\n",
              "      background-color: #E8F0FE;\n",
              "      border: none;\n",
              "      border-radius: 50%;\n",
              "      cursor: pointer;\n",
              "      display: none;\n",
              "      fill: #1967D2;\n",
              "      height: 32px;\n",
              "      padding: 0 0 0 0;\n",
              "      width: 32px;\n",
              "    }\n",
              "\n",
              "    .colab-df-convert:hover {\n",
              "      background-color: #E2EBFA;\n",
              "      box-shadow: 0px 1px 2px rgba(60, 64, 67, 0.3), 0px 1px 3px 1px rgba(60, 64, 67, 0.15);\n",
              "      fill: #174EA6;\n",
              "    }\n",
              "\n",
              "    [theme=dark] .colab-df-convert {\n",
              "      background-color: #3B4455;\n",
              "      fill: #D2E3FC;\n",
              "    }\n",
              "\n",
              "    [theme=dark] .colab-df-convert:hover {\n",
              "      background-color: #434B5C;\n",
              "      box-shadow: 0px 1px 3px 1px rgba(0, 0, 0, 0.15);\n",
              "      filter: drop-shadow(0px 1px 2px rgba(0, 0, 0, 0.3));\n",
              "      fill: #FFFFFF;\n",
              "    }\n",
              "  </style>\n",
              "\n",
              "      <script>\n",
              "        const buttonEl =\n",
              "          document.querySelector('#df-5e6d0ffb-9960-4006-9d42-eda7f813ac4e button.colab-df-convert');\n",
              "        buttonEl.style.display =\n",
              "          google.colab.kernel.accessAllowed ? 'block' : 'none';\n",
              "\n",
              "        async function convertToInteractive(key) {\n",
              "          const element = document.querySelector('#df-5e6d0ffb-9960-4006-9d42-eda7f813ac4e');\n",
              "          const dataTable =\n",
              "            await google.colab.kernel.invokeFunction('convertToInteractive',\n",
              "                                                     [key], {});\n",
              "          if (!dataTable) return;\n",
              "\n",
              "          const docLinkHtml = 'Like what you see? Visit the ' +\n",
              "            '<a target=\"_blank\" href=https://colab.research.google.com/notebooks/data_table.ipynb>data table notebook</a>'\n",
              "            + ' to learn more about interactive tables.';\n",
              "          element.innerHTML = '';\n",
              "          dataTable['output_type'] = 'display_data';\n",
              "          await google.colab.output.renderOutput(dataTable, element);\n",
              "          const docLink = document.createElement('div');\n",
              "          docLink.innerHTML = docLinkHtml;\n",
              "          element.appendChild(docLink);\n",
              "        }\n",
              "      </script>\n",
              "    </div>\n",
              "  </div>\n",
              "  "
            ]
          },
          "metadata": {},
          "execution_count": 40
        }
      ]
    },
    {
      "cell_type": "code",
      "source": [
        "x = pd.concat([\n",
        "    df_melted.loc[(df_melted['year'] >= 1969) & (df_melted['year'] < 1972)],\n",
        "    df_melted.loc[(df_melted['year'] == 1972) & (df_melted['Qtr'].isin(['Qtr1', 'Qtr2']))],\n",
        "])['Rating'].dropna().to_numpy()"
      ],
      "metadata": {
        "id": "vCigAYxu5rkg"
      },
      "id": "vCigAYxu5rkg",
      "execution_count": null,
      "outputs": []
    },
    {
      "cell_type": "code",
      "source": [
        "y = pd.concat([\n",
        "    df_melted.loc[(df_melted['year'] == 1972) & (df_melted['Qtr'].isin(['Qtr3', 'Qtr4']))],\n",
        "    df_melted.loc[(df_melted['year'] > 1972) & (df_melted['year'] < 1974)],\n",
        "    df_melted.loc[(df_melted['year'] == 1974) & (df_melted['Qtr'].isin(['Qtr1', 'Qtr2']))],\n",
        "])['Rating'].dropna().to_numpy()"
      ],
      "metadata": {
        "id": "8f3U8Jxe-lNM"
      },
      "id": "8f3U8Jxe-lNM",
      "execution_count": null,
      "outputs": []
    },
    {
      "cell_type": "markdown",
      "id": "fd439aca",
      "metadata": {
        "id": "fd439aca"
      },
      "source": [
        "Правда ли, что после скандала средний рейтинг Никсона рухнул? Предполагайте, что рейтинг распределён нормально, а также, что дисперсия рейтинга не изменилась из-за скандала. Наблюдаемое значение статистики запишите в переменную `obs`, в переменную `pval` запишите $p$-значение."
      ]
    },
    {
      "cell_type": "markdown",
      "source": [
        "Проверка гипотезы о средних. Выборки независимые, нормально распределенны. Дисперсия не известны, но равны.\n",
        "\n",
        "$$\n",
        "\\begin{aligned}\n",
        "&H_0: \\hspace{2mm} \\mu_1 = \\mu_2 \\hspace{2mm} \\text{Рейтинг не изменился} \\\\\n",
        "&H_1: \\hspace{2mm} \\mu_1 > \\mu_2  \\hspace{2mm} \\text{Рейтинг упал}\n",
        "\\end{aligned}\n",
        "$$"
      ],
      "metadata": {
        "id": "dBrzN6tIEuUe"
      },
      "id": "dBrzN6tIEuUe"
    },
    {
      "cell_type": "markdown",
      "source": [
        "Гипотезу проверяю на уровне значимости 5%"
      ],
      "metadata": {
        "id": "vQdzn6sdOBaW"
      },
      "id": "vQdzn6sdOBaW"
    },
    {
      "cell_type": "code",
      "source": [
        "alpha = 0.05                                          # уровень значимости = 5%\n",
        "nx, ny = x.size, y.size                               # размер выборок\n",
        "diff = x.mean() - y.mean()                            # разность средних\n",
        "\n",
        "diff_var = ((nx - 1) * x.var(ddof=1) + (ny - 1) * y.var(ddof=1)) / (nx + ny - 2)\n",
        "diff_std = np.sqrt(diff_var / nx + diff_var / ny)     # стандартное отклонение\n",
        "\n",
        "t_obs = diff/diff_std                                 # наблюдаемое значение\n",
        "t_crit = sts.t(df = nx + ny - 2).ppf(1 - alpha)       # критическое значение\n",
        "\n",
        "print(f'Наблюдаемое значение {t_obs:.3} больше критического {t_crit:.3} => нулевая гипотеза отвергается')"
      ],
      "metadata": {
        "colab": {
          "base_uri": "https://localhost:8080/"
        },
        "id": "CtQM90i3BLmB",
        "outputId": "40b0e9d7-7870-48fb-8dd5-b7bb1dee2246"
      },
      "id": "CtQM90i3BLmB",
      "execution_count": null,
      "outputs": [
        {
          "output_type": "stream",
          "name": "stdout",
          "text": [
            "Наблюдаемое значение 3.56 больше критического 1.73 => нулевая гипотеза отвергается\n"
          ]
        }
      ]
    },
    {
      "cell_type": "markdown",
      "source": [
        "То же самое средствами `statsmodels`. "
      ],
      "metadata": {
        "id": "HBlr7adfIES_"
      },
      "id": "HBlr7adfIES_"
    },
    {
      "cell_type": "code",
      "source": [
        "from statsmodels.stats.weightstats import ttest_ind\n",
        "\n",
        "t_obs, p_val, _ = ttest_ind(x, y, value=0, alternative='larger')\n",
        "\n",
        "print(f\"Наблюдаемое значение: {t_obs:.3}\") \n",
        "print(f\"P-значение: {p_val:.3}\") "
      ],
      "metadata": {
        "colab": {
          "base_uri": "https://localhost:8080/"
        },
        "id": "_VpAadFXCl8S",
        "outputId": "a2e09481-fdeb-46a2-d119-ab754adc4ce7"
      },
      "id": "_VpAadFXCl8S",
      "execution_count": null,
      "outputs": [
        {
          "output_type": "stream",
          "name": "stdout",
          "text": [
            "Наблюдаемое значение: 3.56\n",
            "P-значение: 0.00111\n"
          ]
        }
      ]
    },
    {
      "cell_type": "code",
      "execution_count": null,
      "id": "e034f76c",
      "metadata": {
        "id": "e034f76c"
      },
      "outputs": [],
      "source": [
        "# небольшая самопроверка\n",
        "assert np.abs(t_obs - 3.5640741313229793) < 1e-5"
      ]
    },
    {
      "cell_type": "markdown",
      "id": "5eb8fd45",
      "metadata": {
        "id": "5eb8fd45"
      },
      "source": [
        "**Почему вы выбрали именно этот критерий для проверки гипотезы? Какие выводы вы сделали?**\n",
        "\n",
        "**Ответ:** "
      ]
    },
    {
      "cell_type": "markdown",
      "source": [
        "В задаче говорится об использовании гипотезы о средних. Выборки независимые, нормально распредены, кол-во наблюдений небольшое, дисперсии неизвестны, но равны => используем тест Стьюдента точный."
      ],
      "metadata": {
        "id": "yiqoAM6aNUof"
      },
      "id": "yiqoAM6aNUof"
    },
    {
      "cell_type": "markdown",
      "source": [
        "Таким образом, после скандала средний рейтинг Никсона рухнул.\n",
        "P-значение: 0.001"
      ],
      "metadata": {
        "id": "EwyPwgc8PA5S"
      },
      "id": "EwyPwgc8PA5S"
    },
    {
      "cell_type": "markdown",
      "id": "b5d0253f",
      "metadata": {
        "id": "b5d0253f"
      },
      "source": [
        "Снова президентом Никсон станет в $3000$ году. \n",
        "\n",
        "![](https://vignette.wikia.nocookie.net/futurama/images/2/2f/Richard_M._Nixon%27s_head.jpg/revision/latest/scale-to-width-down/250?cb=20131123190522&path-prefix=ru)"
      ]
    },
    {
      "cell_type": "markdown",
      "id": "3ead1a50",
      "metadata": {
        "id": "3ead1a50"
      },
      "source": [
        "## [10 баллов] Задание 2 (доктор сон)\n",
        "\n",
        "Проводится эксперимент о пользе нового снотворного. Для его проведения используется группа из $10$ студентов. В первый день каждый из них ложится спать. На утро измеряется, сколько он проспал. Из результата вычитают $8$ (нормальное число часов сна). На второй день каждому дают таблетку. Утром снова измеряют, сколько человек проспал, и вычитают $8$. Результаты эксперимента записаны в табличку `sleep.csv`."
      ]
    },
    {
      "cell_type": "code",
      "execution_count": null,
      "id": "e6be5698",
      "metadata": {
        "id": "e6be5698",
        "outputId": "29374d16-4c4d-404a-b3c4-45ee4b5174a4",
        "colab": {
          "base_uri": "https://localhost:8080/",
          "height": 206
        }
      },
      "outputs": [
        {
          "output_type": "execute_result",
          "data": {
            "text/plain": [
              "   extra  group  ID\n",
              "0    0.7      1   1\n",
              "1   -1.6      1   2\n",
              "2   -0.2      1   3\n",
              "3   -1.2      1   4\n",
              "4   -0.1      1   5"
            ],
            "text/html": [
              "\n",
              "  <div id=\"df-a8475b0b-40c3-4f61-8551-effaedfcba11\">\n",
              "    <div class=\"colab-df-container\">\n",
              "      <div>\n",
              "<style scoped>\n",
              "    .dataframe tbody tr th:only-of-type {\n",
              "        vertical-align: middle;\n",
              "    }\n",
              "\n",
              "    .dataframe tbody tr th {\n",
              "        vertical-align: top;\n",
              "    }\n",
              "\n",
              "    .dataframe thead th {\n",
              "        text-align: right;\n",
              "    }\n",
              "</style>\n",
              "<table border=\"1\" class=\"dataframe\">\n",
              "  <thead>\n",
              "    <tr style=\"text-align: right;\">\n",
              "      <th></th>\n",
              "      <th>extra</th>\n",
              "      <th>group</th>\n",
              "      <th>ID</th>\n",
              "    </tr>\n",
              "  </thead>\n",
              "  <tbody>\n",
              "    <tr>\n",
              "      <th>0</th>\n",
              "      <td>0.7</td>\n",
              "      <td>1</td>\n",
              "      <td>1</td>\n",
              "    </tr>\n",
              "    <tr>\n",
              "      <th>1</th>\n",
              "      <td>-1.6</td>\n",
              "      <td>1</td>\n",
              "      <td>2</td>\n",
              "    </tr>\n",
              "    <tr>\n",
              "      <th>2</th>\n",
              "      <td>-0.2</td>\n",
              "      <td>1</td>\n",
              "      <td>3</td>\n",
              "    </tr>\n",
              "    <tr>\n",
              "      <th>3</th>\n",
              "      <td>-1.2</td>\n",
              "      <td>1</td>\n",
              "      <td>4</td>\n",
              "    </tr>\n",
              "    <tr>\n",
              "      <th>4</th>\n",
              "      <td>-0.1</td>\n",
              "      <td>1</td>\n",
              "      <td>5</td>\n",
              "    </tr>\n",
              "  </tbody>\n",
              "</table>\n",
              "</div>\n",
              "      <button class=\"colab-df-convert\" onclick=\"convertToInteractive('df-a8475b0b-40c3-4f61-8551-effaedfcba11')\"\n",
              "              title=\"Convert this dataframe to an interactive table.\"\n",
              "              style=\"display:none;\">\n",
              "        \n",
              "  <svg xmlns=\"http://www.w3.org/2000/svg\" height=\"24px\"viewBox=\"0 0 24 24\"\n",
              "       width=\"24px\">\n",
              "    <path d=\"M0 0h24v24H0V0z\" fill=\"none\"/>\n",
              "    <path d=\"M18.56 5.44l.94 2.06.94-2.06 2.06-.94-2.06-.94-.94-2.06-.94 2.06-2.06.94zm-11 1L8.5 8.5l.94-2.06 2.06-.94-2.06-.94L8.5 2.5l-.94 2.06-2.06.94zm10 10l.94 2.06.94-2.06 2.06-.94-2.06-.94-.94-2.06-.94 2.06-2.06.94z\"/><path d=\"M17.41 7.96l-1.37-1.37c-.4-.4-.92-.59-1.43-.59-.52 0-1.04.2-1.43.59L10.3 9.45l-7.72 7.72c-.78.78-.78 2.05 0 2.83L4 21.41c.39.39.9.59 1.41.59.51 0 1.02-.2 1.41-.59l7.78-7.78 2.81-2.81c.8-.78.8-2.07 0-2.86zM5.41 20L4 18.59l7.72-7.72 1.47 1.35L5.41 20z\"/>\n",
              "  </svg>\n",
              "      </button>\n",
              "      \n",
              "  <style>\n",
              "    .colab-df-container {\n",
              "      display:flex;\n",
              "      flex-wrap:wrap;\n",
              "      gap: 12px;\n",
              "    }\n",
              "\n",
              "    .colab-df-convert {\n",
              "      background-color: #E8F0FE;\n",
              "      border: none;\n",
              "      border-radius: 50%;\n",
              "      cursor: pointer;\n",
              "      display: none;\n",
              "      fill: #1967D2;\n",
              "      height: 32px;\n",
              "      padding: 0 0 0 0;\n",
              "      width: 32px;\n",
              "    }\n",
              "\n",
              "    .colab-df-convert:hover {\n",
              "      background-color: #E2EBFA;\n",
              "      box-shadow: 0px 1px 2px rgba(60, 64, 67, 0.3), 0px 1px 3px 1px rgba(60, 64, 67, 0.15);\n",
              "      fill: #174EA6;\n",
              "    }\n",
              "\n",
              "    [theme=dark] .colab-df-convert {\n",
              "      background-color: #3B4455;\n",
              "      fill: #D2E3FC;\n",
              "    }\n",
              "\n",
              "    [theme=dark] .colab-df-convert:hover {\n",
              "      background-color: #434B5C;\n",
              "      box-shadow: 0px 1px 3px 1px rgba(0, 0, 0, 0.15);\n",
              "      filter: drop-shadow(0px 1px 2px rgba(0, 0, 0, 0.3));\n",
              "      fill: #FFFFFF;\n",
              "    }\n",
              "  </style>\n",
              "\n",
              "      <script>\n",
              "        const buttonEl =\n",
              "          document.querySelector('#df-a8475b0b-40c3-4f61-8551-effaedfcba11 button.colab-df-convert');\n",
              "        buttonEl.style.display =\n",
              "          google.colab.kernel.accessAllowed ? 'block' : 'none';\n",
              "\n",
              "        async function convertToInteractive(key) {\n",
              "          const element = document.querySelector('#df-a8475b0b-40c3-4f61-8551-effaedfcba11');\n",
              "          const dataTable =\n",
              "            await google.colab.kernel.invokeFunction('convertToInteractive',\n",
              "                                                     [key], {});\n",
              "          if (!dataTable) return;\n",
              "\n",
              "          const docLinkHtml = 'Like what you see? Visit the ' +\n",
              "            '<a target=\"_blank\" href=https://colab.research.google.com/notebooks/data_table.ipynb>data table notebook</a>'\n",
              "            + ' to learn more about interactive tables.';\n",
              "          element.innerHTML = '';\n",
              "          dataTable['output_type'] = 'display_data';\n",
              "          await google.colab.output.renderOutput(dataTable, element);\n",
              "          const docLink = document.createElement('div');\n",
              "          docLink.innerHTML = docLinkHtml;\n",
              "          element.appendChild(docLink);\n",
              "        }\n",
              "      </script>\n",
              "    </div>\n",
              "  </div>\n",
              "  "
            ]
          },
          "metadata": {},
          "execution_count": 94
        }
      ],
      "source": [
        "df = pd.read_csv('data/sleep.csv')\n",
        "df.head()"
      ]
    },
    {
      "cell_type": "markdown",
      "source": [
        "В х будут лежать данные о сне без приема снотворного, в y данные о сне после приема снотворного."
      ],
      "metadata": {
        "id": "UvziL48PRfEK"
      },
      "id": "UvziL48PRfEK"
    },
    {
      "cell_type": "code",
      "source": [
        "x = df.loc[(df['group'] == 1)]['extra'].to_numpy()"
      ],
      "metadata": {
        "id": "wDRE0iLdRebd"
      },
      "id": "wDRE0iLdRebd",
      "execution_count": null,
      "outputs": []
    },
    {
      "cell_type": "code",
      "source": [
        "y = df.loc[(df['group'] == 2)]['extra'].to_numpy()"
      ],
      "metadata": {
        "id": "XjBP4jZGSKNv"
      },
      "id": "XjBP4jZGSKNv",
      "execution_count": null,
      "outputs": []
    },
    {
      "cell_type": "code",
      "source": [
        "sts.kstest(x, 'norm', args=(x.mean(), x.std(ddof=1)))"
      ],
      "metadata": {
        "id": "QJ99zoAcV3vk",
        "outputId": "5c59d1b9-3a66-4507-c83b-3a28b5c844ed",
        "colab": {
          "base_uri": "https://localhost:8080/"
        }
      },
      "id": "QJ99zoAcV3vk",
      "execution_count": null,
      "outputs": [
        {
          "output_type": "execute_result",
          "data": {
            "text/plain": [
              "KstestResult(statistic=0.18885164347315186, pvalue=0.8051468487462221, statistic_location=0.8, statistic_sign=1)"
            ]
          },
          "metadata": {},
          "execution_count": 107
        }
      ]
    },
    {
      "cell_type": "code",
      "source": [
        "sts.kstest(y, 'norm', args=(y.mean(), y.std(ddof=1)))"
      ],
      "metadata": {
        "id": "qNXMh5NMV4vP",
        "outputId": "8fd6c859-3746-4f6c-fd70-ca3a45a3b14c",
        "colab": {
          "base_uri": "https://localhost:8080/"
        }
      },
      "id": "qNXMh5NMV4vP",
      "execution_count": null,
      "outputs": [
        {
          "output_type": "execute_result",
          "data": {
            "text/plain": [
              "KstestResult(statistic=0.18502220757517246, pvalue=0.8237817034833373, statistic_location=1.9, statistic_sign=1)"
            ]
          },
          "metadata": {},
          "execution_count": 108
        }
      ]
    },
    {
      "cell_type": "markdown",
      "source": [
        "p-значение у обеих выборок большое, не ниже нашего порога 0.05, поэтому мы не можем отвергнуть нулевую гипотезу, а значит выборки нормально распределены."
      ],
      "metadata": {
        "id": "Wagc21aCV3WD"
      },
      "id": "Wagc21aCV3WD"
    },
    {
      "cell_type": "markdown",
      "id": "563eb4c7",
      "metadata": {
        "id": "563eb4c7"
      },
      "source": [
        "Правда ли, что сон студентов до приёма снотворного не отличается от нормы (отклонение от 8 часов равно нулю). Проверьте эту гипотезу на $5\\%$ уровне значимости, в переменную `pval1` запишите p-значение. "
      ]
    },
    {
      "cell_type": "code",
      "source": [
        "alpha = 0.05                          # уровень значимости = 5%"
      ],
      "metadata": {
        "id": "HePBxiIPZsHP"
      },
      "id": "HePBxiIPZsHP",
      "execution_count": null,
      "outputs": []
    },
    {
      "cell_type": "markdown",
      "source": [
        "Проверка гипотезы о средних. Выборка нормально распределена. Данных немного. Считаем, что истинная дисперсия нам неизвестна. Так как мы рассматриваем только определенную группу студентов.\n",
        "\n",
        "$$\n",
        "\\begin{aligned}\n",
        "&H_0: \\hspace{2mm} \\mu_1 = 0 \\hspace{2mm} \\text{Сон не отличается от нормы} \\\\\n",
        "&H_1: \\hspace{2mm} \\mu_1 \\neq 0  \\hspace{2mm} \\text{Сон отличается от нормы}\n",
        "\\end{aligned}\n",
        "$$"
      ],
      "metadata": {
        "id": "-ARFZwftROhm"
      },
      "id": "-ARFZwftROhm"
    },
    {
      "cell_type": "markdown",
      "source": [
        "Используем t-критерий для среднего, точный"
      ],
      "metadata": {
        "id": "2zKf-JQKZFrB"
      },
      "id": "2zKf-JQKZFrB"
    },
    {
      "cell_type": "code",
      "source": [
        "nx = x.size                           # размер выборки\n",
        "mu1 = x.mean()                        # среднее значение\n",
        "std1 = x.std(ddof=1)/np.sqrt(nx)       # стандартное отклонение\n",
        "\n",
        "t_obs1 = (mu1 - 0) / std1                # наблюдаемое значение статистики \n",
        "t_crit1 = sts.t(nx - 1).ppf(1 - alpha)   # критическое значение статистики\n",
        "\n",
        "print(f'Наблюдаемое значение {t_obs1:.3} меньше критического {t_crit1:.3} => нулевая гипотеза не отвергается')"
      ],
      "metadata": {
        "id": "lAtI7nzmZTac",
        "outputId": "500eeeac-0f6f-4522-eba5-5c24be09a7ac",
        "colab": {
          "base_uri": "https://localhost:8080/"
        }
      },
      "id": "lAtI7nzmZTac",
      "execution_count": null,
      "outputs": [
        {
          "output_type": "stream",
          "name": "stdout",
          "text": [
            "Наблюдаемое значение 1.33 меньше критического 1.83 => нулевая гипотеза не отвергается\n"
          ]
        }
      ]
    },
    {
      "cell_type": "markdown",
      "id": "b979e7e1",
      "metadata": {
        "id": "b979e7e1"
      },
      "source": [
        "Правда ли, что благодаря таблеткам студенты стали спать больше (односторонняя альтернатива)? Запишите в переменную `pval2` соотвествующее p-значение. "
      ]
    },
    {
      "cell_type": "markdown",
      "source": [
        "Проверка гипотезы о средних. Выборка нормально распределена. Данных немного. Считаем, что истинная дисперсия нам неизвестна. Так как мы рассматриваем только определенную группу студентов.\n",
        "\n",
        "$$\n",
        "\\begin{aligned}\n",
        "&H_0: \\hspace{2mm} \\mu_2 = 0 \\hspace{2mm} \\text{Сон не отличается от нормы} \\\\\n",
        "&H_1: \\hspace{2mm} \\mu_2 > 0  \\hspace{2mm} \\text{Сон студентов увеличился}\n",
        "\\end{aligned}\n",
        "$$"
      ],
      "metadata": {
        "id": "CSxo5N7uc1Gh"
      },
      "id": "CSxo5N7uc1Gh"
    },
    {
      "cell_type": "markdown",
      "source": [
        "Используем t-критерий для среднего, точный"
      ],
      "metadata": {
        "id": "e_X-5NRZdD7l"
      },
      "id": "e_X-5NRZdD7l"
    },
    {
      "cell_type": "code",
      "source": [
        "ny = y.size\n",
        "\n",
        "mu2 = y.mean()                        # среднее значение\n",
        "\n",
        "diff = mu1 - mu2\n",
        "t_obs2 = diff / np.sqrt(diff.var(ddof=1)/ny)\n",
        "t_crit2 = sts.t(df=ny - 1).cdf(1-alpha)\n",
        "\n",
        "print(f'Наблюдаемое значение {t_obs2:.3} меньше критического {t_crit2:.3} => нулевая гипотеза не отвергается')"
      ],
      "metadata": {
        "id": "HXtMCHWwkhqL",
        "outputId": "b5b23033-b84e-49e3-e946-022f37984388",
        "colab": {
          "base_uri": "https://localhost:8080/"
        }
      },
      "id": "HXtMCHWwkhqL",
      "execution_count": null,
      "outputs": [
        {
          "output_type": "stream",
          "name": "stdout",
          "text": [
            "Наблюдаемое значение nan меньше критического 0.817 => нулевая гипотеза не отвергается\n"
          ]
        },
        {
          "output_type": "stream",
          "name": "stderr",
          "text": [
            "<ipython-input-142-60dd821c7b27>:6: RuntimeWarning: Degrees of freedom <= 0 for slice\n",
            "  t_obs2 = diff / np.sqrt(diff.var(ddof=1)/ny)\n"
          ]
        }
      ]
    },
    {
      "cell_type": "code",
      "execution_count": null,
      "id": "5f6b72f9",
      "metadata": {
        "id": "5f6b72f9",
        "colab": {
          "base_uri": "https://localhost:8080/",
          "height": 204
        },
        "outputId": "254696b9-6f43-4bfd-d9c9-5a491e06bb22"
      },
      "outputs": [
        {
          "output_type": "error",
          "ename": "AssertionError",
          "evalue": "ignored",
          "traceback": [
            "\u001b[0;31m---------------------------------------------------------------------------\u001b[0m",
            "\u001b[0;31mAssertionError\u001b[0m                            Traceback (most recent call last)",
            "\u001b[0;32m<ipython-input-129-c2cc4a4df9cf>\u001b[0m in \u001b[0;36m<cell line: 3>\u001b[0;34m()\u001b[0m\n\u001b[1;32m      1\u001b[0m \u001b[0;31m# самопроверка\u001b[0m\u001b[0;34m\u001b[0m\u001b[0;34m\u001b[0m\u001b[0m\n\u001b[1;32m      2\u001b[0m \u001b[0;32massert\u001b[0m \u001b[0mnp\u001b[0m\u001b[0;34m.\u001b[0m\u001b[0mabs\u001b[0m\u001b[0;34m(\u001b[0m\u001b[0mt_obs1\u001b[0m \u001b[0;34m-\u001b[0m \u001b[0;36m1.325710\u001b[0m\u001b[0;34m)\u001b[0m \u001b[0;34m<\u001b[0m \u001b[0;36m1e-5\u001b[0m\u001b[0;34m\u001b[0m\u001b[0;34m\u001b[0m\u001b[0m\n\u001b[0;32m----> 3\u001b[0;31m \u001b[0;32massert\u001b[0m \u001b[0mnp\u001b[0m\u001b[0;34m.\u001b[0m\u001b[0mabs\u001b[0m\u001b[0;34m(\u001b[0m\u001b[0mt_obs2\u001b[0m \u001b[0;34m-\u001b[0m \u001b[0;36m4.062127\u001b[0m\u001b[0;34m)\u001b[0m \u001b[0;34m<\u001b[0m \u001b[0;36m1e-5\u001b[0m\u001b[0;34m\u001b[0m\u001b[0;34m\u001b[0m\u001b[0m\n\u001b[0m",
            "\u001b[0;31mAssertionError\u001b[0m: "
          ]
        }
      ],
      "source": [
        "# самопроверка\n",
        "assert np.abs(t_obs1 - 1.325710) < 1e-5\n",
        "assert np.abs(t_obs2 - 4.062127) < 1e-5"
      ]
    },
    {
      "cell_type": "markdown",
      "id": "20d4a20f",
      "metadata": {
        "id": "20d4a20f"
      },
      "source": [
        "**Почему вы выбрали именно этот критерий для проверки гипотезы? Какие выводы вы сделали?**\n",
        "\n",
        "**Ответ:** "
      ]
    },
    {
      "cell_type": "markdown",
      "id": "ff02898b",
      "metadata": {
        "id": "ff02898b"
      },
      "source": [
        "## [30 баллов] Задание 3 (мудрость)\n",
        "\n",
        "> Помните, что для человека звук его имени является самым сладким и самым важным звуком человеческой речи. (Дейл Карнеги)\n",
        "\n",
        "Доверяй, но проверяй. Решим задачку по психологии! Все цитаты в пабликах вконтакте делятся на два вида: мудрые и недостаточно мудрые. Если цитата мудрая, то её можно лайкнуть. Поговаривают, что если в цитате есть личные местоимения, то пользователь автоматически сопоставляет себя автору этой цитаты и вероятность того, что она будет лайкнута, повышается. Например, цитату \n",
        "\n",
        "> Можно простить человеку все, кроме отсутствия. (Экзюпери) \n",
        "\n",
        "мне не очень хотелось бы лайкать. А вот цитата \n",
        "\n",
        "> Мне наплевать, что вы обо мне думаете. Я о вас вообще не думаю. (Булгаков) \n",
        "\n",
        "совершенно другое дело. \n",
        "\n",
        "В табличке `df_vk_wise` лежат данные о мудрых цитатах из [мудрого паблика.](https://vk.com/ooioioioioioo) В колонке `I` находится переменная, которая принимает значение `True`, когда в тексте цитаты было личное местоимение \"Я\".\n",
        "\n",
        "Срежем первые $50$ постов, так как под ними количество репостов и лайков ещё окончательно не выставлено, и будем работать с остатками. "
      ]
    },
    {
      "cell_type": "code",
      "execution_count": 3,
      "id": "4fc58188",
      "metadata": {
        "id": "4fc58188",
        "outputId": "b8034383-fbed-4f75-e66d-93373cc1cc64",
        "colab": {
          "base_uri": "https://localhost:8080/",
          "height": 206
        }
      },
      "outputs": [
        {
          "output_type": "execute_result",
          "data": {
            "text/plain": [
              "    likes  reposts                                               text      I\n",
              "50    549       25  Я, говорит, люблю человечество, но дивлюсь на ...   True\n",
              "51    607       22  Нельзя любить то, что я люблю, да ещё так, как...   True\n",
              "52    914       37  Если испытываешь по-настоящему глубокое чувств...  False\n",
              "53    989       34  — Я тебя люблю, — сказал я. \\n— Это пройдет, —...   True\n",
              "54   1229       32  Он очаровательно рассказывает мне о том, как о...  False"
            ],
            "text/html": [
              "\n",
              "  <div id=\"df-a0ef4ca1-ed64-42a2-b684-9bd30450c4e9\">\n",
              "    <div class=\"colab-df-container\">\n",
              "      <div>\n",
              "<style scoped>\n",
              "    .dataframe tbody tr th:only-of-type {\n",
              "        vertical-align: middle;\n",
              "    }\n",
              "\n",
              "    .dataframe tbody tr th {\n",
              "        vertical-align: top;\n",
              "    }\n",
              "\n",
              "    .dataframe thead th {\n",
              "        text-align: right;\n",
              "    }\n",
              "</style>\n",
              "<table border=\"1\" class=\"dataframe\">\n",
              "  <thead>\n",
              "    <tr style=\"text-align: right;\">\n",
              "      <th></th>\n",
              "      <th>likes</th>\n",
              "      <th>reposts</th>\n",
              "      <th>text</th>\n",
              "      <th>I</th>\n",
              "    </tr>\n",
              "  </thead>\n",
              "  <tbody>\n",
              "    <tr>\n",
              "      <th>50</th>\n",
              "      <td>549</td>\n",
              "      <td>25</td>\n",
              "      <td>Я, говорит, люблю человечество, но дивлюсь на ...</td>\n",
              "      <td>True</td>\n",
              "    </tr>\n",
              "    <tr>\n",
              "      <th>51</th>\n",
              "      <td>607</td>\n",
              "      <td>22</td>\n",
              "      <td>Нельзя любить то, что я люблю, да ещё так, как...</td>\n",
              "      <td>True</td>\n",
              "    </tr>\n",
              "    <tr>\n",
              "      <th>52</th>\n",
              "      <td>914</td>\n",
              "      <td>37</td>\n",
              "      <td>Если испытываешь по-настоящему глубокое чувств...</td>\n",
              "      <td>False</td>\n",
              "    </tr>\n",
              "    <tr>\n",
              "      <th>53</th>\n",
              "      <td>989</td>\n",
              "      <td>34</td>\n",
              "      <td>— Я тебя люблю, — сказал я. \\n— Это пройдет, —...</td>\n",
              "      <td>True</td>\n",
              "    </tr>\n",
              "    <tr>\n",
              "      <th>54</th>\n",
              "      <td>1229</td>\n",
              "      <td>32</td>\n",
              "      <td>Он очаровательно рассказывает мне о том, как о...</td>\n",
              "      <td>False</td>\n",
              "    </tr>\n",
              "  </tbody>\n",
              "</table>\n",
              "</div>\n",
              "      <button class=\"colab-df-convert\" onclick=\"convertToInteractive('df-a0ef4ca1-ed64-42a2-b684-9bd30450c4e9')\"\n",
              "              title=\"Convert this dataframe to an interactive table.\"\n",
              "              style=\"display:none;\">\n",
              "        \n",
              "  <svg xmlns=\"http://www.w3.org/2000/svg\" height=\"24px\"viewBox=\"0 0 24 24\"\n",
              "       width=\"24px\">\n",
              "    <path d=\"M0 0h24v24H0V0z\" fill=\"none\"/>\n",
              "    <path d=\"M18.56 5.44l.94 2.06.94-2.06 2.06-.94-2.06-.94-.94-2.06-.94 2.06-2.06.94zm-11 1L8.5 8.5l.94-2.06 2.06-.94-2.06-.94L8.5 2.5l-.94 2.06-2.06.94zm10 10l.94 2.06.94-2.06 2.06-.94-2.06-.94-.94-2.06-.94 2.06-2.06.94z\"/><path d=\"M17.41 7.96l-1.37-1.37c-.4-.4-.92-.59-1.43-.59-.52 0-1.04.2-1.43.59L10.3 9.45l-7.72 7.72c-.78.78-.78 2.05 0 2.83L4 21.41c.39.39.9.59 1.41.59.51 0 1.02-.2 1.41-.59l7.78-7.78 2.81-2.81c.8-.78.8-2.07 0-2.86zM5.41 20L4 18.59l7.72-7.72 1.47 1.35L5.41 20z\"/>\n",
              "  </svg>\n",
              "      </button>\n",
              "      \n",
              "  <style>\n",
              "    .colab-df-container {\n",
              "      display:flex;\n",
              "      flex-wrap:wrap;\n",
              "      gap: 12px;\n",
              "    }\n",
              "\n",
              "    .colab-df-convert {\n",
              "      background-color: #E8F0FE;\n",
              "      border: none;\n",
              "      border-radius: 50%;\n",
              "      cursor: pointer;\n",
              "      display: none;\n",
              "      fill: #1967D2;\n",
              "      height: 32px;\n",
              "      padding: 0 0 0 0;\n",
              "      width: 32px;\n",
              "    }\n",
              "\n",
              "    .colab-df-convert:hover {\n",
              "      background-color: #E2EBFA;\n",
              "      box-shadow: 0px 1px 2px rgba(60, 64, 67, 0.3), 0px 1px 3px 1px rgba(60, 64, 67, 0.15);\n",
              "      fill: #174EA6;\n",
              "    }\n",
              "\n",
              "    [theme=dark] .colab-df-convert {\n",
              "      background-color: #3B4455;\n",
              "      fill: #D2E3FC;\n",
              "    }\n",
              "\n",
              "    [theme=dark] .colab-df-convert:hover {\n",
              "      background-color: #434B5C;\n",
              "      box-shadow: 0px 1px 3px 1px rgba(0, 0, 0, 0.15);\n",
              "      filter: drop-shadow(0px 1px 2px rgba(0, 0, 0, 0.3));\n",
              "      fill: #FFFFFF;\n",
              "    }\n",
              "  </style>\n",
              "\n",
              "      <script>\n",
              "        const buttonEl =\n",
              "          document.querySelector('#df-a0ef4ca1-ed64-42a2-b684-9bd30450c4e9 button.colab-df-convert');\n",
              "        buttonEl.style.display =\n",
              "          google.colab.kernel.accessAllowed ? 'block' : 'none';\n",
              "\n",
              "        async function convertToInteractive(key) {\n",
              "          const element = document.querySelector('#df-a0ef4ca1-ed64-42a2-b684-9bd30450c4e9');\n",
              "          const dataTable =\n",
              "            await google.colab.kernel.invokeFunction('convertToInteractive',\n",
              "                                                     [key], {});\n",
              "          if (!dataTable) return;\n",
              "\n",
              "          const docLinkHtml = 'Like what you see? Visit the ' +\n",
              "            '<a target=\"_blank\" href=https://colab.research.google.com/notebooks/data_table.ipynb>data table notebook</a>'\n",
              "            + ' to learn more about interactive tables.';\n",
              "          element.innerHTML = '';\n",
              "          dataTable['output_type'] = 'display_data';\n",
              "          await google.colab.output.renderOutput(dataTable, element);\n",
              "          const docLink = document.createElement('div');\n",
              "          docLink.innerHTML = docLinkHtml;\n",
              "          element.appendChild(docLink);\n",
              "        }\n",
              "      </script>\n",
              "    </div>\n",
              "  </div>\n",
              "  "
            ]
          },
          "metadata": {},
          "execution_count": 3
        }
      ],
      "source": [
        "df = pd.read_csv('data/df_vk_wise.csv')[50:]\n",
        "df.head()"
      ]
    },
    {
      "cell_type": "markdown",
      "id": "2a3e8f04",
      "metadata": {
        "id": "2a3e8f04"
      },
      "source": [
        "Постройте гистограмму для числа лайков постов, содержащих личные местоимения и не содержащих. Как думаете, есть ли с распределением лайков какие-то проблемы?"
      ]
    },
    {
      "cell_type": "code",
      "execution_count": 5,
      "id": "23afcd74",
      "metadata": {
        "id": "23afcd74"
      },
      "outputs": [],
      "source": [
        "x = df[df['I'] == True]['likes'] # содержит местоимения\n",
        "y = df[df['I'] == False]['likes'] # не содержит местоимения"
      ]
    },
    {
      "cell_type": "code",
      "source": [
        "x.hist(figsize=(10, 5))\n",
        "plt.title('Число лайков постов, содержащих личные местоимения');"
      ],
      "metadata": {
        "id": "RygaxnTX9qqB",
        "outputId": "9ad2b04a-0054-4dfd-a2e7-9a750729fd26",
        "colab": {
          "base_uri": "https://localhost:8080/",
          "height": 468
        }
      },
      "id": "RygaxnTX9qqB",
      "execution_count": 9,
      "outputs": [
        {
          "output_type": "display_data",
          "data": {
            "text/plain": [
              "<Figure size 1000x500 with 1 Axes>"
            ],
            "image/png": "[encoded data removed]"
          },
          "metadata": {}
        }
      ]
    },
    {
      "cell_type": "code",
      "source": [
        "y.hist(figsize=(10, 5))\n",
        "plt.title('Число лайков постов, несодержащих личные местоимения');"
      ],
      "metadata": {
        "id": "qePfqdqv9zj6",
        "outputId": "c56e98f1-9d96-4b5d-ba25-32ca9fa2f05c",
        "colab": {
          "base_uri": "https://localhost:8080/",
          "height": 468
        }
      },
      "id": "qePfqdqv9zj6",
      "execution_count": 10,
      "outputs": [
        {
          "output_type": "display_data",
          "data": {
            "text/plain": [
              "<Figure size 1000x500 with 1 Axes>"
            ],
            "image/png": "[encoded data removed]"
          },
          "metadata": {}
        }
      ]
    },
    {
      "cell_type": "markdown",
      "id": "d66368a6",
      "metadata": {
        "id": "d66368a6"
      },
      "source": [
        "Да, проблемы есть. Это выбросы. Хвосты на гистограммах оказываются очень длинными. Найдите медианы и средние для числа лайков. Сравните их между собой. "
      ]
    },
    {
      "cell_type": "code",
      "execution_count": 13,
      "id": "8c9c8185",
      "metadata": {
        "id": "8c9c8185",
        "outputId": "ddd0f81a-20c5-4697-b7d9-8f175c5282c5",
        "colab": {
          "base_uri": "https://localhost:8080/"
        }
      },
      "outputs": [
        {
          "output_type": "stream",
          "name": "stdout",
          "text": [
            "Для содержащих местоимения: mean = 2879.1828885400314, median = 2588.5\n",
            "Для несодержащих местоимения: mean = 2784.0432051478474, median = 2497.0\n"
          ]
        }
      ],
      "source": [
        "print(f'Для содержащих местоимения: mean = {x.mean()}, median = {x.median()}')\n",
        "print(f'Для несодержащих местоимения: mean = {y.mean()}, median = {y.median()}')"
      ]
    },
    {
      "cell_type": "markdown",
      "source": [
        "Mean и median для содержащих местоимения больше, чем для не содержащих."
      ],
      "metadata": {
        "id": "8nljG4P2_R9O"
      },
      "id": "8nljG4P2_R9O"
    },
    {
      "cell_type": "markdown",
      "id": "363e8837",
      "metadata": {
        "id": "363e8837"
      },
      "source": [
        "Проверьте гипотезу о равенстве среднего числа лайков. Используйте для этого $z$-тест, основанный на ЦПТ. Дисперсию расчитывайте по выборке, используя несмещённую оценку `(ddof=1)`. Запишите наблюдаемое значение статистики в переменную `z_obs`. "
      ]
    },
    {
      "cell_type": "markdown",
      "source": [
        "$$\n",
        "\\begin{aligned}\n",
        "&H_0: \\hspace{2mm} \\mu_1 = \\mu_2 \\hspace{2mm} \\text{Среднее число лайков не отличается} \\\\\n",
        "&H_1: \\hspace{2mm} \\mu_1 \\neq \\mu_2  \\hspace{2mm} \\text{Среднее число лайков отличается}\n",
        "\\end{aligned}\n",
        "$$"
      ],
      "metadata": {
        "id": "5VuBvcKUBwUm"
      },
      "id": "5VuBvcKUBwUm"
    },
    {
      "cell_type": "code",
      "source": [
        "alpha = 0.05                     # уровень значимости = 5%\n",
        "nx, ny = x.size, y.size          # размер выборок\n",
        "\n",
        "diff = x.mean() - y.mean()       # разность средних\n",
        "diff_std = np.sqrt(x.var(ddof=1)/nx + y.var(ddof=1)/ny)   # стандартное отклонение\n",
        "\n",
        "z_obs = diff/diff_std            # наблюдаемое значение"
      ],
      "metadata": {
        "id": "KbikZJR8_9om"
      },
      "id": "KbikZJR8_9om",
      "execution_count": 15,
      "outputs": []
    },
    {
      "cell_type": "code",
      "source": [
        "z_obs"
      ],
      "metadata": {
        "id": "jFQQTocYAK0u",
        "outputId": "ff2655e3-e5df-4055-eb00-58c090ea7383",
        "colab": {
          "base_uri": "https://localhost:8080/"
        }
      },
      "id": "jFQQTocYAK0u",
      "execution_count": 16,
      "outputs": [
        {
          "output_type": "execute_result",
          "data": {
            "text/plain": [
              "2.6644610922505323"
            ]
          },
          "metadata": {},
          "execution_count": 16
        }
      ]
    },
    {
      "cell_type": "markdown",
      "id": "2fa0d550",
      "metadata": {
        "id": "2fa0d550"
      },
      "source": [
        "Найдите критическое значение статистики. Сравните его с наблюдаемым. Рассчитайте p-value для ситуации с двусторонней альтернативой. Сделайте вывод о выдвинутой гипотезе. Критическое значение статистики запишите в переменную `z_crit`, а p-значение в переменную `pval`. "
      ]
    },
    {
      "cell_type": "code",
      "execution_count": 18,
      "id": "afffe274",
      "metadata": {
        "id": "afffe274"
      },
      "outputs": [],
      "source": [
        "z_crit = sts.norm.ppf(1 - alpha)      # критическое значение\n",
        "pval =  2 * (1 - sts.norm.cdf(z_obs)) # двухсторонняя"
      ]
    },
    {
      "cell_type": "code",
      "source": [
        "z_crit"
      ],
      "metadata": {
        "id": "wL_HDsm9AuSd",
        "outputId": "3d8b8ba1-3bbc-47e4-b2bb-a0dadb34d959",
        "colab": {
          "base_uri": "https://localhost:8080/"
        }
      },
      "id": "wL_HDsm9AuSd",
      "execution_count": 19,
      "outputs": [
        {
          "output_type": "execute_result",
          "data": {
            "text/plain": [
              "1.6448536269514722"
            ]
          },
          "metadata": {},
          "execution_count": 19
        }
      ]
    },
    {
      "cell_type": "code",
      "source": [
        "print(f'Наблюдаемое значение {z_obs:.4} больше критического {z_crit:.4} => нулевая гипотеза отвергается')"
      ],
      "metadata": {
        "id": "j66NcFY2BSJ5",
        "outputId": "447ebaac-141f-42ff-bbf8-72251b712b1c",
        "colab": {
          "base_uri": "https://localhost:8080/"
        }
      },
      "id": "j66NcFY2BSJ5",
      "execution_count": 23,
      "outputs": [
        {
          "output_type": "stream",
          "name": "stdout",
          "text": [
            "Наблюдаемое значение 2.664 больше критического 1.645 => нулевая гипотеза отвергается\n"
          ]
        }
      ]
    },
    {
      "cell_type": "code",
      "source": [
        "pval"
      ],
      "metadata": {
        "id": "rrBbd_LnAwKP",
        "outputId": "a551e1a2-c043-4e02-e249-86f1caf995cc",
        "colab": {
          "base_uri": "https://localhost:8080/"
        }
      },
      "id": "rrBbd_LnAwKP",
      "execution_count": 20,
      "outputs": [
        {
          "output_type": "execute_result",
          "data": {
            "text/plain": [
              "0.007711178605442903"
            ]
          },
          "metadata": {},
          "execution_count": 20
        }
      ]
    },
    {
      "cell_type": "markdown",
      "source": [
        "*Вывод*: гипотеза о том, что среднее число лайков не отличается отвергается. "
      ],
      "metadata": {
        "id": "8C2GgblcCQr8"
      },
      "id": "8C2GgblcCQr8"
    },
    {
      "cell_type": "markdown",
      "id": "fb72f53a",
      "metadata": {
        "id": "fb72f53a"
      },
      "source": [
        "Можно заметить, что у распределения числа репостов длинные хвосты. В данных есть выбросы, которые завышают среднее значение. Если выбросы сильные, то ЦПТ может ломаться. Из-за этого имеет смысл в данном случае использовать другой критерий. Например, критерий Манна-Уитни.\n",
        "\n",
        "Найдите наблюдаемое значение статистики Манна-Уитни. Сравните его с критическим. Рассчитайте p-value для ситуации с двусторонней альтернативой. Сделайте вывод о выдвинутой гипотезе. Отличается ли полученный вывод от вывода \n",
        "z-теста?"
      ]
    },
    {
      "cell_type": "code",
      "execution_count": 24,
      "id": "47db495f",
      "metadata": {
        "id": "47db495f",
        "outputId": "9e55f88d-c4a2-4e73-b5f5-dda794a866ba",
        "colab": {
          "base_uri": "https://localhost:8080/"
        }
      },
      "outputs": [
        {
          "output_type": "execute_result",
          "data": {
            "text/plain": [
              "MannwhitneyuResult(statistic=8604129.5, pvalue=0.01004067464288777)"
            ]
          },
          "metadata": {},
          "execution_count": 24
        }
      ],
      "source": [
        "sts.mannwhitneyu(x, y, alternative='two-sided')"
      ]
    },
    {
      "cell_type": "markdown",
      "id": "ec557ac8",
      "metadata": {
        "id": "ec557ac8"
      },
      "source": [
        "Проверьте гипотезу о мудрости с помощью бутстрапа. Нулевую гипотезу сформулируйте в терминах медиан."
      ]
    },
    {
      "cell_type": "code",
      "execution_count": null,
      "id": "038829cf",
      "metadata": {
        "id": "038829cf"
      },
      "outputs": [],
      "source": [
        "### ╰( ͡° ͜ʖ ͡° )つ▬▬ι═══════  bzzzzzzzzzz\n",
        "# will the code be with you\n",
        "\n",
        "# your code here"
      ]
    },
    {
      "cell_type": "markdown",
      "id": "bd399171",
      "metadata": {
        "id": "bd399171"
      },
      "source": [
        "## [10 баллов] Задание 4 (мыши и зеркало)\n",
        "\n",
        "$16$ лабораторных мышей были помещены в двухкомнатные клетки, в одной из комнат висело зеркало. С целью установить, есть ли у мышей какие-то предпочтения насчет зеркал, измерялась доля времени, которое каждая мышь проводила в каждой из своих двух клеток.\n",
        "\n",
        "![](https://ars.els-cdn.com/content/image/1-s2.0-S0168159104000061-gr1.gif)\n",
        "\n",
        "В файле `mouses_mirror.txt` лежит информация о том, какую долю времени мышка проводила в клетке с зеркалом. "
      ]
    },
    {
      "cell_type": "code",
      "execution_count": 25,
      "id": "8796d379",
      "metadata": {
        "id": "8796d379",
        "outputId": "34f9a144-4838-496d-da85-4a1ae413a371",
        "colab": {
          "base_uri": "https://localhost:8080/",
          "height": 430
        }
      },
      "outputs": [
        {
          "output_type": "display_data",
          "data": {
            "text/plain": [
              "<Figure size 640x480 with 1 Axes>"
            ],
            "image/png": "[encoded data removed]"
          },
          "metadata": {}
        }
      ],
      "source": [
        "x = pd.read_csv('data/mouses_mirror.txt', header = None)[0].values\n",
        "plt.hist(x, density=True);"
      ]
    },
    {
      "cell_type": "markdown",
      "id": "a6e7a678",
      "metadata": {
        "id": "a6e7a678"
      },
      "source": [
        "Проверьте гипотезу о том, что мышкам безразлично в какой комнате проводить время с помощью критерия знаков. Сформулируйте нулевую гипотезу, перечислите основные особенности этого критерия. Запишите в переменную `pvalue_1` получившееся в результате этого $p$-значение. "
      ]
    },
    {
      "cell_type": "markdown",
      "source": [
        "Критерий знаков\n",
        "\n",
        "$$\n",
        "\\begin{aligned}\n",
        "&H_0: медиана доли времени, проведенного в клетке с зеркалом, равна 0.5 \\\\\n",
        "&H_1: медиана доли времени, проведенного в клетке с зеркалом, не равна 0.5\n",
        "\\end{aligned}\n",
        "$$"
      ],
      "metadata": {
        "id": "gJ03AhYjagoz"
      },
      "id": "gJ03AhYjagoz"
    },
    {
      "cell_type": "code",
      "source": [
        "from statsmodels.stats.descriptivestats import sign_test\n",
        "\n",
        "sign_test(x, 0.5)"
      ],
      "metadata": {
        "id": "oqZ5_B3Abpq2",
        "outputId": "17ca75bf-fed5-4ab8-f87c-a6574eecb783",
        "colab": {
          "base_uri": "https://localhost:8080/"
        }
      },
      "id": "oqZ5_B3Abpq2",
      "execution_count": 29,
      "outputs": [
        {
          "output_type": "execute_result",
          "data": {
            "text/plain": [
              "(-5.0, 0.021270751953125)"
            ]
          },
          "metadata": {},
          "execution_count": 29
        }
      ]
    },
    {
      "cell_type": "code",
      "execution_count": 30,
      "id": "922a754d",
      "metadata": {
        "id": "922a754d"
      },
      "outputs": [],
      "source": [
        "from statsmodels.stats.descriptivestats import sign_test\n",
        "\n",
        "_, pvalue_1 = sign_test(x, 0.5)\n"
      ]
    },
    {
      "cell_type": "code",
      "source": [
        "pvalue_1"
      ],
      "metadata": {
        "id": "VzIKxvSPcOt6",
        "outputId": "d09e66eb-07ea-40ae-9cfe-feb8591adf58",
        "colab": {
          "base_uri": "https://localhost:8080/"
        }
      },
      "id": "VzIKxvSPcOt6",
      "execution_count": 31,
      "outputs": [
        {
          "output_type": "execute_result",
          "data": {
            "text/plain": [
              "0.021270751953125"
            ]
          },
          "metadata": {},
          "execution_count": 31
        }
      ]
    },
    {
      "cell_type": "markdown",
      "id": "a696207c",
      "metadata": {
        "id": "a696207c"
      },
      "source": [
        "Проверьте гипотезу о том, что мышкам безразлично в какой комнате проводить время с помощью теста Вилкоксона. Сформулируйте нулевую гипотезу, перечислите основные особенности этого критерия.  Запишите в переменную `pvalue_2` получившееся в результате этого $p$-значение. "
      ]
    },
    {
      "cell_type": "code",
      "source": [
        "m0 = 0.5\n",
        "sts.wilcoxon(x - m0)"
      ],
      "metadata": {
        "id": "fuVspP-zcwgJ",
        "outputId": "accb3924-945a-4556-bf6f-da0bd84a1a66",
        "colab": {
          "base_uri": "https://localhost:8080/"
        }
      },
      "id": "fuVspP-zcwgJ",
      "execution_count": 34,
      "outputs": [
        {
          "output_type": "execute_result",
          "data": {
            "text/plain": [
              "WilcoxonResult(statistic=35.0, pvalue=0.09344482421875)"
            ]
          },
          "metadata": {},
          "execution_count": 34
        }
      ]
    },
    {
      "cell_type": "code",
      "execution_count": null,
      "id": "49371478",
      "metadata": {
        "id": "49371478"
      },
      "outputs": [],
      "source": [
        "### ╰( ͡° ͜ʖ ͡° )つ▬▬ι═══════  bzzzzzzzzzz\n",
        "# will the code be with you\n",
        "\n",
        "pvalue_2 = ... \n",
        "\n",
        "# your code here\n"
      ]
    },
    {
      "cell_type": "markdown",
      "id": "c86523d5",
      "metadata": {
        "id": "c86523d5"
      },
      "source": [
        "Проверьте гипотезу о том, что мышкам безразлично в какой комнате проводить время с помощью асимптотического $z$-теста. Сформулируйте нулевую гипотезу, перечислите основные особенности этого критерия.  Запишите в переменную `pvalue_3` получившееся в результате этого $p$-значение. "
      ]
    },
    {
      "cell_type": "code",
      "execution_count": 39,
      "id": "1a1a6be6",
      "metadata": {
        "id": "1a1a6be6",
        "outputId": "e21f5a87-73c3-4b3b-f4b4-ccd58c079ee7",
        "colab": {
          "base_uri": "https://localhost:8080/"
        }
      },
      "outputs": [
        {
          "output_type": "stream",
          "name": "stdout",
          "text": [
            "Наблюдаемое значение: -1.496178\n",
            "P-значение: 0.135\n"
          ]
        }
      ],
      "source": [
        "from statsmodels.stats.weightstats import ztest,zconfint\n",
        "\n",
        "z_obs, pvalue_3 = ztest(x, value=0.5)\n",
        "\n",
        "print(f\"Наблюдаемое значение: {z_obs:.7}\") \n",
        "print(f\"P-значение: {pvalue_3:.3}\") "
      ]
    },
    {
      "cell_type": "code",
      "execution_count": 38,
      "id": "135a7e69",
      "metadata": {
        "id": "135a7e69",
        "outputId": "a0c16a47-bc25-4a38-cd04-03a0dff061cc",
        "colab": {
          "base_uri": "https://localhost:8080/",
          "height": 222
        }
      },
      "outputs": [
        {
          "output_type": "error",
          "ename": "NameError",
          "evalue": "ignored",
          "traceback": [
            "\u001b[0;31m---------------------------------------------------------------------------\u001b[0m",
            "\u001b[0;31mNameError\u001b[0m                                 Traceback (most recent call last)",
            "\u001b[0;32m<ipython-input-38-0643e265e434>\u001b[0m in \u001b[0;36m<cell line: 3>\u001b[0;34m()\u001b[0m\n\u001b[1;32m      1\u001b[0m \u001b[0;31m# проверка того, что задание решено верно\u001b[0m\u001b[0;34m\u001b[0m\u001b[0;34m\u001b[0m\u001b[0m\n\u001b[1;32m      2\u001b[0m \u001b[0;32massert\u001b[0m \u001b[0mpvalue_1\u001b[0m \u001b[0;34m<\u001b[0m \u001b[0;36m0.05\u001b[0m\u001b[0;34m\u001b[0m\u001b[0;34m\u001b[0m\u001b[0m\n\u001b[0;32m----> 3\u001b[0;31m \u001b[0;32massert\u001b[0m \u001b[0mpvalue_2\u001b[0m \u001b[0;34m>\u001b[0m \u001b[0;36m0.05\u001b[0m\u001b[0;34m\u001b[0m\u001b[0;34m\u001b[0m\u001b[0m\n\u001b[0m\u001b[1;32m      4\u001b[0m \u001b[0;32massert\u001b[0m \u001b[0mpvalue_3\u001b[0m \u001b[0;34m>\u001b[0m \u001b[0;36m0.05\u001b[0m\u001b[0;34m\u001b[0m\u001b[0;34m\u001b[0m\u001b[0m\n",
            "\u001b[0;31mNameError\u001b[0m: name 'pvalue_2' is not defined"
          ]
        }
      ],
      "source": [
        "# проверка того, что задание решено верно\n",
        "assert pvalue_1 < 0.05\n",
        "assert pvalue_2 > 0.05\n",
        "assert pvalue_3 > 0.05"
      ]
    },
    {
      "cell_type": "markdown",
      "id": "13b27ac4",
      "metadata": {
        "id": "13b27ac4"
      },
      "source": [
        "Объясните, почему `pvalue` от теста к тесту ведёт себя именно так. Подробнее про опыт с мышками читайте [в оригинальном исследовании.](https://www.sciencedirect.com/science/article/abs/pii/S0168159104000061)\n",
        "\n",
        "__Ответ:__"
      ]
    },
    {
      "cell_type": "markdown",
      "id": "abaa42dd",
      "metadata": {
        "id": "abaa42dd"
      },
      "source": [
        "## [10 баллов] Задание 5 (ломаем тест Манна-Уитни)\n",
        "\n",
        "Придумайте пример, на котором тест Манна-Уитни не будет работать. \n",
        "\n",
        "__Hint:__ Главная предпосылка теста заключается в том, что распределение не меняется, но у него происходит сдвиг. Воспользуйтесь этим. \n",
        "\n",
        "\\begin{equation*}\n",
        "    \\begin{aligned}\n",
        "    & H_0: F_X(x) = F_Y(y) \\\\\n",
        "    & H_A: F_X(x) = F_Y(y + m), m \\ne 0\n",
        "    \\end{aligned}\n",
        "\\end{equation*}\n",
        "\n",
        "\n",
        "<center>\n",
        "<img src='https://raw.githubusercontent.com/hse-econ-data-science/andan_2023/main/sem12_more_ab/mw.png' align='center' width=\"300x\">\n",
        "</center>\n"
      ]
    },
    {
      "cell_type": "code",
      "execution_count": null,
      "id": "ff364986",
      "metadata": {
        "id": "ff364986"
      },
      "outputs": [],
      "source": [
        "### ╰( ͡° ͜ʖ ͡° )つ▬▬ι═══════  bzzzzzzzzzz\n",
        "# will the code be with you\n",
        "\n",
        "# your code here\n"
      ]
    },
    {
      "cell_type": "markdown",
      "id": "6d13f614",
      "metadata": {
        "id": "6d13f614"
      },
      "source": [
        "## [10 баллов] Задание 6 (проблема подглядывания)\n",
        "\n",
        "Предположим, что мы отошли от классической схемы проведения АБ тестов и решили подводить итоги на уровне значимости 5% каждый день. Мы держим тест две недели. Если хотябы в один из дней p-value оказывается ниже $0.05,$ мы останавливаем тест и делаем выводы, что гипотеза не отвергается.\n",
        "\n",
        "Так делать нельзя. Это называется проблемой подглядывания. В случае такой процедуры уровень значимости выходит из-под контроля. Давайте убедимся в этом с помощью симуляций. \n",
        "\n",
        "- Запланируйте АБ-тест для долей таким образом, чтобы ошибка 1 и 2 рода были равны 5%. В качестве MDE возьмите любое значение.\n",
        "- Сгенерируйте нужное количество наблюдений. Разбейте его на 14 частей (тест идет 2 недели)\n",
        "- Проверяйте гипотезу каждый день и останавливайтесь, если она не отвергается\n",
        "- Какими оказались ошибки 1 и 2 рода в реальности?\n",
        "\n",
        "Симуляции надо провести отдельно для верности нулевой гипотезы и отдельно для верности альтернативной гипотезы."
      ]
    },
    {
      "cell_type": "code",
      "execution_count": null,
      "id": "a9047438",
      "metadata": {
        "id": "a9047438"
      },
      "outputs": [],
      "source": [
        "### ╰( ͡° ͜ʖ ͡° )つ▬▬ι═══════  bzzzzzzzzzz\n",
        "# will the code be with you\n",
        "\n",
        "# your code here\n"
      ]
    },
    {
      "cell_type": "markdown",
      "id": "635890af",
      "metadata": {
        "id": "635890af"
      },
      "source": [
        "## [20 баллов] Задание 7 (онлифанс) \n",
        "\n",
        "Эта задача на то, что ты выигрываешь или проигрываешь, если отказываешься от АБ-тестов и просто принимаешь решение об изенениях по среднему. Задание довольно творческое, так как способ симуляции вам предстоит придумать самостоятельно.\n",
        "\n",
        "У Аделины и Беллы есть аккаунты на онлифанс с конверсией $p=0.2\\%$. Они меняют вёрстки и смотрят, как дела с деньгами. Белла нанаяла аналитика и принимает решения об изменениях по $p-value < 0.05,$ а Аделина просто смотрит на среднее и катит по нему. Например, если на старом дизайне из тысячи посетителей только $299$ оставило копеечку, а на новом — $300$, берём новый. Если наоборот — оставляем старый.\n",
        "\n",
        "Пусть у каждой было $100$ правочек. Правочки одинаковые для обеих девушек. На них работает один и тот же фронтендер. Будем считать, что правочки независимы друг от друга. То есть, в какой бы момент мы не выкатили правочку, у нас всегда от неё будет одинаковое воздействие на конверсию. У каждой девушки было $100$ правочек. Кто после сотни правочек вырвется вперёд по конверсии? "
      ]
    },
    {
      "cell_type": "code",
      "execution_count": null,
      "id": "63d607e7",
      "metadata": {
        "id": "63d607e7"
      },
      "outputs": [],
      "source": [
        "### ╰( ͡° ͜ʖ ͡° )つ▬▬ι═══════  bzzzzzzzzzz\n",
        "# will the code be with you\n",
        "\n",
        "# your code here\n"
      ]
    },
    {
      "cell_type": "markdown",
      "id": "ee37538d",
      "metadata": {
        "id": "ee37538d"
      },
      "source": [
        " "
      ]
    }
  ],
  "metadata": {
    "kernelspec": {
      "display_name": "Python 3 (ipykernel)",
      "language": "python",
      "name": "python3"
    },
    "language_info": {
      "codemirror_mode": {
        "name": "ipython",
        "version": 3
      },
      "file_extension": ".py",
      "mimetype": "text/x-python",
      "name": "python",
      "nbconvert_exporter": "python",
      "pygments_lexer": "ipython3",
      "version": "3.10.9"
    },
    "colab": {
      "provenance": []
    }
  },
  "nbformat": 4,
  "nbformat_minor": 5
}