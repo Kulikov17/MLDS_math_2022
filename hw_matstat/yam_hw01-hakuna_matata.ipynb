{
  "cells": [
    {
      "cell_type": "markdown",
      "id": "9074d943",
      "metadata": {
        "id": "9074d943"
      },
      "source": [
        "<center>\n",
        "<img src=\"https://imgs.xkcd.com/comics/convincing.png\" height=\"200\"> \n",
        "\n",
        "# Прикладаная статистика: домашнее задание 1\n",
        "</center>\n",
        "\n",
        "> — Куда ты теперь, Док? Назад в будущее? <br> \n",
        ">  — Нет, там я уже был.\n",
        "\n",
        "$\\qquad$ $\\qquad$ $\\qquad$ $\\qquad$ **(«Назад в будущее 3»)**\n"
      ]
    },
    {
      "cell_type": "markdown",
      "id": "153348a7",
      "metadata": {
        "id": "153348a7"
      },
      "source": [
        "**ФИО:** Куликов Дмитрий Алексеевич\n",
        "\n",
        "**Забавный факт о себе:** Я никогда не ел холодец"
      ]
    },
    {
      "cell_type": "markdown",
      "id": "f40dc119",
      "metadata": {
        "id": "f40dc119"
      },
      "source": [
        "## Общая информация\n",
        "\n",
        "\n",
        "__Дата выдачи:__ 27.02.2022\n",
        "\n",
        "__Дедлайн:__ 23:59MSK 26.03.2022"
      ]
    },
    {
      "cell_type": "markdown",
      "id": "58abed2e",
      "metadata": {
        "id": "58abed2e"
      },
      "source": [
        "## Формат сдачи\n",
        "\n",
        "Сам ноутбук называйте в формате hw-01-NUM-USERNAME.ipynb, где NUM — номер из вашего логина, а USERNAME — ваши фамилия и имя. Файл надо будет, как обычно, сдать в anytask."
      ]
    },
    {
      "cell_type": "markdown",
      "id": "23434b16",
      "metadata": {
        "id": "23434b16"
      },
      "source": [
        "## Оформление"
      ]
    },
    {
      "cell_type": "markdown",
      "id": "8ce4c5db",
      "metadata": {
        "id": "8ce4c5db"
      },
      "source": [
        "1. Be good, drink milk and [think of Russia](https://www.youtube.com/watch?v=jyxSFfBKMxQ)\n",
        "2. Обязательно фиксируйте зерно генератора случайных чисел в экспериментах. При перезапуске кода значения не должны меняться.\n",
        "3. Вверху файла подпишите фамилию, имя, группу и какой-то занимательный факт о себе.\n",
        "4. Обратите внимание, что у графиков должны быть подписаны оси, заголовок графика и при необходимости обязательно наличие легенды. \n",
        "\n",
        "> За отсутствие названий графиков и подписей к осям могут снижаться баллы. Все картинки должны быть самодостаточны и визуально удобны для восприятия, так чтобы не нужно было смотреть ваш код или знать задание, чтобы понять что на них изображено.\n",
        "\n",
        "\n",
        "Для каждого построенного графика делайте выводы. Эти выводы не должны быть поверхностными и очевидными. Не будьте мудрым королём.\n",
        "\n",
        "<br>\n",
        "\n",
        "<center>\n",
        "<img src=\"https://raw.githubusercontent.com/hse-econ-data-science/andan_2023/main/hw/king.png\" width=\"300\"> \n",
        "</center>\n",
        "\n",
        "**Пример плохого вывода:** Синенькая линия идет вверх, а красная вниз. Черненькая идет вниз, а потом вверх. \n",
        "\n",
        "<br>\n",
        "\n",
        "<center>\n",
        "<img src=\"https://raw.githubusercontent.com/hse-econ-data-science/andan_2023/main/hw/bad_lines.png\" width=\"600\"> \n",
        "</center>"
      ]
    },
    {
      "cell_type": "markdown",
      "id": "6f6b8143",
      "metadata": {
        "id": "6f6b8143"
      },
      "source": [
        "Это домашнее задание состоит из двух частей: \n",
        "\n",
        "- Часть с кодом\n",
        "- Часть с ручными задачами\n",
        "\n",
        "Часть с кодом должна быть оформлена на в юпитерской тетрадке. Весь код необходимо писать на python.\n",
        "\n",
        "Ручную часть можно решать на бумаге и оформить в виде отсканированной pdf-ки с разборчивым почерком. Можно вбить решение в виде формул прямо в юпитерскую тетрадку, можно сделать pdf-ку в техе."
      ]
    },
    {
      "cell_type": "markdown",
      "id": "d26062a4",
      "metadata": {
        "id": "d26062a4"
      },
      "source": [
        "## Часть 1: ручная\n",
        "\n",
        "За эту часть можно набрать 50 баллов. Также можно набрать бонусные 15 баллов. \n",
        "\n",
        "Условия задач [лежат по ссылке](https://github.com/FUlyankin/yet_another_matstat_course/blob/main/hw_matstat/yam_hw01-hakuna_matata_tasks.pdf)"
      ]
    },
    {
      "cell_type": "markdown",
      "id": "725d5cbc",
      "metadata": {
        "id": "725d5cbc"
      },
      "source": [
        "## Часть 2: парадоксальная\n",
        "\n",
        "За эту часть можно набрать 50 баллов."
      ]
    },
    {
      "cell_type": "markdown",
      "id": "c69e00d7",
      "metadata": {
        "id": "c69e00d7"
      },
      "source": [
        "- подробнее про [парадокс инспектора](https://towardsdatascience.com/the-inspection-paradox-is-everywhere-2ef1c2e9d709)\n",
        "- подробнее про [парадокс Берксона](https://en.wikipedia.org/wiki/Berkson%27s_paradox)\n",
        "- забыли как в питоне делать симуляции? Смотрите видео с [первой недели онлайн-курса!](https://www.youtube.com/watch?v=xJV5t4-GsNM&list=PLCf-cQCe1FRxW2QMJbWBl4SSkVAPhId_e&index=6)\n",
        "- забыли чо такое ЦПТ и ЗБЧ? Смотрите видео с [пятой недели онлайн-курса!](https://www.youtube.com/watch?v=ivpWyorfWlA&list=PLCf-cQCe1FRyg1ajZ2HJVKknbuTujBOLN&index=11)"
      ]
    },
    {
      "cell_type": "markdown",
      "id": "ed75233f",
      "metadata": {
        "id": "ed75233f"
      },
      "source": [
        "### Задача 1 (Парадокс Берксона)\n",
        "\n",
        "Предположим, что результаты ЕГЭ школьников по русскому и математике независимы и хорошо аппроксимируются \n",
        "нормальным распределением с ожиданием 60 и стандартным отклонением 10. \n",
        "\n",
        "УШЭ (Урюпинская Школа Экономики) ныне престижна и забирает себе всех школьников набравших более $n$ баллов в сумме по русскому и математике. \n",
        "\n",
        "Для каждого $n$ от $80$ до $160$ с шагом $5$ случайно создайте $10^4$ школьников и поделите их на прошедших и не прошедших в УШЭ.\n",
        "\n",
        "\n",
        "__а) [5 баллов]__ Постройте график числа прошедших в УШЭ в зависимости от $n$. \n",
        "\n",
        "__б) [5 баллов]__ Постройте график выборочной корреляции между результатами по русскому и математике в зависимости от $n$ среди прошедших в УШЭ.\n",
        "\n",
        "__в) [5 баллов]__ Постройте график выборочной корреляции между результатами по русскому и математике в зависимости от $n$ среди не прошедших в УШЭ.\n",
        "\n",
        "В чём заключается парадокс? Прокомментируйте получившиеся результаты."
      ]
    },
    {
      "cell_type": "code",
      "source": [
        "import random\n",
        "import matplotlib.pyplot as plt \n",
        "import numpy as np\n",
        "random.seed(42)"
      ],
      "metadata": {
        "id": "sTRNSoTHyDW6"
      },
      "id": "sTRNSoTHyDW6",
      "execution_count": 32,
      "outputs": []
    },
    {
      "cell_type": "code",
      "source": [
        "mu = 60\n",
        "sigma = 10\n",
        "\n",
        "n_start = 80\n",
        "n_step = 5\n",
        "n_end = 160 + n_step # не включает границы\n",
        "\n",
        "count_pupuils = 10000"
      ],
      "metadata": {
        "id": "x74cot4SzdO1"
      },
      "id": "x74cot4SzdO1",
      "execution_count": 30,
      "outputs": []
    },
    {
      "cell_type": "code",
      "execution_count": 34,
      "id": "ed3eb6d6",
      "metadata": {
        "id": "ed3eb6d6",
        "outputId": "4185232c-1017-474a-e8da-8c341b99cf19",
        "colab": {
          "base_uri": "https://localhost:8080/"
        }
      },
      "outputs": [
        {
          "output_type": "stream",
          "name": "stdout",
          "text": [
            "{80: {'n_passed': 9959, 'n_failed': 41}, 85: {'n_passed': 9904, 'n_failed': 96}, 90: {'n_passed': 9789, 'n_failed': 211}, 95: {'n_passed': 9522, 'n_failed': 478}, 100: {'n_passed': 9050, 'n_failed': 950}, 105: {'n_passed': 8300, 'n_failed': 1700}, 110: {'n_passed': 7303, 'n_failed': 2697}, 115: {'n_passed': 5946, 'n_failed': 4054}, 120: {'n_passed': 4629, 'n_failed': 5371}, 125: {'n_passed': 3236, 'n_failed': 6764}, 130: {'n_passed': 2072, 'n_failed': 7928}, 135: {'n_passed': 1275, 'n_failed': 8725}, 140: {'n_passed': 642, 'n_failed': 9358}, 145: {'n_passed': 304, 'n_failed': 9696}, 150: {'n_passed': 105, 'n_failed': 9895}, 155: {'n_passed': 58, 'n_failed': 9942}, 160: {'n_passed': 26, 'n_failed': 9974}}\n"
          ]
        }
      ],
      "source": [
        "ege_results = {}\n",
        "    \n",
        "for n in range(n_start, n_end, n_step): \n",
        "  n_passed = 0\n",
        "\n",
        "  for pupil in range(count_pupuils):\n",
        "    russian = int(random.normalvariate(mu, sigma))\n",
        "    math = int(random.normalvariate(mu, sigma))\n",
        "\n",
        "    if (russian + math) > n:\n",
        "      n_passed += 1\n",
        "\n",
        "  ege_results[n] = {'n_passed': n_passed, 'n_failed': count_pupuils - n_passed}\n",
        "        \n",
        "print(ege_results)\n"
      ]
    },
    {
      "cell_type": "code",
      "source": [
        "ege_results[160]['n_passed']"
      ],
      "metadata": {
        "id": "cYqvhLpD24jA",
        "outputId": "326692e0-95e4-4947-f0a0-0bbf730ccd87",
        "colab": {
          "base_uri": "https://localhost:8080/"
        }
      },
      "id": "cYqvhLpD24jA",
      "execution_count": 39,
      "outputs": [
        {
          "output_type": "execute_result",
          "data": {
            "text/plain": [
              "26"
            ]
          },
          "metadata": {},
          "execution_count": 39
        }
      ]
    },
    {
      "cell_type": "code",
      "source": [
        "x = np.arange(n_start, n_end, n_step)\n",
        "y = np.array([ege_results[n]['n_passed'] for n in x])\n",
        "\n",
        "plt.figure(figsize=(10, 5))\n",
        "plt.plot(x,y, label='Число прошедших в УШЭ в зависимости от 𝑛')\n",
        "plt.xlabel('n балл', fontsize=14)\n",
        "plt.ylabel('Количество сдавших', fontsize=14)\n",
        "plt.grid(True)\n",
        "plt.show()"
      ],
      "metadata": {
        "id": "70vUcGKa2DMQ",
        "outputId": "1b3d1004-9353-4ef3-c63d-291ae476b8ad",
        "colab": {
          "base_uri": "https://localhost:8080/",
          "height": 338
        }
      },
      "id": "70vUcGKa2DMQ",
      "execution_count": 40,
      "outputs": [
        {
          "output_type": "display_data",
          "data": {
            "text/plain": [
              "<Figure size 720x360 with 1 Axes>"
            ],
            "image/png": "[encoded data removed]"
          },
          "metadata": {
            "needs_background": "light"
          }
        }
      ]
    },
    {
      "cell_type": "markdown",
      "id": "04322b94",
      "metadata": {
        "id": "04322b94"
      },
      "source": [
        "### Задача 2 (Парадокс инспектора)\n",
        "\n",
        "Автобусы отходят от автостанции с 8:00 до 20:00. Первый автобус отходит ровно в 8:00. Затем интервалы между автобусами случайны, независимы и равновероятно равны либо 5-и, либо 10-и минутам. Будем считать, что за минуту на автостанцию приходит ровно один пассажир, и все пассажиры едут ближайшим автобусом.\n",
        "\n",
        "Проведите $10^4$ экспериментов и с их помощью:\n",
        "\n",
        "__а) [5 баллов]__ Постройте гистограмму количества автобусов, отошедших от автостанции за сутки. Похоже ли визуально распределение на нормальное?\n",
        "\n",
        "__б) [5 баллов]__ Инспектор Тимон выбирает равновероятно один из всех автобусов отошедших от автостанции за сутки. Постройте гистограмму числа пассажиров на этом автобусе. Оцените математическое ожидание и дисперсию этого числа.\n",
        "\n",
        "__в) [5 баллов]__ Инспектор Пумба приходит на автостанцию в случайный момент времени, равномерный от 8:00 до 20:00 и садится в первый пришедший автобус. Постройте гистограмму числа пассажиров на этом автобусе. Оцените математическое ожидание и дисперсию этого числа.\n",
        "\n",
        "__г) [5 баллов]__ Как изменятся ответы на эти вопросы, если время между автобусами будет экспоненциально со средним в 10 минут?\n",
        "\n",
        "__Пояснения:__ первый автобус можно не включать в выборку, Пумбу за пассажира можно не считать. \n",
        "\n",
        "В чём заключается парадокс? Прокомментируйте получившиеся результаты."
      ]
    },
    {
      "cell_type": "code",
      "execution_count": null,
      "id": "bf64e5a1",
      "metadata": {
        "id": "bf64e5a1"
      },
      "outputs": [],
      "source": [
        "# your code here  =^･ω･^="
      ]
    },
    {
      "cell_type": "markdown",
      "id": "4cb71545",
      "metadata": {
        "id": "4cb71545"
      },
      "source": [
        "### Задача 3 (что-то похожее на ЦПТ, но в обратную сторону)\n",
        "\n",
        "Автору домашки вкинули эту задачу в качестве вступительного испытания на стажировку. В листочке было около десяти похожих задач. Решать надо было руками без компьютера. Но мы попробуем с. \n",
        "\n",
        "Пусть $X \\sim N(0, \\sigma^2)$. Пусть $\\Phi(x)$ — функция распределения для $N(0,1)$. Нужно найти математическое ожидание для случайной величины $\\Phi(X)$. \n",
        "\n",
        "__а) [2.5 балла]__ Оцените $\\mathbb{E}(\\Phi(X))$ с помощью симуляций\n",
        "\n",
        "__б) [2.5 балла]__ Постройте для случайной величины $\\Phi(X)$ гистограмму. Возьмите $\\sigma = 1$, после $\\sigma = 3$, после $\\sigma = 100$. Как ведёт себя распределение при росте дисперсии? Как думаете, к какой случайной величине сойдётся это распределение?"
      ]
    },
    {
      "cell_type": "code",
      "execution_count": null,
      "id": "f5801c25",
      "metadata": {
        "id": "f5801c25"
      },
      "outputs": [],
      "source": [
        "# your code here  (ﾉ´ з `)ノ"
      ]
    },
    {
      "cell_type": "markdown",
      "id": "5c943d4f",
      "metadata": {
        "id": "5c943d4f"
      },
      "source": [
        "### Задача 4 (квантильное преобразование)\n",
        "\n",
        "В прошлом семестре мы с вами говорили про квантильное преобразование, но ни разу его не использовали. Давайте это исправим.\n",
        "\n",
        "Пуcть у нас есть стрёмная функция распределения: \n",
        "\n",
        "$$\n",
        "F(x) = \\left( \\frac{\\ln x}{\\ln \\theta} \\right)^{\\alpha},  \\quad x \\in [1; \\theta]\n",
        "$$\n",
        "\n",
        "__[2.5 балла]__ Сгенерируйте из него выборку с помощью квантильного преобразования. Параметры $\\alpha$ и $\\theta$ возьмите на свой вкус.\n",
        "\n",
        "P.S. [видео, которое поможет](https://www.youtube.com/watch?v=ivpWyorfWlA&list=PLCf-cQCe1FRyg1ajZ2HJVKknbuTujBOLN&index=11)"
      ]
    },
    {
      "cell_type": "code",
      "execution_count": null,
      "id": "70be7e21",
      "metadata": {
        "id": "70be7e21"
      },
      "outputs": [],
      "source": [
        "# your code here  ٩(⁎❛ᴗ❛⁎)۶"
      ]
    },
    {
      "cell_type": "markdown",
      "id": "c0dbc1cf",
      "metadata": {
        "id": "c0dbc1cf"
      },
      "source": [
        "### Задача 5 (свойства оценок)\n",
        "\n",
        "У Дианы есть выборка $X_1, \\dots, X_n \\sim iid N(0, \\sigma^2)$. Она собирается использовать для параметра $\\sigma$ нестандартную оценку $\\hat \\sigma = \\frac{1}{n} \\sum_{i=1}^n |x_i|$. \n",
        "\n",
        "Пусть природа решила, что $\\sigma^2 = 16$. \n",
        "\n",
        "__а) [5 баллов]__ С помощью симуляций проверьте несмещённость оценки, состоятельность оценки.\n",
        "\n",
        "__б) [2.5 балла]__ Решая задачку руками, вы получили скорректированную на смещение $\\hat \\sigma.$ Постройте на одном графике распределение для неё и для классической $\\hat s$. Какая из них эффективнее? \n",
        "\n",
        "P.S. [несколько видео, которое помогут иши тут](https://www.youtube.com/watch?v=arYqiJcyE2s&list=PLCf-cQCe1FRxdjkT1RjdmuFeco11U8ZIP)"
      ]
    },
    {
      "cell_type": "code",
      "execution_count": null,
      "id": "4d574d65",
      "metadata": {
        "id": "4d574d65"
      },
      "outputs": [],
      "source": [
        "# your code here ʕ•ᴥ•ʔ"
      ]
    },
    {
      "cell_type": "markdown",
      "id": "4083add9",
      "metadata": {
        "id": "4083add9"
      },
      "source": [
        "**Бонус (1 балл):** \n",
        "\n",
        "Прикрепите фотографию того, как вы провели этот февраль. Какую самую классную эмоцию вы испытали за прошедший месяц?"
      ]
    },
    {
      "cell_type": "markdown",
      "id": "ee37538d",
      "metadata": {
        "id": "ee37538d"
      },
      "source": [
        " "
      ]
    }
  ],
  "metadata": {
    "kernelspec": {
      "display_name": "Python 3 (ipykernel)",
      "language": "python",
      "name": "python3"
    },
    "language_info": {
      "codemirror_mode": {
        "name": "ipython",
        "version": 3
      },
      "file_extension": ".py",
      "mimetype": "text/x-python",
      "name": "python",
      "nbconvert_exporter": "python",
      "pygments_lexer": "ipython3",
      "version": "3.10.9"
    },
    "colab": {
      "provenance": []
    }
  },
  "nbformat": 4,
  "nbformat_minor": 5
}