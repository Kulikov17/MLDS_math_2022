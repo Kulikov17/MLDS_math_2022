{
  "cells": [
    {
      "cell_type": "markdown",
      "metadata": {
        "id": "IO_YnaD6h1tj"
      },
      "source": [
        "<center>\n",
        "<img src=\"https://camo.githubusercontent.com/ad20aaaa48264581c46aa126919dbb72060ebd98cffe015523549b4974843ae5/68747470733a2f2f7261772e67697468756275736572636f6e74656e742e636f6d2f46556c79616e6b696e2f725f70726f626162696c6974792f6d61737465722f656e645f73656d696e6172732f73656d5f362f73747564656e745f746561636865725f646973742e706e67\" height=\"200\">\n",
        "\n",
        "# Прикладаная статистика: домашнее задание 3\n",
        "</center>\n",
        "\n",
        "> Если орел — я выиграла, если решка — ты проиграл.\n",
        "\n",
        "$\\qquad$ Рейчел из друзей\n"
      ]
    },
    {
      "cell_type": "markdown",
      "metadata": {
        "id": "S4WgmMUrh1tl"
      },
      "source": [
        "**ФИО:** Куликов Дмитрий Алексеевич\n",
        "\n",
        "\n",
        "## Общая информация\n",
        "\n",
        "\n",
        "__Дата выдачи:__ 24.05.2023\n",
        "\n",
        "__Дедлайн:__ 23:59MSK 11.06.2023"
      ]
    },
    {
      "cell_type": "markdown",
      "metadata": {
        "id": "7RD-k7JAh1tm"
      },
      "source": [
        "# Результаты A-B теста\n",
        "\n",
        "В данном задании вам нужно будет проанализировать АБ тест, проведенный на реальных пользователях Яндекса.\n",
        "\n",
        "### Описание данных:\n",
        "\n",
        "* `userID` — уникальный идентификатор пользователя\n",
        "* `browser` — браузер, который использовал userID\n",
        "* `slot` — в каком статусе пользователь участвовал в исследовании (exp = видел измененную страницу, control = видел неизменную страницу)\n",
        "* `n_clicks` — количество кликов, которые пользоваль совершил за n_queries\n",
        "* `n_queries` — количество запросов, который совершил userID, пользуясь браузером browser\n",
        "* `n_nonclk_queries` — количество запросов пользователя, в которых им не было совершено ни одного клика\n",
        "\n",
        "Обращаем ваше внимание, что не все люди используют только один браузер, поэтому в столбце userID есть повторяющиеся идентификаторы. В предлагаемых данных уникальным является сочетание userID и browser."
      ]
    },
    {
      "cell_type": "code",
      "execution_count": 1,
      "metadata": {
        "id": "6sAtQp5Mh1tm"
      },
      "outputs": [],
      "source": [
        "import numpy as np\n",
        "import pandas as pd\n",
        "from scipy import stats as sts\n",
        "import seaborn as sns\n",
        "import matplotlib.pyplot as plt"
      ]
    },
    {
      "cell_type": "code",
      "execution_count": 3,
      "metadata": {
        "id": "iglURttxh1to",
        "outputId": "025f198e-88a1-4226-a2e5-7c8c50f2cee9",
        "colab": {
          "base_uri": "https://localhost:8080/",
          "height": 224
        }
      },
      "outputs": [
        {
          "output_type": "stream",
          "name": "stdout",
          "text": [
            "(566134, 8)\n"
          ]
        },
        {
          "output_type": "execute_result",
          "data": {
            "text/plain": [
              "   userID     browser     slot  n_clicks  n_queries  n_nonclk_queries  \\\n",
              "0       1  Browser #2      exp        23         32                19   \n",
              "1       3  Browser #4      exp         3          4                 2   \n",
              "2       5  Browser #4      exp        29         35                16   \n",
              "3       6  Browser #4  control        12          6                 0   \n",
              "4       7  Browser #4      exp        54         68                30   \n",
              "\n",
              "   click_per_queries  empty_query_share  \n",
              "0           0.718750           0.593750  \n",
              "1           0.750000           0.500000  \n",
              "2           0.828571           0.457143  \n",
              "3           2.000000           0.000000  \n",
              "4           0.794118           0.441176  "
            ],
            "text/html": [
              "\n",
              "  <div id=\"df-6cecae17-44b5-48c5-8df3-92bf84f9533a\">\n",
              "    <div class=\"colab-df-container\">\n",
              "      <div>\n",
              "<style scoped>\n",
              "    .dataframe tbody tr th:only-of-type {\n",
              "        vertical-align: middle;\n",
              "    }\n",
              "\n",
              "    .dataframe tbody tr th {\n",
              "        vertical-align: top;\n",
              "    }\n",
              "\n",
              "    .dataframe thead th {\n",
              "        text-align: right;\n",
              "    }\n",
              "</style>\n",
              "<table border=\"1\" class=\"dataframe\">\n",
              "  <thead>\n",
              "    <tr style=\"text-align: right;\">\n",
              "      <th></th>\n",
              "      <th>userID</th>\n",
              "      <th>browser</th>\n",
              "      <th>slot</th>\n",
              "      <th>n_clicks</th>\n",
              "      <th>n_queries</th>\n",
              "      <th>n_nonclk_queries</th>\n",
              "      <th>click_per_queries</th>\n",
              "      <th>empty_query_share</th>\n",
              "    </tr>\n",
              "  </thead>\n",
              "  <tbody>\n",
              "    <tr>\n",
              "      <th>0</th>\n",
              "      <td>1</td>\n",
              "      <td>Browser #2</td>\n",
              "      <td>exp</td>\n",
              "      <td>23</td>\n",
              "      <td>32</td>\n",
              "      <td>19</td>\n",
              "      <td>0.718750</td>\n",
              "      <td>0.593750</td>\n",
              "    </tr>\n",
              "    <tr>\n",
              "      <th>1</th>\n",
              "      <td>3</td>\n",
              "      <td>Browser #4</td>\n",
              "      <td>exp</td>\n",
              "      <td>3</td>\n",
              "      <td>4</td>\n",
              "      <td>2</td>\n",
              "      <td>0.750000</td>\n",
              "      <td>0.500000</td>\n",
              "    </tr>\n",
              "    <tr>\n",
              "      <th>2</th>\n",
              "      <td>5</td>\n",
              "      <td>Browser #4</td>\n",
              "      <td>exp</td>\n",
              "      <td>29</td>\n",
              "      <td>35</td>\n",
              "      <td>16</td>\n",
              "      <td>0.828571</td>\n",
              "      <td>0.457143</td>\n",
              "    </tr>\n",
              "    <tr>\n",
              "      <th>3</th>\n",
              "      <td>6</td>\n",
              "      <td>Browser #4</td>\n",
              "      <td>control</td>\n",
              "      <td>12</td>\n",
              "      <td>6</td>\n",
              "      <td>0</td>\n",
              "      <td>2.000000</td>\n",
              "      <td>0.000000</td>\n",
              "    </tr>\n",
              "    <tr>\n",
              "      <th>4</th>\n",
              "      <td>7</td>\n",
              "      <td>Browser #4</td>\n",
              "      <td>exp</td>\n",
              "      <td>54</td>\n",
              "      <td>68</td>\n",
              "      <td>30</td>\n",
              "      <td>0.794118</td>\n",
              "      <td>0.441176</td>\n",
              "    </tr>\n",
              "  </tbody>\n",
              "</table>\n",
              "</div>\n",
              "      <button class=\"colab-df-convert\" onclick=\"convertToInteractive('df-6cecae17-44b5-48c5-8df3-92bf84f9533a')\"\n",
              "              title=\"Convert this dataframe to an interactive table.\"\n",
              "              style=\"display:none;\">\n",
              "        \n",
              "  <svg xmlns=\"http://www.w3.org/2000/svg\" height=\"24px\"viewBox=\"0 0 24 24\"\n",
              "       width=\"24px\">\n",
              "    <path d=\"M0 0h24v24H0V0z\" fill=\"none\"/>\n",
              "    <path d=\"M18.56 5.44l.94 2.06.94-2.06 2.06-.94-2.06-.94-.94-2.06-.94 2.06-2.06.94zm-11 1L8.5 8.5l.94-2.06 2.06-.94-2.06-.94L8.5 2.5l-.94 2.06-2.06.94zm10 10l.94 2.06.94-2.06 2.06-.94-2.06-.94-.94-2.06-.94 2.06-2.06.94z\"/><path d=\"M17.41 7.96l-1.37-1.37c-.4-.4-.92-.59-1.43-.59-.52 0-1.04.2-1.43.59L10.3 9.45l-7.72 7.72c-.78.78-.78 2.05 0 2.83L4 21.41c.39.39.9.59 1.41.59.51 0 1.02-.2 1.41-.59l7.78-7.78 2.81-2.81c.8-.78.8-2.07 0-2.86zM5.41 20L4 18.59l7.72-7.72 1.47 1.35L5.41 20z\"/>\n",
              "  </svg>\n",
              "      </button>\n",
              "      \n",
              "  <style>\n",
              "    .colab-df-container {\n",
              "      display:flex;\n",
              "      flex-wrap:wrap;\n",
              "      gap: 12px;\n",
              "    }\n",
              "\n",
              "    .colab-df-convert {\n",
              "      background-color: #E8F0FE;\n",
              "      border: none;\n",
              "      border-radius: 50%;\n",
              "      cursor: pointer;\n",
              "      display: none;\n",
              "      fill: #1967D2;\n",
              "      height: 32px;\n",
              "      padding: 0 0 0 0;\n",
              "      width: 32px;\n",
              "    }\n",
              "\n",
              "    .colab-df-convert:hover {\n",
              "      background-color: #E2EBFA;\n",
              "      box-shadow: 0px 1px 2px rgba(60, 64, 67, 0.3), 0px 1px 3px 1px rgba(60, 64, 67, 0.15);\n",
              "      fill: #174EA6;\n",
              "    }\n",
              "\n",
              "    [theme=dark] .colab-df-convert {\n",
              "      background-color: #3B4455;\n",
              "      fill: #D2E3FC;\n",
              "    }\n",
              "\n",
              "    [theme=dark] .colab-df-convert:hover {\n",
              "      background-color: #434B5C;\n",
              "      box-shadow: 0px 1px 3px 1px rgba(0, 0, 0, 0.15);\n",
              "      filter: drop-shadow(0px 1px 2px rgba(0, 0, 0, 0.3));\n",
              "      fill: #FFFFFF;\n",
              "    }\n",
              "  </style>\n",
              "\n",
              "      <script>\n",
              "        const buttonEl =\n",
              "          document.querySelector('#df-6cecae17-44b5-48c5-8df3-92bf84f9533a button.colab-df-convert');\n",
              "        buttonEl.style.display =\n",
              "          google.colab.kernel.accessAllowed ? 'block' : 'none';\n",
              "\n",
              "        async function convertToInteractive(key) {\n",
              "          const element = document.querySelector('#df-6cecae17-44b5-48c5-8df3-92bf84f9533a');\n",
              "          const dataTable =\n",
              "            await google.colab.kernel.invokeFunction('convertToInteractive',\n",
              "                                                     [key], {});\n",
              "          if (!dataTable) return;\n",
              "\n",
              "          const docLinkHtml = 'Like what you see? Visit the ' +\n",
              "            '<a target=\"_blank\" href=https://colab.research.google.com/notebooks/data_table.ipynb>data table notebook</a>'\n",
              "            + ' to learn more about interactive tables.';\n",
              "          element.innerHTML = '';\n",
              "          dataTable['output_type'] = 'display_data';\n",
              "          await google.colab.output.renderOutput(dataTable, element);\n",
              "          const docLink = document.createElement('div');\n",
              "          docLink.innerHTML = docLinkHtml;\n",
              "          element.appendChild(docLink);\n",
              "        }\n",
              "      </script>\n",
              "    </div>\n",
              "  </div>\n",
              "  "
            ]
          },
          "metadata": {},
          "execution_count": 3
        }
      ],
      "source": [
        "df = pd.read_csv('data/ab_browser_test.csv',sep=',')\n",
        "\n",
        "df['click_per_queries'] = df['n_clicks']/df['n_queries']\n",
        "df['empty_query_share'] = df['n_nonclk_queries']/df['n_queries']\n",
        "\n",
        "print(df.shape)\n",
        "df.head()"
      ]
    },
    {
      "cell_type": "markdown",
      "metadata": {
        "id": "6HC_hmJ9h1to"
      },
      "source": [
        "Будем работать с числом кликов на количество пользовательских сессий.\n",
        "\n",
        "> Вообще, это ratio-метрика. Из-за этого у неё будут довольно тяжёлые хвосты. Мы увидим это ниже в пункте про бутстрэп. И к ней нужен особый подход, о котором мы поговорим на лекции. Пока что будем это игнорировать. В целом, можно откатиться к кликам и работать с их средним, но методологически правильнее отнормировать их на число сессий."
      ]
    },
    {
      "cell_type": "markdown",
      "metadata": {
        "id": "WguxYCH4h1tp"
      },
      "source": [
        "__[10 баллов]__ Посчитайте, насколько в группе exp больше пользовательских кликов по сравнению с группой control в процентах от числа кликов в контрольной группе."
      ]
    },
    {
      "cell_type": "code",
      "source": [
        "n_clicks_control = df[df.slot == 'control'].n_clicks.values\n",
        "n_clicks_exp = df[df.slot == 'exp'].n_clicks.values"
      ],
      "metadata": {
        "id": "lGUkA3DcjqNt"
      },
      "execution_count": 4,
      "outputs": []
    },
    {
      "cell_type": "code",
      "source": [
        "(sum(n_clicks_exp) - sum(n_clicks_control)) / sum(n_clicks_control) * 100"
      ],
      "metadata": {
        "id": "Ij54t4AUjt5k",
        "outputId": "bae689af-94b9-47bd-ceb2-2d0fb194a137",
        "colab": {
          "base_uri": "https://localhost:8080/"
        }
      },
      "execution_count": 5,
      "outputs": [
        {
          "output_type": "execute_result",
          "data": {
            "text/plain": [
              "1.6135689824415809"
            ]
          },
          "metadata": {},
          "execution_count": 5
        }
      ]
    },
    {
      "cell_type": "markdown",
      "metadata": {
        "id": "7d81VywDh1tp"
      },
      "source": [
        "Поскольку данных достаточно много (порядка полумиллиона уникальных пользователей), отличие в несколько процентов может быть не только практически значимым, но и значимым статистически. Последнее утверждение нуждается в дополнительной проверке."
      ]
    },
    {
      "cell_type": "markdown",
      "metadata": {
        "id": "iMrNka-7h1tq"
      },
      "source": [
        "## Часть 1: анализ АБ-теста"
      ]
    },
    {
      "cell_type": "markdown",
      "metadata": {
        "id": "J2tuHcdwh1tq"
      },
      "source": [
        "__[10 баллов]__ Давайте мнимательнее посмотрим на то, что происходит с кликами в наших пользовательских сессиях. Постройте для контрольной и тестовой групп визуализации и ответьте на следующие вопросы.\n",
        "\n",
        "- Правда ли, что в данных есть много выбросов?\n",
        "- Правда ли, что данные пришли из одного распределения и в группах отличия только в сдвиге (для ответа на этот вопрос постройте для обеих групп квантили распределений с шагом в 0.1 и сравните их между собой + сравните гистограмы по форме)\n",
        "- Как думаете, какие тесты применимы здесь для проведения АБ?"
      ]
    },
    {
      "cell_type": "markdown",
      "metadata": {
        "id": "0CyntLfWh1tr"
      },
      "source": [
        "**Ответы:**\n",
        "\n"
      ]
    },
    {
      "cell_type": "markdown",
      "source": [
        "Пункт 1."
      ],
      "metadata": {
        "id": "RmHlGuqz0jpW"
      }
    },
    {
      "cell_type": "markdown",
      "source": [
        "Чтобы определить, есть ли в данных выбросы, можно построить ящик с усами (boxplot) для каждой группы и визуально оценить наличие отдельных значений, выходящих за пределы \"усов\""
      ],
      "metadata": {
        "id": "7jS1WaPe0LF1"
      }
    },
    {
      "cell_type": "code",
      "source": [
        "plt.figure(1, figsize = (10,5))\n",
        "\n",
        "# Визуализация ящика с усами для группы exp\n",
        "plt.subplot(1, 2, 1)\n",
        "plt.boxplot(n_clicks_exp, showfliers=True)\n",
        "plt.title('Exp Group - Boxplot')\n",
        "\n",
        "\n",
        "# Визуализация ящика с усами для группы control\n",
        "plt.subplot(1, 2, 2)\n",
        "plt.boxplot(n_clicks_control, showfliers=True)\n",
        "plt.title('Control Group - Boxplot')\n",
        "\n",
        "plt.show()"
      ],
      "metadata": {
        "id": "760fFhJxzAb0",
        "outputId": "4f6891ec-4d0c-4ea0-976a-27133744c225",
        "colab": {
          "base_uri": "https://localhost:8080/",
          "height": 468
        }
      },
      "execution_count": 19,
      "outputs": [
        {
          "output_type": "display_data",
          "data": {
            "text/plain": [
              "<Figure size 1000x500 with 2 Axes>"
            ],
            "image/png": "[encoded data removed]"
          },
          "metadata": {}
        }
      ]
    },
    {
      "cell_type": "markdown",
      "source": [
        "Выбросов много"
      ],
      "metadata": {
        "id": "9sXsBJur0NnD"
      }
    },
    {
      "cell_type": "markdown",
      "source": [
        "Пункт 2."
      ],
      "metadata": {
        "id": "mWBZyCKj0nZE"
      }
    },
    {
      "cell_type": "code",
      "source": [
        "# Построение квантилей распределений\n",
        "quantiles_exp = np.arange(0.1, 1, 0.1)\n",
        "quantiles_control = np.arange(0.1, 1, 0.1)\n",
        "\n",
        "quantile_exp_values = np.percentile(n_clicks_exp, quantiles_exp * 100)\n",
        "quantile_control_values = np.percentile(n_clicks_control, quantiles_control * 100)\n",
        "\n",
        "# Визуализация квантилей распределений\n",
        "plt.plot(quantiles_exp, quantile_exp_values, label='Exp Group')\n",
        "plt.plot(quantiles_control, quantile_control_values, label='Control Group')\n",
        "plt.xlabel('Quantiles')\n",
        "plt.ylabel('Clicks')\n",
        "plt.legend()\n",
        "plt.title('Quantiles of Clicks Distribution')\n",
        "plt.show()\n",
        "\n",
        "# Сравнение гистограмм распределений\n",
        "plt.hist(n_clicks_exp, bins=30, alpha=0.5, label='Exp Group')\n",
        "plt.hist(n_clicks_control, bins=30, alpha=0.5, label='Control Group')\n",
        "plt.xlabel('Clicks')\n",
        "plt.ylabel('Frequency')\n",
        "plt.legend()\n",
        "plt.title('Histograms of Clicks Distribution')\n",
        "plt.show()\n"
      ],
      "metadata": {
        "id": "VMvWN4iy0fP-",
        "outputId": "3b772ada-1aa4-460b-95f0-d02408d0d667",
        "colab": {
          "base_uri": "https://localhost:8080/",
          "height": 927
        }
      },
      "execution_count": 21,
      "outputs": [
        {
          "output_type": "display_data",
          "data": {
            "text/plain": [
              "<Figure size 640x480 with 1 Axes>"
            ],
            "image/png": "[encoded data removed]"
          },
          "metadata": {}
        },
        {
          "output_type": "display_data",
          "data": {
            "text/plain": [
              "<Figure size 640x480 with 1 Axes>"
            ],
            "image/png": "[encoded data removed]"
          },
          "metadata": {}
        }
      ]
    },
    {
      "cell_type": "markdown",
      "source": [
        "Квантили распределений совпадают и гистограммы имеют схожую форму, можно предположить, что данные пришли из одного распределения, и отличия между группами обусловлены только сдвигом."
      ],
      "metadata": {
        "id": "_O4grbo81Ft0"
      }
    },
    {
      "cell_type": "markdown",
      "metadata": {
        "id": "kJZ_rk8th1tr"
      },
      "source": [
        "__[10 баллов]__ Скорее всего, в пункте выше вы написали, что $z$-тест нам не подходит из-за выбросов. Однако, мы не можем наверняка знать, насколько серьёзное влияние эти выбросы оказали на ЦПТ и сломали ли они её. Если посчитать по выброкам средние и медианы, они окажутся очень похожими.\n",
        "\n",
        "Бутстрап — это асимптотическая техника для получения критических значений статистики. Давайте проведём следующую процедуру. Ограничимся в рамках неё контрольной группой. Поскольку мы не знаем истинного распределения генеральной совокупности, мы можем применить бутстрэп, чтобы понять, как распределена z-статистика и сравнить её распределение с нормальным.\n",
        "\n",
        "Поскольку мы знаем, что $\\text{Var}(\\bar X_n) = \\frac{\\sigma^2}{n}$, нам не надо будет делать бутстрэп в бутстрэпе. Когда мы знаем для нашей статистики форму дисперсии, бутстрэп называется __параметрическим.__\n",
        "\n",
        "1. Получите из данных `n_boot_samples` псевдовыборок,\n",
        "2. По каждой из этих выборок посчитайте среднее и его дисперсию,\n",
        "3. Рассчитайте значение $z$-статистики,\n",
        "4. Для получившегося вектора из $z$-статистик постройте `qq-plot` с помощью ` scipy.stats.probplot` для нормального распределения.\n",
        "\n",
        "Сделайте выводы."
      ]
    },
    {
      "cell_type": "code",
      "execution_count": 32,
      "metadata": {
        "id": "bqKx9BqCh1ts"
      },
      "outputs": [],
      "source": [
        "def get_boot_samples(data, n_samples):\n",
        "    indices = np.random.randint(0, len(data), (n_samples, len(data)))\n",
        "    samples = data[indices]\n",
        "    return samples"
      ]
    },
    {
      "cell_type": "code",
      "source": [
        "n_boot_samples = 500\n",
        "np.random.seed(42)"
      ],
      "metadata": {
        "id": "7GsuxWvnnjJx"
      },
      "execution_count": 31,
      "outputs": []
    },
    {
      "cell_type": "code",
      "source": [
        "control_samples = get_boot_samples(n_clicks_control, n_boot_samples)"
      ],
      "metadata": {
        "id": "TxiDz_Kk4Ke_"
      },
      "execution_count": 33,
      "outputs": []
    },
    {
      "cell_type": "code",
      "source": [
        "# Инициализация массива для хранения z-статистик\n",
        "z_stats = np.zeros(n_boot_samples)\n",
        "\n",
        "mean_clicks_control = np.mean(n_clicks_control)\n",
        "\n",
        "# Генерация псевдовыборок и расчет z-статистик\n",
        "for i in range(n_boot_samples):\n",
        "    mean = np.mean(control_samples[i])\n",
        "    variance = np.var(control_samples[i])\n",
        "    std_error = np.sqrt(variance / len(control_samples[i]))\n",
        "    z_stats[i] = (mean - mean_clicks_control) / std_error"
      ],
      "metadata": {
        "id": "cEUVv9ca4CKF"
      },
      "execution_count": 41,
      "outputs": []
    },
    {
      "cell_type": "code",
      "source": [
        "# QQ-plot для сравнения z-статистик с нормальным распределением\n",
        "sts.probplot(z_stats, dist='norm', plot=plt)\n",
        "plt.title(\"QQ-plot: Z-Statistic vs Normal Distribution\")\n",
        "plt.show()"
      ],
      "metadata": {
        "id": "LClPDnLZ6zY5",
        "outputId": "8da9060c-997d-42b4-f35b-c119af1556a4",
        "colab": {
          "base_uri": "https://localhost:8080/",
          "height": 472
        }
      },
      "execution_count": 43,
      "outputs": [
        {
          "output_type": "display_data",
          "data": {
            "text/plain": [
              "<Figure size 640x480 with 1 Axes>"
            ],
            "image/png": "[encoded data removed]"
          },
          "metadata": {}
        }
      ]
    },
    {
      "cell_type": "markdown",
      "source": [
        "Исходя из QQ-графика, можно сделать выводы о сходстве распределения z-статистик и нормального распределения. Точки на графике практически совпадают с прямой, можно считать, что распределение z-статистик близко к нормальному. Хвосты распределения немного отличаются от стандартного нормального."
      ],
      "metadata": {
        "id": "DSkgWzEr7xfL"
      }
    },
    {
      "cell_type": "markdown",
      "metadata": {
        "id": "ZH46_Eg3h1ts"
      },
      "source": [
        "__[10 баллов]__ Осторожно, спойлеры! В прошлом пункте у вас получилась картинка, на которой хвосты распределения немного отличаются от стандартного нормального. Давайте сделаем вид, что всё хорошо и отличия на хвостах нет. Проверьте гипотезу о равенстве средних между группами с помощью $z-$теста на уровне значимости $1\\%$."
      ]
    },
    {
      "cell_type": "markdown",
      "source": [
        "$$\n",
        "\\begin{aligned}\n",
        "&H_0: \\hspace{2mm} \\mu_1 = \\mu_2 \\hspace{2mm} \\text{Среднее число кликов не отличается} \\\\\n",
        "&H_1: \\hspace{2mm} \\mu_1 \\neq \\mu_2  \\hspace{2mm} \\text{Среднее число кликов отличается}\n",
        "\\end{aligned}\n",
        "$$"
      ],
      "metadata": {
        "id": "4unNGCN29inv"
      }
    },
    {
      "cell_type": "code",
      "execution_count": 44,
      "metadata": {
        "id": "BCChPeDXh1ts"
      },
      "outputs": [],
      "source": [
        "alpha = 0.01 # уровень значимости = 1%\n",
        "nx, ny = n_clicks_control.size, n_clicks_exp.size     # размер выборок\n",
        "\n",
        "diff = n_clicks_control.mean() - n_clicks_exp.mean()       # разность средних\n",
        "diff_std = np.sqrt(n_clicks_control.var(ddof=1)/nx + n_clicks_exp.var(ddof=1)/ny)   # стандартное отклонение\n",
        "\n",
        "z_obs = diff/diff_std            # наблюдаемое значение\n",
        "z_crit = sts.norm.ppf(1 - alpha / 2)      # критическое значение"
      ]
    },
    {
      "cell_type": "code",
      "source": [
        "print(f'Наблюдаемое значение {z_obs:.3} не попадает в ({-z_crit:.3}, {z_crit:.3}) => Нулевая гипотеза отвергается')"
      ],
      "metadata": {
        "id": "zv0EFL0x_6I3",
        "outputId": "bc4e1d4b-4db3-4d22-f3a5-b0fd8ae9a48d",
        "colab": {
          "base_uri": "https://localhost:8080/"
        }
      },
      "execution_count": 46,
      "outputs": [
        {
          "output_type": "stream",
          "name": "stdout",
          "text": [
            "Наблюдаемое значение -5.63 не попадает в (-2.58, 2.58) => Нулевая гипотеза отвергается\n"
          ]
        }
      ]
    },
    {
      "cell_type": "markdown",
      "source": [
        "Таким образом, среднее число кликов отличается."
      ],
      "metadata": {
        "id": "5zhgMJPg-RyG"
      }
    },
    {
      "cell_type": "markdown",
      "metadata": {
        "id": "_GTDgZ5Dh1tt"
      },
      "source": [
        "__[10 баллов]__ Давайте попробуем понять, какими при таких объёмах выборки оказываются MDE и ошибка второго рода. Конечно, же сделать это надо до проведения АБ-теста. Но не мы его готовили... При решении этого пункта выберите какое-то адекватное значение MDE и получите отталкиваясь от него ошибку второго рода.\n",
        "\n",
        "Формула для расчета числа наблюдений __для одной группы:__\n",
        "\n",
        "$$\n",
        "n_{\\text{one group}} = \\frac{(\\sigma_A^2 + \\sigma_B^2) \\cdot (z_{1-\\frac{\\alpha}{2}} + z_{1-\\beta})^2}{MDE^2},\n",
        "$$"
      ]
    },
    {
      "cell_type": "code",
      "execution_count": null,
      "metadata": {
        "id": "qGAre8rHh1tt"
      },
      "outputs": [],
      "source": [
        "# ваш код"
      ]
    },
    {
      "cell_type": "markdown",
      "metadata": {
        "id": "g1IYUNMgh1tt"
      },
      "source": [
        "__[10 баллов]__ Хвосты отличаются от стандартного нормального. По хорошему, для проверки гипотезы нужно использовать бутстрап. В контексте средних, на бутстрап можно смотреть как на технику, которая уточняет, насколько сильно хвосты распределения стали тяжелее по сравнению с ЦПТ.\n",
        "\n",
        "Проверьте гипотезу с помощью бутстрапа! Воспользуйтесь следующим алгоритмом с лекции:\n",
        "\n",
        "1. Посчитайте наблюдаемое значение статистики.\n",
        "2. Пусть $\\bar h$ - это среднее посчитанное по обеим выборкам вместе. Создайте две новые выборки $$x'_i = x_i - \\bar x + \\bar h \\\\ y'_i = y_i - \\bar y + \\bar h.$$ Такое рецентрирование сдвинет обе выборки к общему среднему и  позволит заложить в симуляцию информацию о верности нулевой гипотезы.\n",
        "3. Сбутстрапируйте выборки $x^{*}$ и $y^{*}$ из $x'$ и $y'$. Рассчитайте значение z-статистики. Повторит процедуру $B$ раз.\n",
        "4. Для оценки `p-value` воспользуйтесь формулой:\n",
        "\n",
        "$$\n",
        "2 * \\frac{1}{B} \\sum_{i=1}^B [z_i^{*} \\ge z_{obs}]\n",
        "$$"
      ]
    },
    {
      "cell_type": "code",
      "execution_count": null,
      "metadata": {
        "id": "8-IUAUp7h1tu"
      },
      "outputs": [],
      "source": [
        "# ваш код"
      ]
    },
    {
      "cell_type": "markdown",
      "metadata": {
        "id": "_MeGtWpmh1tu"
      },
      "source": [
        "__Ответьте на следующие вопросы:__\n",
        "\n",
        "- Изменились ли выводы АБ-теста?\n",
        "- Насколько сильно критическое значение статистики, полученной с помощью бутстрэпа, отличается от киритческого значения нормального распределения?\n",
        "- Какую из ошибок (1 рода/2 рода) вы будете чаще совершать, если в ситуации с толстыми хвостами будете пользоваться нормальным распредеелнием? Насколько чаще будет возникать эта ошибка?"
      ]
    },
    {
      "cell_type": "markdown",
      "metadata": {
        "id": "SuXIZ-vkh1tu"
      },
      "source": [
        "__[10 баллов]__ Насколько больше наблюдений нам необходимо для проверки гипотезы по сравнению с z-тестом? Для ответа на этот вопрос подставьте критические значение из бустрап-распределения в формулу для оценки числа наблюдений. В качестве MDE возьмите величину, которую вы сами зафикисировали в прошлых пунктах. В качестве ошибки второго рода возьмите получившуюся при рассчётах величину."
      ]
    },
    {
      "cell_type": "code",
      "execution_count": null,
      "metadata": {
        "id": "Fml80rHOh1tu"
      },
      "outputs": [],
      "source": [
        "# ваш код"
      ]
    },
    {
      "cell_type": "markdown",
      "metadata": {
        "id": "FRlKwDKXh1tu"
      },
      "source": [
        "__[10 баллов]__ Проверьте ту же гипотезу тестом Манна-Уитни. Используйте для этого функцию `scipy.stats.mannwhitneyu`."
      ]
    },
    {
      "cell_type": "code",
      "execution_count": 48,
      "metadata": {
        "id": "uWsQoYPWh1tv",
        "outputId": "f80d829f-2641-4113-8735-897b549d3bbe",
        "colab": {
          "base_uri": "https://localhost:8080/"
        }
      },
      "outputs": [
        {
          "output_type": "stream",
          "name": "stdout",
          "text": [
            "Наблюдаемое значение: 38940590204.0\n",
            "P-значение: 6.2472e-75\n"
          ]
        }
      ],
      "source": [
        "mw_obs, mw_pval = sts.mannwhitneyu(n_clicks_control, n_clicks_exp, alternative='two-sided')\n",
        "\n",
        "print(f\"Наблюдаемое значение: {mw_obs}\")\n",
        "print(f\"P-значение: {mw_pval:.5}\")"
      ]
    },
    {
      "cell_type": "markdown",
      "source": [
        " `pvalue < alpha=0.01` => H0 отвергается в пользу H1, т.е. среднее число кликов отличается.\n"
      ],
      "metadata": {
        "id": "IfzlJECRB60T"
      }
    },
    {
      "cell_type": "markdown",
      "metadata": {
        "id": "rcFQjlcPh1tv"
      },
      "source": [
        "При $n,m \\to \\infty$ статистика Манна-Уитни сходится к нормальному распределению со следующими параметрами:\n",
        "\n",
        "$$\n",
        "U \\Rightarrow N \\left( \\frac{n_T \\cdot n_C}{2}, \\frac{n_T \\cdot n_C \\cdot (n_T + n_C + 1)}{12} \\right)\n",
        "$$\n",
        "\n",
        "Отталкиваясь от этого приближения, определите сколько наблюдений нам необходимо для проверки гипотезы для тех же MDE и ошибки 2 рода, что и у z-теста/бустрапа."
      ]
    },
    {
      "cell_type": "markdown",
      "source": [
        "Ахтунг! Решили что этот вопрос некорректен"
      ],
      "metadata": {
        "id": "hPvH7a1AvYL9"
      }
    },
    {
      "cell_type": "markdown",
      "metadata": {
        "id": "VVRcD_w2h1tv"
      },
      "source": [
        "__[10 баллов]__ У многих аналитиков с теста Манна-Уитни подгорает жепа. Это происходит из-за того, что на практике его часто используют довольно бездумно. [Вот один из свежих примеров бомбежа.](https://habr.com/ru/companies/avito/articles/709596/)\n",
        "\n",
        "В нашем кейсе, если аккуратно посчитать квантили обоих распределений, можно увидеть, что в тестовой группе квантили и правда съехали вправо, а форма гистограмм не изменилась. В целом, это знак, что тест можно спокойно применять. Однако, квантили левее $0.1$ не поменялись.\n",
        "\n",
        "Вместо тесто Манна-Уитни на сдвиг распределения, мы можем попробовать проверить гипотезу о том, что наше распределение, в принципе, как-то поменялось. Для таких гипотез обычно используются критерии согласия. Проверьте гипотезу о том, что распределения тестовой и контрольной групп совпадают с помощью теста Колмогорова-Смирнова `scipy.stats.ks_2sam`."
      ]
    },
    {
      "cell_type": "code",
      "execution_count": 51,
      "metadata": {
        "id": "ssytAGuFh1tv",
        "outputId": "8a9d93a7-e641-4bd8-ce89-403b05c57133",
        "colab": {
          "base_uri": "https://localhost:8080/"
        }
      },
      "outputs": [
        {
          "output_type": "execute_result",
          "data": {
            "text/plain": [
              "KstestResult(statistic=0.02378942283148694, pvalue=5.1774630506369294e-70, statistic_location=0, statistic_sign=1)"
            ]
          },
          "metadata": {},
          "execution_count": 51
        }
      ],
      "source": [
        "sts.ks_2samp(n_clicks_control, n_clicks_exp)"
      ]
    },
    {
      "cell_type": "markdown",
      "metadata": {
        "id": "Wr7Xtisrh1tw"
      },
      "source": [
        "Насколько сильно друг от друга отличаются p-значения этих тестов? Как думаете, почему отличие именно такое?\n",
        "\n",
        "__Ответ:__"
      ]
    },
    {
      "cell_type": "markdown",
      "metadata": {
        "id": "0kUk4pImh1tw"
      },
      "source": [
        "## Часть 2: CUPED\n",
        "\n",
        "Попробуем натянуть сову на глобус. Давайте сделаем вид, что на самом деле первые $50\\%$ таблицы это выборка, которая у нас была до эксперимента. Попробуем провернуть CUPED.\n",
        "\n",
        "__[10 баллов]__ рассчитайте значение стандартной ошибки для $z$-статистики по второй части выборки. С помощью CUPED мы будем пытаться уменьшить значение этой ошибки."
      ]
    },
    {
      "cell_type": "code",
      "source": [
        "size_part = df.shape[0] // 2"
      ],
      "metadata": {
        "id": "mDLuUtmSKGie"
      },
      "execution_count": 71,
      "outputs": []
    },
    {
      "cell_type": "code",
      "source": [
        "first_part_df = df.iloc[:size_part]\n",
        "second_part_df = df.iloc[size_part:]"
      ],
      "metadata": {
        "id": "mfy-CO8BFrFG"
      },
      "execution_count": 72,
      "outputs": []
    },
    {
      "cell_type": "code",
      "execution_count": 73,
      "metadata": {
        "id": "O_2i1E6Fh1tw"
      },
      "outputs": [],
      "source": [
        "n_clicks_control1 = first_part_df[first_part_df.slot == 'control'].n_clicks.values\n",
        "n_clicks_exp1 = first_part_df[first_part_df.slot == 'exp'].n_clicks.values\n",
        "\n",
        "n_clicks_control2 = second_part_df[second_part_df.slot == 'control'].n_clicks.values\n",
        "n_clicks_exp2 = second_part_df[second_part_df.slot == 'exp'].n_clicks.values"
      ]
    },
    {
      "cell_type": "code",
      "source": [
        "std_control2 = np.std(n_clicks_control2)\n",
        "std_exp2 = np.std(n_clicks_exp2)\n",
        "\n",
        "n_control2 = n_clicks_control2.size\n",
        "n_exp2 = n_clicks_exp2.size\n",
        "\n",
        "std_error2 = np.sqrt((std_control2**2 / n_control2) + (std_exp2**2 / n_exp2))\n",
        "\n",
        "print(\"Стандартная ошибка для z-статистики (вторая часть выборки):\", std_error2)"
      ],
      "metadata": {
        "id": "-ltwda5AG0QD",
        "outputId": "8b371616-6f35-44a3-8f49-5c37bec30efb",
        "colab": {
          "base_uri": "https://localhost:8080/"
        }
      },
      "execution_count": 74,
      "outputs": [
        {
          "output_type": "stream",
          "name": "stdout",
          "text": [
            "Стандартная ошибка для z-статистики (вторая часть выборки): 0.03646629052383476\n"
          ]
        }
      ]
    },
    {
      "cell_type": "markdown",
      "metadata": {
        "id": "vBV6sIQFh1tw"
      },
      "source": [
        "__[20 баллов]__ теперь проверните CUPED. Используйте значение целевой переменной из первой части выборки как ковариату.\n",
        "\n",
        "Для оценки линейных моделей используйте пакет `statsmodels`. Пример того, как это можно делать [есть тут.](https://github.com/FUlyankin/matstat-AB/blob/main/week13_linreg/11_python_regression.ipynb) Предполагайте, что в данных есть гетероскедастичность. Для её фикса пользуйтесь `HC-3`.\n",
        "\n",
        "Насколько у нас получилось уменьшить стандартную ошибку?"
      ]
    },
    {
      "cell_type": "code",
      "execution_count": 90,
      "metadata": {
        "id": "sg1WgbRnh1tw",
        "outputId": "3c5d322f-f3b6-43a7-d22e-30d9a46fb147",
        "colab": {
          "base_uri": "https://localhost:8080/"
        }
      },
      "outputs": [
        {
          "output_type": "stream",
          "name": "stdout",
          "text": [
            "Стандартная ошибка с использованием CUPED: 0.0010941891204778727\n"
          ]
        }
      ],
      "source": [
        "import statsmodels.api as sm\n",
        "\n",
        "covariate = first_part_df.n_clicks.values\n",
        "control = df[df.slot == 'control'].n_clicks.values\n",
        "exp = df[df.slot == 'exp'].n_clicks.values\n",
        "\n",
        "# Создание матрицы объясняющих переменных с добавлением константы\n",
        "X = sm.add_constant(np.concatenate([covariate, covariate]))\n",
        "\n",
        "# Создание вектор зависимых переменных\n",
        "y = np.concatenate([control, exp])\n",
        "\n",
        "model = sm.OLS(y, X)\n",
        "results = model.fit(cov_type='HC3')\n",
        "\n",
        "std_error_cuped = results.bse[1]\n",
        "\n",
        "print(\"Стандартная ошибка с использованием CUPED:\", std_error_cuped)\n"
      ]
    },
    {
      "cell_type": "code",
      "source": [
        "print(f'Стандартная ошибка уменьшилась на: {std_error2 - std_error_cuped}')"
      ],
      "metadata": {
        "id": "JmOZ9Z-dNmQL",
        "outputId": "4a3b0b28-2162-4861-b0c4-e5e4c2b5b23d",
        "colab": {
          "base_uri": "https://localhost:8080/"
        }
      },
      "execution_count": 91,
      "outputs": [
        {
          "output_type": "stream",
          "name": "stdout",
          "text": [
            "Стандартная ошибка уменьшилась на: 0.035372101403356886\n"
          ]
        }
      ]
    },
    {
      "cell_type": "markdown",
      "metadata": {
        "id": "-ib0VWbph1tx"
      },
      "source": [
        "__[20 баллов]__ Ровно по той же схеме проверните CUPAC. В качестве базовой модели возьмите какой-нибудь градиентный бустинг. Насколько у нас получилось уменьшить стандартную ошибку?"
      ]
    },
    {
      "cell_type": "code",
      "execution_count": 92,
      "metadata": {
        "id": "ZKcCemKsh1tx",
        "outputId": "9343c915-3086-43f9-d6bc-b619a8ff1250",
        "colab": {
          "base_uri": "https://localhost:8080/"
        }
      },
      "outputs": [
        {
          "output_type": "stream",
          "name": "stdout",
          "text": [
            "Стандартная ошибка с использованием CUPAC: 0.00020141231739389043\n"
          ]
        }
      ],
      "source": [
        "from sklearn.ensemble import GradientBoostingRegressor\n",
        "\n",
        "model_bst = GradientBoostingRegressor()\n",
        "model_bst.fit(X, y)\n",
        "y_pred_bst = model_bst.predict(X)\n",
        "\n",
        "model_cupac = sm.OLS(y_pred_bst, X)\n",
        "results_cupac = model_cupac.fit(cov_type='HC3')\n",
        "\n",
        "std_error_cupac = results_cupac.bse[1]\n",
        "\n",
        "print(\"Стандартная ошибка с использованием CUPAC:\", std_error_cupac)\n"
      ]
    },
    {
      "cell_type": "code",
      "source": [
        "print(f'Стандартная ошибка уменьшилась на: {std_error2 - std_error_cupac}')"
      ],
      "metadata": {
        "id": "W3Yd7LeOPbSB",
        "outputId": "68122132-c003-42f8-9f36-6c2604970ab5",
        "colab": {
          "base_uri": "https://localhost:8080/"
        }
      },
      "execution_count": 93,
      "outputs": [
        {
          "output_type": "stream",
          "name": "stdout",
          "text": [
            "Стандартная ошибка уменьшилась на: 0.03626487820644087\n"
          ]
        }
      ]
    },
    {
      "cell_type": "markdown",
      "metadata": {
        "id": "8JN6R0kQh1tx"
      },
      "source": [
        "__[10 баллов]__ Финальный вопрос! А как использовать эту новую стандартную ошибку в формуле для рассчёта числа наблюдений? Выясните при выбранном выми MDE, какая у нас будет ошибка второго рода в CUPED и CUPAC, если в АБ-тесте будет участвовать только половина наблюдений."
      ]
    },
    {
      "cell_type": "code",
      "execution_count": null,
      "metadata": {
        "id": "Q6RoTa3rh1tx"
      },
      "outputs": [],
      "source": [
        "# ваш код"
      ]
    }
  ],
  "metadata": {
    "kernelspec": {
      "display_name": "Python 3 (ipykernel)",
      "language": "python",
      "name": "python3"
    },
    "language_info": {
      "codemirror_mode": {
        "name": "ipython",
        "version": 3
      },
      "file_extension": ".py",
      "mimetype": "text/x-python",
      "name": "python",
      "nbconvert_exporter": "python",
      "pygments_lexer": "ipython3",
      "version": "3.10.9"
    },
    "colab": {
      "provenance": []
    }
  },
  "nbformat": 4,
  "nbformat_minor": 0
}