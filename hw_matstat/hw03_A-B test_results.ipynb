{
  "cells": [
    {
      "cell_type": "markdown",
      "metadata": {
        "id": "IO_YnaD6h1tj"
      },
      "source": [
        "<center>\n",
        "<img src=\"https://camo.githubusercontent.com/ad20aaaa48264581c46aa126919dbb72060ebd98cffe015523549b4974843ae5/68747470733a2f2f7261772e67697468756275736572636f6e74656e742e636f6d2f46556c79616e6b696e2f725f70726f626162696c6974792f6d61737465722f656e645f73656d696e6172732f73656d5f362f73747564656e745f746561636865725f646973742e706e67\" height=\"200\">\n",
        "\n",
        "# Прикладаная статистика: домашнее задание 3\n",
        "</center>\n",
        "\n",
        "> Если орел — я выиграла, если решка — ты проиграл.\n",
        "\n",
        "$\\qquad$ Рейчел из друзей\n"
      ]
    },
    {
      "cell_type": "markdown",
      "metadata": {
        "id": "S4WgmMUrh1tl"
      },
      "source": [
        "**ФИО:** Куликов Дмитрий Алексеевич\n",
        "\n",
        "\n",
        "## Общая информация\n",
        "\n",
        "\n",
        "__Дата выдачи:__ 24.05.2023\n",
        "\n",
        "__Дедлайн:__ 23:59MSK 11.06.2023"
      ]
    },
    {
      "cell_type": "markdown",
      "metadata": {
        "id": "7RD-k7JAh1tm"
      },
      "source": [
        "# Результаты A-B теста\n",
        "\n",
        "В данном задании вам нужно будет проанализировать АБ тест, проведенный на реальных пользователях Яндекса.\n",
        "\n",
        "### Описание данных:\n",
        "\n",
        "* `userID` — уникальный идентификатор пользователя\n",
        "* `browser` — браузер, который использовал userID\n",
        "* `slot` — в каком статусе пользователь участвовал в исследовании (exp = видел измененную страницу, control = видел неизменную страницу)\n",
        "* `n_clicks` — количество кликов, которые пользоваль совершил за n_queries\n",
        "* `n_queries` — количество запросов, который совершил userID, пользуясь браузером browser\n",
        "* `n_nonclk_queries` — количество запросов пользователя, в которых им не было совершено ни одного клика\n",
        "\n",
        "Обращаем ваше внимание, что не все люди используют только один браузер, поэтому в столбце userID есть повторяющиеся идентификаторы. В предлагаемых данных уникальным является сочетание userID и browser."
      ]
    },
    {
      "cell_type": "code",
      "execution_count": 1,
      "metadata": {
        "id": "6sAtQp5Mh1tm"
      },
      "outputs": [],
      "source": [
        "import numpy as np\n",
        "import pandas as pd\n",
        "from scipy import stats as sts\n",
        "import seaborn as sns\n",
        "import matplotlib.pyplot as plt"
      ]
    },
    {
      "cell_type": "code",
      "execution_count": 161,
      "metadata": {
        "id": "iglURttxh1to",
        "outputId": "dc3fbffc-c44b-47a6-c92d-3cae2cafbd3c",
        "colab": {
          "base_uri": "https://localhost:8080/",
          "height": 224
        }
      },
      "outputs": [
        {
          "output_type": "stream",
          "name": "stdout",
          "text": [
            "(566134, 8)\n"
          ]
        },
        {
          "output_type": "execute_result",
          "data": {
            "text/plain": [
              "   userID     browser     slot  n_clicks  n_queries  n_nonclk_queries  \\\n",
              "0       1  Browser #2      exp        23         32                19   \n",
              "1       3  Browser #4      exp         3          4                 2   \n",
              "2       5  Browser #4      exp        29         35                16   \n",
              "3       6  Browser #4  control        12          6                 0   \n",
              "4       7  Browser #4      exp        54         68                30   \n",
              "\n",
              "   click_per_queries  empty_query_share  \n",
              "0           0.718750           0.593750  \n",
              "1           0.750000           0.500000  \n",
              "2           0.828571           0.457143  \n",
              "3           2.000000           0.000000  \n",
              "4           0.794118           0.441176  "
            ],
            "text/html": [
              "\n",
              "  <div id=\"df-5287cefe-5442-40a3-8a8f-2987c0bd58e9\">\n",
              "    <div class=\"colab-df-container\">\n",
              "      <div>\n",
              "<style scoped>\n",
              "    .dataframe tbody tr th:only-of-type {\n",
              "        vertical-align: middle;\n",
              "    }\n",
              "\n",
              "    .dataframe tbody tr th {\n",
              "        vertical-align: top;\n",
              "    }\n",
              "\n",
              "    .dataframe thead th {\n",
              "        text-align: right;\n",
              "    }\n",
              "</style>\n",
              "<table border=\"1\" class=\"dataframe\">\n",
              "  <thead>\n",
              "    <tr style=\"text-align: right;\">\n",
              "      <th></th>\n",
              "      <th>userID</th>\n",
              "      <th>browser</th>\n",
              "      <th>slot</th>\n",
              "      <th>n_clicks</th>\n",
              "      <th>n_queries</th>\n",
              "      <th>n_nonclk_queries</th>\n",
              "      <th>click_per_queries</th>\n",
              "      <th>empty_query_share</th>\n",
              "    </tr>\n",
              "  </thead>\n",
              "  <tbody>\n",
              "    <tr>\n",
              "      <th>0</th>\n",
              "      <td>1</td>\n",
              "      <td>Browser #2</td>\n",
              "      <td>exp</td>\n",
              "      <td>23</td>\n",
              "      <td>32</td>\n",
              "      <td>19</td>\n",
              "      <td>0.718750</td>\n",
              "      <td>0.593750</td>\n",
              "    </tr>\n",
              "    <tr>\n",
              "      <th>1</th>\n",
              "      <td>3</td>\n",
              "      <td>Browser #4</td>\n",
              "      <td>exp</td>\n",
              "      <td>3</td>\n",
              "      <td>4</td>\n",
              "      <td>2</td>\n",
              "      <td>0.750000</td>\n",
              "      <td>0.500000</td>\n",
              "    </tr>\n",
              "    <tr>\n",
              "      <th>2</th>\n",
              "      <td>5</td>\n",
              "      <td>Browser #4</td>\n",
              "      <td>exp</td>\n",
              "      <td>29</td>\n",
              "      <td>35</td>\n",
              "      <td>16</td>\n",
              "      <td>0.828571</td>\n",
              "      <td>0.457143</td>\n",
              "    </tr>\n",
              "    <tr>\n",
              "      <th>3</th>\n",
              "      <td>6</td>\n",
              "      <td>Browser #4</td>\n",
              "      <td>control</td>\n",
              "      <td>12</td>\n",
              "      <td>6</td>\n",
              "      <td>0</td>\n",
              "      <td>2.000000</td>\n",
              "      <td>0.000000</td>\n",
              "    </tr>\n",
              "    <tr>\n",
              "      <th>4</th>\n",
              "      <td>7</td>\n",
              "      <td>Browser #4</td>\n",
              "      <td>exp</td>\n",
              "      <td>54</td>\n",
              "      <td>68</td>\n",
              "      <td>30</td>\n",
              "      <td>0.794118</td>\n",
              "      <td>0.441176</td>\n",
              "    </tr>\n",
              "  </tbody>\n",
              "</table>\n",
              "</div>\n",
              "      <button class=\"colab-df-convert\" onclick=\"convertToInteractive('df-5287cefe-5442-40a3-8a8f-2987c0bd58e9')\"\n",
              "              title=\"Convert this dataframe to an interactive table.\"\n",
              "              style=\"display:none;\">\n",
              "        \n",
              "  <svg xmlns=\"http://www.w3.org/2000/svg\" height=\"24px\"viewBox=\"0 0 24 24\"\n",
              "       width=\"24px\">\n",
              "    <path d=\"M0 0h24v24H0V0z\" fill=\"none\"/>\n",
              "    <path d=\"M18.56 5.44l.94 2.06.94-2.06 2.06-.94-2.06-.94-.94-2.06-.94 2.06-2.06.94zm-11 1L8.5 8.5l.94-2.06 2.06-.94-2.06-.94L8.5 2.5l-.94 2.06-2.06.94zm10 10l.94 2.06.94-2.06 2.06-.94-2.06-.94-.94-2.06-.94 2.06-2.06.94z\"/><path d=\"M17.41 7.96l-1.37-1.37c-.4-.4-.92-.59-1.43-.59-.52 0-1.04.2-1.43.59L10.3 9.45l-7.72 7.72c-.78.78-.78 2.05 0 2.83L4 21.41c.39.39.9.59 1.41.59.51 0 1.02-.2 1.41-.59l7.78-7.78 2.81-2.81c.8-.78.8-2.07 0-2.86zM5.41 20L4 18.59l7.72-7.72 1.47 1.35L5.41 20z\"/>\n",
              "  </svg>\n",
              "      </button>\n",
              "      \n",
              "  <style>\n",
              "    .colab-df-container {\n",
              "      display:flex;\n",
              "      flex-wrap:wrap;\n",
              "      gap: 12px;\n",
              "    }\n",
              "\n",
              "    .colab-df-convert {\n",
              "      background-color: #E8F0FE;\n",
              "      border: none;\n",
              "      border-radius: 50%;\n",
              "      cursor: pointer;\n",
              "      display: none;\n",
              "      fill: #1967D2;\n",
              "      height: 32px;\n",
              "      padding: 0 0 0 0;\n",
              "      width: 32px;\n",
              "    }\n",
              "\n",
              "    .colab-df-convert:hover {\n",
              "      background-color: #E2EBFA;\n",
              "      box-shadow: 0px 1px 2px rgba(60, 64, 67, 0.3), 0px 1px 3px 1px rgba(60, 64, 67, 0.15);\n",
              "      fill: #174EA6;\n",
              "    }\n",
              "\n",
              "    [theme=dark] .colab-df-convert {\n",
              "      background-color: #3B4455;\n",
              "      fill: #D2E3FC;\n",
              "    }\n",
              "\n",
              "    [theme=dark] .colab-df-convert:hover {\n",
              "      background-color: #434B5C;\n",
              "      box-shadow: 0px 1px 3px 1px rgba(0, 0, 0, 0.15);\n",
              "      filter: drop-shadow(0px 1px 2px rgba(0, 0, 0, 0.3));\n",
              "      fill: #FFFFFF;\n",
              "    }\n",
              "  </style>\n",
              "\n",
              "      <script>\n",
              "        const buttonEl =\n",
              "          document.querySelector('#df-5287cefe-5442-40a3-8a8f-2987c0bd58e9 button.colab-df-convert');\n",
              "        buttonEl.style.display =\n",
              "          google.colab.kernel.accessAllowed ? 'block' : 'none';\n",
              "\n",
              "        async function convertToInteractive(key) {\n",
              "          const element = document.querySelector('#df-5287cefe-5442-40a3-8a8f-2987c0bd58e9');\n",
              "          const dataTable =\n",
              "            await google.colab.kernel.invokeFunction('convertToInteractive',\n",
              "                                                     [key], {});\n",
              "          if (!dataTable) return;\n",
              "\n",
              "          const docLinkHtml = 'Like what you see? Visit the ' +\n",
              "            '<a target=\"_blank\" href=https://colab.research.google.com/notebooks/data_table.ipynb>data table notebook</a>'\n",
              "            + ' to learn more about interactive tables.';\n",
              "          element.innerHTML = '';\n",
              "          dataTable['output_type'] = 'display_data';\n",
              "          await google.colab.output.renderOutput(dataTable, element);\n",
              "          const docLink = document.createElement('div');\n",
              "          docLink.innerHTML = docLinkHtml;\n",
              "          element.appendChild(docLink);\n",
              "        }\n",
              "      </script>\n",
              "    </div>\n",
              "  </div>\n",
              "  "
            ]
          },
          "metadata": {},
          "execution_count": 161
        }
      ],
      "source": [
        "df = pd.read_csv('data/ab_browser_test.csv',sep=',')\n",
        "\n",
        "df['click_per_queries'] = df['n_clicks']/df['n_queries']\n",
        "df['empty_query_share'] = df['n_nonclk_queries']/df['n_queries']\n",
        "\n",
        "print(df.shape)\n",
        "df.head()"
      ]
    },
    {
      "cell_type": "markdown",
      "metadata": {
        "id": "6HC_hmJ9h1to"
      },
      "source": [
        "Будем работать с числом кликов на количество пользовательских сессий.\n",
        "\n",
        "> Вообще, это ratio-метрика. Из-за этого у неё будут довольно тяжёлые хвосты. Мы увидим это ниже в пункте про бутстрэп. И к ней нужен особый подход, о котором мы поговорим на лекции. Пока что будем это игнорировать. В целом, можно откатиться к кликам и работать с их средним, но методологически правильнее отнормировать их на число сессий."
      ]
    },
    {
      "cell_type": "markdown",
      "metadata": {
        "id": "WguxYCH4h1tp"
      },
      "source": [
        "__[10 баллов]__ Посчитайте, насколько в группе exp больше пользовательских кликов по сравнению с группой control в процентах от числа кликов в контрольной группе."
      ]
    },
    {
      "cell_type": "code",
      "source": [
        "n_clicks_control = df[df.slot == 'control'].n_clicks.values\n",
        "n_clicks_exp = df[df.slot == 'exp'].n_clicks.values"
      ],
      "metadata": {
        "id": "lGUkA3DcjqNt"
      },
      "execution_count": 8,
      "outputs": []
    },
    {
      "cell_type": "code",
      "source": [
        "(sum(n_clicks_exp) - sum(n_clicks_control)) / sum(n_clicks_control) * 100"
      ],
      "metadata": {
        "id": "Ij54t4AUjt5k",
        "outputId": "1c5eaa09-f780-4c32-a537-105ef9050c35",
        "colab": {
          "base_uri": "https://localhost:8080/"
        }
      },
      "execution_count": 162,
      "outputs": [
        {
          "output_type": "execute_result",
          "data": {
            "text/plain": [
              "1.6135689824415809"
            ]
          },
          "metadata": {},
          "execution_count": 162
        }
      ]
    },
    {
      "cell_type": "markdown",
      "metadata": {
        "id": "7d81VywDh1tp"
      },
      "source": [
        "Поскольку данных достаточно много (порядка полумиллиона уникальных пользователей), отличие в несколько процентов может быть не только практически значимым, но и значимым статистически. Последнее утверждение нуждается в дополнительной проверке."
      ]
    },
    {
      "cell_type": "markdown",
      "metadata": {
        "id": "iMrNka-7h1tq"
      },
      "source": [
        "## Часть 1: анализ АБ-теста"
      ]
    },
    {
      "cell_type": "markdown",
      "metadata": {
        "id": "J2tuHcdwh1tq"
      },
      "source": [
        "__[10 баллов]__ Давайте мнимательнее посмотрим на то, что происходит с кликами в наших пользовательских сессиях. Постройте для контрольной и тестовой групп визуализации и ответьте на следующие вопросы.\n",
        "\n",
        "- Правда ли, что в данных есть много выбросов?\n",
        "- Правда ли, что данные пришли из одного распределения и в группах отличия только в сдвиге (для ответа на этот вопрос постройте для обеих групп квантили распределений с шагом в 0.1 и сравните их между собой + сравните гистограмы по форме)\n",
        "- Как думаете, какие тесты применимы здесь для проведения АБ?"
      ]
    },
    {
      "cell_type": "markdown",
      "metadata": {
        "id": "0CyntLfWh1tr"
      },
      "source": [
        "**Ответы:**\n",
        "\n"
      ]
    },
    {
      "cell_type": "markdown",
      "source": [
        "Пункт 1."
      ],
      "metadata": {
        "id": "RmHlGuqz0jpW"
      }
    },
    {
      "cell_type": "markdown",
      "source": [
        "Чтобы определить, есть ли в данных выбросы, можно построить ящик с усами (boxplot) для каждой группы и визуально оценить наличие отдельных значений, выходящих за пределы \"усов\""
      ],
      "metadata": {
        "id": "7jS1WaPe0LF1"
      }
    },
    {
      "cell_type": "code",
      "source": [
        "plt.figure(1, figsize = (10,5))\n",
        "\n",
        "# Визуализация ящика с усами для группы exp\n",
        "plt.subplot(1, 2, 1)\n",
        "plt.boxplot(n_clicks_exp, showfliers=True)\n",
        "plt.title('Exp Group - Boxplot')\n",
        "\n",
        "\n",
        "# Визуализация ящика с усами для группы control\n",
        "plt.subplot(1, 2, 2)\n",
        "plt.boxplot(n_clicks_control, showfliers=True)\n",
        "plt.title('Control Group - Boxplot')\n",
        "\n",
        "plt.show()"
      ],
      "metadata": {
        "id": "760fFhJxzAb0",
        "outputId": "ece16bd5-407d-49d1-e4e7-2e025855b410",
        "colab": {
          "base_uri": "https://localhost:8080/",
          "height": 468
        }
      },
      "execution_count": 10,
      "outputs": [
        {
          "output_type": "display_data",
          "data": {
            "text/plain": [
              "<Figure size 1000x500 with 2 Axes>"
            ],
            "image/png": "[encoded data removed]"
          },
          "metadata": {}
        }
      ]
    },
    {
      "cell_type": "markdown",
      "source": [
        "Выбросов много"
      ],
      "metadata": {
        "id": "9sXsBJur0NnD"
      }
    },
    {
      "cell_type": "markdown",
      "source": [
        "Пункт 2."
      ],
      "metadata": {
        "id": "mWBZyCKj0nZE"
      }
    },
    {
      "cell_type": "code",
      "source": [
        "# Построение квантилей распределений\n",
        "quantiles_exp = np.arange(0.1, 1, 0.1)\n",
        "quantiles_control = np.arange(0.1, 1, 0.1)\n",
        "\n",
        "quantile_exp_values = np.percentile(n_clicks_exp, quantiles_exp * 100)\n",
        "quantile_control_values = np.percentile(n_clicks_control, quantiles_control * 100)\n",
        "\n",
        "# Визуализация квантилей распределений\n",
        "plt.plot(quantiles_exp, quantile_exp_values, label='Exp Group')\n",
        "plt.plot(quantiles_control, quantile_control_values, label='Control Group')\n",
        "plt.xlabel('Quantiles')\n",
        "plt.ylabel('Clicks')\n",
        "plt.legend()\n",
        "plt.title('Quantiles of Clicks Distribution')\n",
        "plt.show()\n",
        "\n",
        "# Сравнение гистограмм распределений\n",
        "plt.hist(n_clicks_exp, bins=30, alpha=0.5, label='Exp Group')\n",
        "plt.hist(n_clicks_control, bins=30, alpha=0.5, label='Control Group')\n",
        "plt.xlabel('Clicks')\n",
        "plt.ylabel('Frequency')\n",
        "plt.legend()\n",
        "plt.title('Histograms of Clicks Distribution')\n",
        "plt.show()\n"
      ],
      "metadata": {
        "id": "VMvWN4iy0fP-",
        "outputId": "49976626-9a93-49ab-d354-f4ec93f9f603",
        "colab": {
          "base_uri": "https://localhost:8080/",
          "height": 927
        }
      },
      "execution_count": 11,
      "outputs": [
        {
          "output_type": "display_data",
          "data": {
            "text/plain": [
              "<Figure size 640x480 with 1 Axes>"
            ],
            "image/png": "[encoded data removed]"
          },
          "metadata": {}
        },
        {
          "output_type": "display_data",
          "data": {
            "text/plain": [
              "<Figure size 640x480 with 1 Axes>"
            ],
            "image/png": "[encoded data removed]"
          },
          "metadata": {}
        }
      ]
    },
    {
      "cell_type": "markdown",
      "source": [
        "В целом, квантили распределений совпадают и гистограммы имеют схожую форму, можно предположить, что данные пришли из одного распределения, и отличия между группами обусловлены только сдвигом."
      ],
      "metadata": {
        "id": "_O4grbo81Ft0"
      }
    },
    {
      "cell_type": "markdown",
      "source": [
        "Тесты которые можно было бы применить применимые здесь для проведения АБ:\n",
        "1. t-тест (независимые выборки). Используется для сравнения средних значений между двумя независимыми группами. Надо убедится, что данные распределены нормально или приближенно к нормальному распределению. Иногда его применение может быть необоснованно из-за сильной скошенности распределения данных. Поскольку мы не знаем истинного распределения генеральной совокупности, мы можем применить бутстреп, чтобы понять, как распределены среднее значение и выборочная дисперсия.\n",
        "2. Z-тест (независимые выборки) провести не можем из за присутствия выбросов.\n",
        "3. Одним из возможных аналогов t-критерия, которым можно воспользоваться, является тест Манна-Уитни. На достаточно обширном классе распределений он является асимптотически более эффективным, чем t-критерий, и при этом не требует параметрических предположений о характере распределения."
      ],
      "metadata": {
        "id": "UDQlacUPT05B"
      }
    },
    {
      "cell_type": "markdown",
      "metadata": {
        "id": "kJZ_rk8th1tr"
      },
      "source": [
        "__[10 баллов]__ Скорее всего, в пункте выше вы написали, что $z$-тест нам не подходит из-за выбросов. Однако, мы не можем наверняка знать, насколько серьёзное влияние эти выбросы оказали на ЦПТ и сломали ли они её. Если посчитать по выброкам средние и медианы, они окажутся очень похожими.\n",
        "\n",
        "Бутстрап — это асимптотическая техника для получения критических значений статистики. Давайте проведём следующую процедуру. Ограничимся в рамках неё контрольной группой. Поскольку мы не знаем истинного распределения генеральной совокупности, мы можем применить бутстрэп, чтобы понять, как распределена z-статистика и сравнить её распределение с нормальным.\n",
        "\n",
        "Поскольку мы знаем, что $\\text{Var}(\\bar X_n) = \\frac{\\sigma^2}{n}$, нам не надо будет делать бутстрэп в бутстрэпе. Когда мы знаем для нашей статистики форму дисперсии, бутстрэп называется __параметрическим.__\n",
        "\n",
        "1. Получите из данных `n_boot_samples` псевдовыборок,\n",
        "2. По каждой из этих выборок посчитайте среднее и его дисперсию,\n",
        "3. Рассчитайте значение $z$-статистики,\n",
        "4. Для получившегося вектора из $z$-статистик постройте `qq-plot` с помощью ` scipy.stats.probplot` для нормального распределения.\n",
        "\n",
        "Сделайте выводы."
      ]
    },
    {
      "cell_type": "code",
      "source": [
        "def get_boot_sample(x, B_sample=1):\n",
        "    N = x.size\n",
        "    sample = np.random.choice(x, size=(N, B_sample), replace=True)\n",
        "\n",
        "    if B_sample == 1:\n",
        "        sample = sample.T[0]\n",
        "    return sample"
      ],
      "metadata": {
        "id": "bTzg5ObtAo4u"
      },
      "execution_count": 49,
      "outputs": []
    },
    {
      "cell_type": "code",
      "source": [
        "click_queries_control = df[df.slot == 'control'].click_per_queries.values\n",
        "click_queries_exp = df[df.slot == 'exp'].click_per_queries.values"
      ],
      "metadata": {
        "id": "YnQMdZsjzIPF"
      },
      "execution_count": 163,
      "outputs": []
    },
    {
      "cell_type": "code",
      "source": [
        "n_boot_samples = 500\n",
        "np.random.seed(42)"
      ],
      "metadata": {
        "id": "7GsuxWvnnjJx"
      },
      "execution_count": null,
      "outputs": []
    },
    {
      "cell_type": "code",
      "source": [
        "control_samples = get_boot_sample(click_queries_control, n_boot_samples)"
      ],
      "metadata": {
        "id": "TxiDz_Kk4Ke_"
      },
      "execution_count": null,
      "outputs": []
    },
    {
      "cell_type": "code",
      "source": [
        "control_boot_mean = np.mean(control_samples, axis=0)\n",
        "control_boot_std = np.std(control_samples, axis=0, ddof=1)\n",
        "\n",
        "z_stats = (control_boot_mean - control_boot_mean.mean()) / control_boot_mean.std(ddof=1)"
      ],
      "metadata": {
        "id": "y8kc3nhPzoWi"
      },
      "execution_count": null,
      "outputs": []
    },
    {
      "cell_type": "code",
      "source": [
        "# QQ-plot для сравнения z-статистик с нормальным распределением\n",
        "sts.probplot(z_stats, dist='norm', plot=plt)\n",
        "plt.title(\"QQ-plot: Z-Statistic vs Normal Distribution\")\n",
        "plt.show()"
      ],
      "metadata": {
        "id": "LClPDnLZ6zY5",
        "outputId": "c4f4e519-9482-4919-8ce4-c8feab11edd5",
        "colab": {
          "base_uri": "https://localhost:8080/",
          "height": 472
        }
      },
      "execution_count": null,
      "outputs": [
        {
          "output_type": "display_data",
          "data": {
            "text/plain": [
              "<Figure size 640x480 with 1 Axes>"
            ],
            "image/png": "[encoded data removed]"
          },
          "metadata": {}
        }
      ]
    },
    {
      "cell_type": "markdown",
      "source": [
        "Исходя из QQ-графика, можно сделать выводы о сходстве распределения z-статистик и нормального распределения. Точки на графике совпадают с прямой, можно считать, что распределение z-статистик близко к нормальному. Хвосты распределения отличаются от стандартного нормального."
      ],
      "metadata": {
        "id": "DSkgWzEr7xfL"
      }
    },
    {
      "cell_type": "markdown",
      "metadata": {
        "id": "ZH46_Eg3h1ts"
      },
      "source": [
        "__[10 баллов]__ Осторожно, спойлеры! В прошлом пункте у вас получилась картинка, на которой хвосты распределения немного отличаются от стандартного нормального. Давайте сделаем вид, что всё хорошо и отличия на хвостах нет. Проверьте гипотезу о равенстве средних между группами с помощью $z-$теста на уровне значимости $1\\%$."
      ]
    },
    {
      "cell_type": "markdown",
      "source": [
        "$$\n",
        "\\begin{aligned}\n",
        "&H_0: \\hspace{2mm} \\mu_1 = \\mu_2 \\hspace{2mm} \\text{Среднее число кликов не отличается} \\\\\n",
        "&H_1: \\hspace{2mm} \\mu_1 \\neq \\mu_2  \\hspace{2mm} \\text{Среднее число кликов отличается}\n",
        "\\end{aligned}\n",
        "$$"
      ],
      "metadata": {
        "id": "4unNGCN29inv"
      }
    },
    {
      "cell_type": "code",
      "source": [
        "from scipy.stats import ttest_ind\n",
        "\n",
        "# Проведение z-теста\n",
        "alpha = 0.01  # Уровень значимости\n",
        "\n",
        "stat, p_value = ttest_ind(click_queries_control, click_queries_exp)\n",
        "stat, p_value"
      ],
      "metadata": {
        "id": "-ghsQNm_7HAl",
        "outputId": "09cd6e6b-6050-42ca-cace-f73ea90ea4c2",
        "colab": {
          "base_uri": "https://localhost:8080/"
        }
      },
      "execution_count": null,
      "outputs": [
        {
          "output_type": "execute_result",
          "data": {
            "text/plain": [
              "(-27.560303837655056, 4.298537482643951e-167)"
            ]
          },
          "metadata": {},
          "execution_count": 33
        }
      ]
    },
    {
      "cell_type": "markdown",
      "source": [
        "Т.к p_value < alpha то нулевая гипотеза отвергается, то есть среднее число лайков отличается"
      ],
      "metadata": {
        "id": "xHLEQWWW7gF-"
      }
    },
    {
      "cell_type": "markdown",
      "metadata": {
        "id": "_GTDgZ5Dh1tt"
      },
      "source": [
        "__[10 баллов]__ Давайте попробуем понять, какими при таких объёмах выборки оказываются MDE и ошибка второго рода. Конечно, же сделать это надо до проведения АБ-теста. Но не мы его готовили... При решении этого пункта выберите какое-то адекватное значение MDE и получите отталкиваясь от него ошибку второго рода.\n",
        "\n",
        "Формула для расчета числа наблюдений __для одной группы:__\n",
        "\n",
        "$$\n",
        "n_{\\text{one group}} = \\frac{(\\sigma_A^2 + \\sigma_B^2) \\cdot (z_{1-\\frac{\\alpha}{2}} + z_{1-\\beta})^2}{MDE^2},\n",
        "$$"
      ]
    },
    {
      "cell_type": "code",
      "source": [
        "z_beta = np.sqrt(n_one_group * MDE**2 / (click_queries_control.var() + click_queries_exp.var())) - sts.norm.ppf(1 - alpha/2)"
      ],
      "metadata": {
        "id": "x3XbJZVAXCJw"
      },
      "execution_count": 164,
      "outputs": []
    },
    {
      "cell_type": "code",
      "source": [
        "beta = 1 - sts.norm.cdf(z_beta)"
      ],
      "metadata": {
        "id": "wa8e8rosLYXc"
      },
      "execution_count": 165,
      "outputs": []
    },
    {
      "cell_type": "code",
      "source": [
        "beta"
      ],
      "metadata": {
        "colab": {
          "base_uri": "https://localhost:8080/"
        },
        "id": "7vdnrgzOLdVP",
        "outputId": "a01f3aa2-6f66-488a-8e46-2dbadca59ec3"
      },
      "execution_count": 166,
      "outputs": [
        {
          "output_type": "execute_result",
          "data": {
            "text/plain": [
              "0.14237711254969598"
            ]
          },
          "metadata": {},
          "execution_count": 166
        }
      ]
    },
    {
      "cell_type": "markdown",
      "metadata": {
        "id": "g1IYUNMgh1tt"
      },
      "source": [
        "__[10 баллов]__ Хвосты отличаются от стандартного нормального. По хорошему, для проверки гипотезы нужно использовать бутстрап. В контексте средних, на бутстрап можно смотреть как на технику, которая уточняет, насколько сильно хвосты распределения стали тяжелее по сравнению с ЦПТ.\n",
        "\n",
        "Проверьте гипотезу с помощью бутстрапа! Воспользуйтесь следующим алгоритмом с лекции:\n",
        "\n",
        "1. Посчитайте наблюдаемое значение статистики.\n",
        "2. Пусть $\\bar h$ - это среднее посчитанное по обеим выборкам вместе. Создайте две новые выборки $$x'_i = x_i - \\bar x + \\bar h \\\\ y'_i = y_i - \\bar y + \\bar h.$$ Такое рецентрирование сдвинет обе выборки к общему среднему и  позволит заложить в симуляцию информацию о верности нулевой гипотезы.\n",
        "3. Сбутстрапируйте выборки $x^{*}$ и $y^{*}$ из $x'$ и $y'$. Рассчитайте значение z-статистики. Повторит процедуру $B$ раз.\n",
        "4. Для оценки `p-value` воспользуйтесь формулой:\n",
        "\n",
        "$$\n",
        "2 * \\frac{1}{B} \\sum_{i=1}^B [z_i^{*} \\ge z_{obs}]\n",
        "$$"
      ]
    },
    {
      "cell_type": "code",
      "source": [
        "alpha"
      ],
      "metadata": {
        "colab": {
          "base_uri": "https://localhost:8080/"
        },
        "id": "B5iqlxqV_0x-",
        "outputId": "0db8ff05-df56-4e68-d46f-84c1f926898a"
      },
      "execution_count": 167,
      "outputs": [
        {
          "output_type": "execute_result",
          "data": {
            "text/plain": [
              "0.01"
            ]
          },
          "metadata": {},
          "execution_count": 167
        }
      ]
    },
    {
      "cell_type": "code",
      "source": [
        "click_queries_exp_mean = np.mean(click_queries_exp)\n",
        "click_queries_control_mean = np.mean(click_queries_control)\n",
        "click_queries_exp_var = click_queries_exp.var(ddof=1)\n",
        "click_queries_control_var = click_queries_control.var(ddof=1)\n",
        "n_click_queries_exp = len(click_queries_exp)\n",
        "n_click_queries_control = len(click_queries_control)\n",
        "\n",
        "var_div_n_exp = click_queries_exp_var / n_click_queries_exp\n",
        "var_div_n_control = click_queries_control_var / n_click_queries_control\n",
        "\n",
        "std = np.sqrt(var_div_n_exp + var_div_n_control)\n",
        "\n",
        "z_obs = (click_queries_exp_mean - click_queries_control_mean) / std"
      ],
      "metadata": {
        "id": "838Tktwa2Zz0"
      },
      "execution_count": 168,
      "outputs": []
    },
    {
      "cell_type": "code",
      "source": [
        "z_obs"
      ],
      "metadata": {
        "colab": {
          "base_uri": "https://localhost:8080/"
        },
        "id": "SP2jJJsm3mso",
        "outputId": "0a3bc0d9-ef0f-45f8-c7a1-9dfc22b5c70e"
      },
      "execution_count": 44,
      "outputs": [
        {
          "output_type": "execute_result",
          "data": {
            "text/plain": [
              "27.55706066913807"
            ]
          },
          "metadata": {},
          "execution_count": 44
        }
      ]
    },
    {
      "cell_type": "code",
      "source": [
        "z_crit = sts.norm.ppf(1-alpha/2)               # критическое значение статистики\n",
        "z_crit"
      ],
      "metadata": {
        "colab": {
          "base_uri": "https://localhost:8080/"
        },
        "id": "cNTGQXi6_utp",
        "outputId": "580a0605-7c2f-463f-8881-f7a6c360bcfd"
      },
      "execution_count": 45,
      "outputs": [
        {
          "output_type": "execute_result",
          "data": {
            "text/plain": [
              "2.5758293035489004"
            ]
          },
          "metadata": {},
          "execution_count": 45
        }
      ]
    },
    {
      "cell_type": "code",
      "source": [
        "n_boot_samples = 1000\n",
        "B = 10"
      ],
      "metadata": {
        "id": "xiPTcAHs3ugV"
      },
      "execution_count": 135,
      "outputs": []
    },
    {
      "cell_type": "code",
      "source": [
        "h_mean = df['click_per_queries'].mean()\n",
        "exp_prime = click_queries_exp - click_queries_exp_mean + h_mean\n",
        "control_prime = click_queries_control - click_queries_control_mean + h_mean"
      ],
      "metadata": {
        "id": "YU1KW0X05fZX"
      },
      "execution_count": 136,
      "outputs": []
    },
    {
      "cell_type": "code",
      "source": [
        "z_obs_boot = []\n",
        "for _ in range(B):\n",
        "  exp_samples = get_boot_sample(exp_prime, n_boot_samples)\n",
        "  control_samples = get_boot_sample(control_prime, n_boot_samples)\n",
        "\n",
        "  boot_exp_mean = np.mean(exp_samples, axis=0)\n",
        "  boot_control_mean = np.mean(control_samples, axis=0)\n",
        "\n",
        "  z_obs_boot.append((boot_control_mean.mean() - boot_exp_mean.mean()) / std)"
      ],
      "metadata": {
        "id": "2decW6um2Y8g"
      },
      "execution_count": 143,
      "outputs": []
    },
    {
      "cell_type": "code",
      "source": [
        "p_value = 2 * np.mean(z_obs_boot >= z_obs)"
      ],
      "metadata": {
        "id": "TsVduoJD6-17"
      },
      "execution_count": 144,
      "outputs": []
    },
    {
      "cell_type": "code",
      "source": [
        "p_value"
      ],
      "metadata": {
        "colab": {
          "base_uri": "https://localhost:8080/"
        },
        "id": "CbotN29H7Irb",
        "outputId": "ebca59c3-c20c-4c17-c09a-045c96841217"
      },
      "execution_count": 145,
      "outputs": [
        {
          "output_type": "execute_result",
          "data": {
            "text/plain": [
              "0.0"
            ]
          },
          "metadata": {},
          "execution_count": 145
        }
      ]
    },
    {
      "cell_type": "markdown",
      "source": [
        "Т.к p_value < alpha то нулевая гипотеза отвергается, то есть среднее число лайков отличается"
      ],
      "metadata": {
        "id": "o8wQAVjd_Vyl"
      }
    },
    {
      "cell_type": "code",
      "source": [
        "bootstrap_critical_value = np.quantile(np.abs(z_obs_boot), 1 - alpha/2)\n",
        "bootstrap_critical_value"
      ],
      "metadata": {
        "colab": {
          "base_uri": "https://localhost:8080/"
        },
        "id": "mvuOPT1SXo19",
        "outputId": "12ea24ad-383f-4b19-fee0-df8c74368e9a"
      },
      "execution_count": 146,
      "outputs": [
        {
          "output_type": "execute_result",
          "data": {
            "text/plain": [
              "0.0718460680745531"
            ]
          },
          "metadata": {},
          "execution_count": 146
        }
      ]
    },
    {
      "cell_type": "code",
      "source": [
        "z_crit - bootstrap_critical_value"
      ],
      "metadata": {
        "colab": {
          "base_uri": "https://localhost:8080/"
        },
        "id": "KQ_ftxU5YzTU",
        "outputId": "b0871d3e-899c-4a50-ebb7-41d5688f6687"
      },
      "execution_count": 147,
      "outputs": [
        {
          "output_type": "execute_result",
          "data": {
            "text/plain": [
              "2.5039832354743474"
            ]
          },
          "metadata": {},
          "execution_count": 147
        }
      ]
    },
    {
      "cell_type": "markdown",
      "metadata": {
        "id": "_MeGtWpmh1tu"
      },
      "source": [
        "__Ответьте на следующие вопросы:__\n",
        "\n",
        "- Изменились ли выводы АБ-теста?\n",
        "- Насколько сильно критическое значение статистики, полученной с помощью бутстрэпа, отличается от киритческого значения нормального распределения?\n",
        "- Какую из ошибок (1 рода/2 рода) вы будете чаще совершать, если в ситуации с толстыми хвостами будете пользоваться нормальным распредеелнием? Насколько чаще будет возникать эта ошибка?"
      ]
    },
    {
      "cell_type": "markdown",
      "source": [
        "1. Выводы АБ-теста не изменились\n",
        "\n",
        "2. Разница в критическом значений 2.5142841968713054\n",
        "3.\n",
        "\n",
        "Если в ситуации с тяжелыми хвостами (распределение с отличными от нормального хвостами) использовать нормальное распределение для статистических тестов, то в таком случае будет чаще возникать ошибка первого рода (ошибка при отвержении верной нулевой гипотезы).\n",
        "\n",
        "При использовании нормального распределения для данных с тяжелыми хвостами мы не учитываем характеристики распределения, которые могут влиять на статистические тесты. Нормальное распределение предполагает легкие хвосты и симметричность, что не всегда соответствует действительности.\n",
        "\n",
        "Использование нормального распределения в ситуации с тяжелыми хвостами может привести к недооценке риска ложноположительных результатов (ошибки первого рода) и, следовательно, к чаще возникновению этой ошибки. В таких случаях, следует использовать альтернативные методы, такие как непараметрические тесты или бутстрэп, которые лучше учитывают особенности распределения данных и не делают предположений о его форме."
      ],
      "metadata": {
        "id": "4LGvi1NM_AeL"
      }
    },
    {
      "cell_type": "markdown",
      "metadata": {
        "id": "SuXIZ-vkh1tu"
      },
      "source": [
        "__[10 баллов]__ Насколько больше наблюдений нам необходимо для проверки гипотезы по сравнению с z-тестом? Для ответа на этот вопрос подставьте критические значение из бустрап-распределения в формулу для оценки числа наблюдений. В качестве MDE возьмите величину, которую вы сами зафикисировали в прошлых пунктах. В качестве ошибки второго рода возьмите получившуюся при рассчётах величину."
      ]
    },
    {
      "cell_type": "code",
      "source": [
        "np.abs(z_obs_boot)"
      ],
      "metadata": {
        "colab": {
          "base_uri": "https://localhost:8080/"
        },
        "id": "QZVTuirGaKtH",
        "outputId": "693b5214-2e95-4cc4-ccb4-414159478f31"
      },
      "execution_count": 174,
      "outputs": [
        {
          "output_type": "execute_result",
          "data": {
            "text/plain": [
              "array([0.00147565, 0.00161039, 0.06991619, 0.02822982, 0.0120821 ,\n",
              "       0.04052042, 0.02291714, 0.071937  , 0.01850102, 0.05439871])"
            ]
          },
          "metadata": {},
          "execution_count": 174
        }
      ]
    },
    {
      "cell_type": "code",
      "source": [
        "z_boot_beta = np.quantile(np.abs(z_obs_boot), 1 - beta)\n",
        "z_boot_beta"
      ],
      "metadata": {
        "colab": {
          "base_uri": "https://localhost:8080/"
        },
        "id": "IStTBQOTX-Hq",
        "outputId": "56479094-f3c3-4a53-f20b-306138ea01f1"
      },
      "execution_count": 180,
      "outputs": [
        {
          "output_type": "execute_result",
          "data": {
            "text/plain": [
              "0.06554966034293691"
            ]
          },
          "metadata": {},
          "execution_count": 180
        }
      ]
    },
    {
      "cell_type": "code",
      "source": [
        "# Расчет числа наблюдений для одной группы\n",
        "n_one_group_boot = (click_queries_control.var() + click_queries_exp.var()) * (bootstrap_critical_value + z_boot_beta)**2 / MDE**2\n",
        "\n",
        "# Расчет общего числа наблюдений для АБ-теста\n",
        "n_total_boot = 2 * n_one_group_boot\n",
        "\n",
        "print(\"Число наблюдений для одной группы:\", n_one_group_boot)\n",
        "print(\"Общее число наблюдений для АБ-теста:\", n_total_boot)\n"
      ],
      "metadata": {
        "colab": {
          "base_uri": "https://localhost:8080/"
        },
        "id": "kIRJ7MEo9k6f",
        "outputId": "daf20aa8-cfa6-4e7e-fd4f-f457851b0a11"
      },
      "execution_count": 183,
      "outputs": [
        {
          "output_type": "stream",
          "name": "stdout",
          "text": [
            "Число наблюдений для одной группы: 139890.72043503917\n",
            "Общее число наблюдений для АБ-теста: 279781.44087007834\n"
          ]
        }
      ]
    },
    {
      "cell_type": "markdown",
      "source": [
        "Тоесть нужно 279782 наблюдений"
      ],
      "metadata": {
        "id": "M4KHzq8kbFFJ"
      }
    },
    {
      "cell_type": "markdown",
      "metadata": {
        "id": "FRlKwDKXh1tu"
      },
      "source": [
        "__[10 баллов]__ Проверьте ту же гипотезу тестом Манна-Уитни. Используйте для этого функцию `scipy.stats.mannwhitneyu`."
      ]
    },
    {
      "cell_type": "code",
      "execution_count": 62,
      "metadata": {
        "id": "uWsQoYPWh1tv",
        "outputId": "45c9d871-22e3-44b6-f409-3e7b146f45f3",
        "colab": {
          "base_uri": "https://localhost:8080/"
        }
      },
      "outputs": [
        {
          "output_type": "stream",
          "name": "stdout",
          "text": [
            "Наблюдаемое значение: 37765830709.5\n",
            "P-значение: 1.2767e-307\n"
          ]
        }
      ],
      "source": [
        "mw_obs, mw_pval = sts.mannwhitneyu(click_queries_control, click_queries_exp, alternative='two-sided')\n",
        "\n",
        "print(f\"Наблюдаемое значение: {mw_obs}\")\n",
        "print(f\"P-значение: {mw_pval:.5}\")"
      ]
    },
    {
      "cell_type": "markdown",
      "source": [
        " `pvalue < alpha=0.01` => H0 отвергается в пользу H1, т.е. среднее число кликов отличается.\n"
      ],
      "metadata": {
        "id": "IfzlJECRB60T"
      }
    },
    {
      "cell_type": "markdown",
      "metadata": {
        "id": "rcFQjlcPh1tv"
      },
      "source": [
        "При $n,m \\to \\infty$ статистика Манна-Уитни сходится к нормальному распределению со следующими параметрами:\n",
        "\n",
        "$$\n",
        "U \\Rightarrow N \\left( \\frac{n_T \\cdot n_C}{2}, \\frac{n_T \\cdot n_C \\cdot (n_T + n_C + 1)}{12} \\right)\n",
        "$$\n",
        "\n",
        "Отталкиваясь от этого приближения, определите сколько наблюдений нам необходимо для проверки гипотезы для тех же MDE и ошибки 2 рода, что и у z-теста/бустрапа."
      ]
    },
    {
      "cell_type": "markdown",
      "source": [
        "Ахтунг! Решили что этот вопрос некорректен"
      ],
      "metadata": {
        "id": "hPvH7a1AvYL9"
      }
    },
    {
      "cell_type": "markdown",
      "metadata": {
        "id": "VVRcD_w2h1tv"
      },
      "source": [
        "__[10 баллов]__ У многих аналитиков с теста Манна-Уитни подгорает жепа. Это происходит из-за того, что на практике его часто используют довольно бездумно. [Вот один из свежих примеров бомбежа.](https://habr.com/ru/companies/avito/articles/709596/)\n",
        "\n",
        "В нашем кейсе, если аккуратно посчитать квантили обоих распределений, можно увидеть, что в тестовой группе квантили и правда съехали вправо, а форма гистограмм не изменилась. В целом, это знак, что тест можно спокойно применять. Однако, квантили левее $0.1$ не поменялись.\n",
        "\n",
        "Вместо тесто Манна-Уитни на сдвиг распределения, мы можем попробовать проверить гипотезу о том, что наше распределение, в принципе, как-то поменялось. Для таких гипотез обычно используются критерии согласия. Проверьте гипотезу о том, что распределения тестовой и контрольной групп совпадают с помощью теста Колмогорова-Смирнова `scipy.stats.ks_2sam`."
      ]
    },
    {
      "cell_type": "code",
      "execution_count": 63,
      "metadata": {
        "id": "ssytAGuFh1tv",
        "outputId": "ec1a6e37-5918-4b36-c3e4-8da619fb154b",
        "colab": {
          "base_uri": "https://localhost:8080/"
        }
      },
      "outputs": [
        {
          "output_type": "execute_result",
          "data": {
            "text/plain": [
              "KstestResult(statistic=0.04512279635017363, pvalue=7.558755364350695e-251, statistic_location=0.7468354430379747, statistic_sign=1)"
            ]
          },
          "metadata": {},
          "execution_count": 63
        }
      ],
      "source": [
        "sts.ks_2samp(click_queries_control, click_queries_exp)"
      ]
    },
    {
      "cell_type": "markdown",
      "metadata": {
        "id": "Wr7Xtisrh1tw"
      },
      "source": [
        "Насколько сильно друг от друга отличаются p-значения этих тестов? Как думаете, почему отличие именно такое?\n",
        "\n",
        "__Ответ:__\n",
        "\n",
        "Полученные p-значения для теста Манна-Уитни (1.2767e-307) и теста Колмогорова-Смирнова (7.558755364350695e-251) различаются значительно.\n",
        "\n",
        "Отличие в p-значениях говорит о различной степени статистической значимости результатов этих двух тестов. Чем меньше p-значение, тем сильнее доказательства против нулевой гипотезы (гипотезы о совпадении распределений).\n",
        "\n",
        "Различие в результате связано с особенностями и предпосылками каждого теста. Тест Манна-Уитни основан на рангах и оценивает сдвиг распределений, тогда как тест Колмогорова-Смирнова оценивает общую форму распределений. Поэтому результаты и интерпретация могут отличаться в зависимости от выбранного теста."
      ]
    },
    {
      "cell_type": "markdown",
      "metadata": {
        "id": "0kUk4pImh1tw"
      },
      "source": [
        "## Часть 2: CUPED\n",
        "\n",
        "Попробуем натянуть сову на глобус. Давайте сделаем вид, что на самом деле первые $50\\%$ таблицы это выборка, которая у нас была до эксперимента. Попробуем провернуть CUPED.\n",
        "\n",
        "__[10 баллов]__ рассчитайте значение стандартной ошибки для $z$-статистики по второй части выборки. С помощью CUPED мы будем пытаться уменьшить значение этой ошибки."
      ]
    },
    {
      "cell_type": "code",
      "source": [
        "size_part = df.shape[0] // 2"
      ],
      "metadata": {
        "id": "mDLuUtmSKGie"
      },
      "execution_count": 22,
      "outputs": []
    },
    {
      "cell_type": "code",
      "source": [
        "first_part_df = df.iloc[:size_part]\n",
        "second_part_df = df.iloc[size_part:]"
      ],
      "metadata": {
        "id": "mfy-CO8BFrFG"
      },
      "execution_count": 23,
      "outputs": []
    },
    {
      "cell_type": "code",
      "execution_count": 24,
      "metadata": {
        "id": "O_2i1E6Fh1tw"
      },
      "outputs": [],
      "source": [
        "click_queries_control1 = first_part_df[first_part_df.slot == 'control'].click_per_queries.values\n",
        "click_queries_exp1 = first_part_df[first_part_df.slot == 'exp'].click_per_queries.values\n",
        "\n",
        "click_queries_control2 = second_part_df[second_part_df.slot == 'control'].click_per_queries.values\n",
        "click_queries_exp2 = second_part_df[second_part_df.slot == 'exp'].click_per_queries.values"
      ]
    },
    {
      "cell_type": "code",
      "source": [
        "std_control2 = np.std(click_queries_control2)\n",
        "std_exp2 = np.std(click_queries_exp2)\n",
        "\n",
        "n_control2 = click_queries_control2.size\n",
        "n_exp2 = click_queries_exp2.size\n",
        "\n",
        "std_error2 = np.sqrt((std_control2**2 / n_control2) + (std_exp2**2 / n_exp2))\n",
        "\n",
        "print(\"Стандартная ошибка для z-статистики (вторая часть выборки):\", std_error2)"
      ],
      "metadata": {
        "id": "-ltwda5AG0QD",
        "outputId": "d59c00c6-eb93-4380-8eaa-93ddc3ba0184",
        "colab": {
          "base_uri": "https://localhost:8080/"
        }
      },
      "execution_count": 25,
      "outputs": [
        {
          "output_type": "stream",
          "name": "stdout",
          "text": [
            "Стандартная ошибка для z-статистики (вторая часть выборки): 0.0044423903733368485\n"
          ]
        }
      ]
    },
    {
      "cell_type": "markdown",
      "metadata": {
        "id": "vBV6sIQFh1tw"
      },
      "source": [
        "__[20 баллов]__ теперь проверните CUPED. Используйте значение целевой переменной из первой части выборки как ковариату.\n",
        "\n",
        "Для оценки линейных моделей используйте пакет `statsmodels`. Пример того, как это можно делать [есть тут.](https://github.com/FUlyankin/matstat-AB/blob/main/week13_linreg/11_python_regression.ipynb) Предполагайте, что в данных есть гетероскедастичность. Для её фикса пользуйтесь `HC-3`.\n",
        "\n",
        "Насколько у нас получилось уменьшить стандартную ошибку?"
      ]
    },
    {
      "cell_type": "markdown",
      "source": [
        "Для корректности линейной регрессии переведем slot в slot_bool, 1 - control, 0-exp"
      ],
      "metadata": {
        "id": "XcXCi0Dfgxx2"
      }
    },
    {
      "cell_type": "code",
      "source": [
        "second_part_df['slot_bool'] = second_part_df['slot'].apply(lambda x: 1 if x=='control' else 0);"
      ],
      "metadata": {
        "colab": {
          "base_uri": "https://localhost:8080/"
        },
        "id": "zT5nHERvEMgW",
        "outputId": "ccd0e1f3-0302-4d0e-e99f-34be57c6ce7d"
      },
      "execution_count": 26,
      "outputs": [
        {
          "output_type": "stream",
          "name": "stderr",
          "text": [
            "<ipython-input-26-1834fa2e2a82>:1: SettingWithCopyWarning: \n",
            "A value is trying to be set on a copy of a slice from a DataFrame.\n",
            "Try using .loc[row_indexer,col_indexer] = value instead\n",
            "\n",
            "See the caveats in the documentation: https://pandas.pydata.org/pandas-docs/stable/user_guide/indexing.html#returning-a-view-versus-a-copy\n",
            "  second_part_df['slot_bool'] = second_part_df['slot'].apply(lambda x: 1 if x=='control' else 0);\n"
          ]
        }
      ]
    },
    {
      "cell_type": "markdown",
      "source": [
        "Построим регрессию:\n",
        "\n",
        "click_per_queries = w0 + w1 * slot_bool + w2*empty_query_share"
      ],
      "metadata": {
        "id": "agxAwMoHhTQo"
      }
    },
    {
      "cell_type": "code",
      "execution_count": 27,
      "metadata": {
        "id": "sg1WgbRnh1tw"
      },
      "outputs": [],
      "source": [
        "import statsmodels.formula.api as sm\n",
        "\n",
        "model = sm.ols('click_per_queries ~ slot_bool + empty_query_share', data=second_part_df)\n",
        "results = model.fit(cov_type='HC3')"
      ]
    },
    {
      "cell_type": "markdown",
      "source": [
        "Посчитаем ковариату\n"
      ],
      "metadata": {
        "id": "a6N919RahoSz"
      }
    },
    {
      "cell_type": "markdown",
      "source": [
        "r_cuped = click_per_queries - w2 * empty_query_share"
      ],
      "metadata": {
        "id": "GpOaOxLwh02t"
      }
    },
    {
      "cell_type": "code",
      "source": [
        "r_cuped = second_part_df['click_per_queries'] - results.params[2] * second_part_df['empty_query_share']\n",
        "second_part_df['r_cuped'] = r_cuped"
      ],
      "metadata": {
        "id": "bv6B_WiO0zzg",
        "colab": {
          "base_uri": "https://localhost:8080/"
        },
        "outputId": "ce97a3a4-6393-48ac-b587-631168a20105"
      },
      "execution_count": 28,
      "outputs": [
        {
          "output_type": "stream",
          "name": "stderr",
          "text": [
            "<ipython-input-28-a987bfcefe03>:2: SettingWithCopyWarning: \n",
            "A value is trying to be set on a copy of a slice from a DataFrame.\n",
            "Try using .loc[row_indexer,col_indexer] = value instead\n",
            "\n",
            "See the caveats in the documentation: https://pandas.pydata.org/pandas-docs/stable/user_guide/indexing.html#returning-a-view-versus-a-copy\n",
            "  second_part_df['r_cuped'] = r_cuped\n"
          ]
        }
      ]
    },
    {
      "cell_type": "markdown",
      "source": [
        "r_cuped = gamma0 + gamma1 * slot_bool"
      ],
      "metadata": {
        "id": "nwPYTEvOiEaZ"
      }
    },
    {
      "cell_type": "markdown",
      "source": [
        "По т. Фриша Уоловела"
      ],
      "metadata": {
        "id": "wLdlhjo-jPl6"
      }
    },
    {
      "cell_type": "markdown",
      "source": [
        "gamma1 = w1\n",
        "\n",
        "gamma0 = w0"
      ],
      "metadata": {
        "id": "Na-32GcUjJAA"
      }
    },
    {
      "cell_type": "code",
      "source": [
        "model = sm.ols('r_cuped ~ slot_bool', data=second_part_df)\n",
        "results = model.fit(cov_type='HC3')"
      ],
      "metadata": {
        "id": "dlQ4ZiNvGEAE"
      },
      "execution_count": 29,
      "outputs": []
    },
    {
      "cell_type": "code",
      "source": [
        "results.bse"
      ],
      "metadata": {
        "colab": {
          "base_uri": "https://localhost:8080/"
        },
        "id": "hJL9pUo5GWX6",
        "outputId": "681802a0-8a5c-47a5-868d-297373d9c753"
      },
      "execution_count": 30,
      "outputs": [
        {
          "output_type": "execute_result",
          "data": {
            "text/plain": [
              "Intercept    0.002602\n",
              "slot_bool    0.003576\n",
              "dtype: float64"
            ]
          },
          "metadata": {},
          "execution_count": 30
        }
      ]
    },
    {
      "cell_type": "code",
      "source": [
        "std_error_cuped = results.bse[1]"
      ],
      "metadata": {
        "id": "alylzC40xVto"
      },
      "execution_count": 32,
      "outputs": []
    },
    {
      "cell_type": "code",
      "source": [
        "print(f'Стандартная ошибка уменьшилась на: {std_error2 - std_error_cuped}')"
      ],
      "metadata": {
        "id": "JmOZ9Z-dNmQL",
        "outputId": "49a2ad70-fe81-4870-dd21-f2ea76bc652f",
        "colab": {
          "base_uri": "https://localhost:8080/"
        }
      },
      "execution_count": 33,
      "outputs": [
        {
          "output_type": "stream",
          "name": "stdout",
          "text": [
            "Стандартная ошибка уменьшилась на: 0.0008662775992916896\n"
          ]
        }
      ]
    },
    {
      "cell_type": "markdown",
      "metadata": {
        "id": "-ib0VWbph1tx"
      },
      "source": [
        "__[20 баллов]__ Ровно по той же схеме проверните CUPAC. В качестве базовой модели возьмите какой-нибудь градиентный бустинг. Насколько у нас получилось уменьшить стандартную ошибку?"
      ]
    },
    {
      "cell_type": "code",
      "source": [
        "first_part_df['slot_bool'] = first_part_df['slot'].apply(lambda x: 1 if x=='control' else 0);"
      ],
      "metadata": {
        "colab": {
          "base_uri": "https://localhost:8080/"
        },
        "id": "wdFarERsx7_U",
        "outputId": "697061bc-55b7-4d99-d2a6-8307b324209f"
      },
      "execution_count": 35,
      "outputs": [
        {
          "output_type": "stream",
          "name": "stderr",
          "text": [
            "<ipython-input-35-e87347a3ce55>:1: SettingWithCopyWarning: \n",
            "A value is trying to be set on a copy of a slice from a DataFrame.\n",
            "Try using .loc[row_indexer,col_indexer] = value instead\n",
            "\n",
            "See the caveats in the documentation: https://pandas.pydata.org/pandas-docs/stable/user_guide/indexing.html#returning-a-view-versus-a-copy\n",
            "  first_part_df['slot_bool'] = first_part_df['slot'].apply(lambda x: 1 if x=='control' else 0);\n"
          ]
        }
      ]
    },
    {
      "cell_type": "code",
      "execution_count": 71,
      "metadata": {
        "id": "ZKcCemKsh1tx",
        "outputId": "27823cc2-f230-471d-d0d2-4f68365cc822",
        "colab": {
          "base_uri": "https://localhost:8080/"
        }
      },
      "outputs": [
        {
          "output_type": "stream",
          "name": "stderr",
          "text": [
            "/usr/local/lib/python3.10/dist-packages/sklearn/ensemble/_gb.py:437: DataConversionWarning: A column-vector y was passed when a 1d array was expected. Please change the shape of y to (n_samples, ), for example using ravel().\n",
            "  y = column_or_1d(y, warn=True)\n",
            "<ipython-input-71-67bd8c9c485d>:6: SettingWithCopyWarning: \n",
            "A value is trying to be set on a copy of a slice from a DataFrame.\n",
            "Try using .loc[row_indexer,col_indexer] = value instead\n",
            "\n",
            "See the caveats in the documentation: https://pandas.pydata.org/pandas-docs/stable/user_guide/indexing.html#returning-a-view-versus-a-copy\n",
            "  second_part_df['y_pred'] = y_pred_bst\n",
            "<ipython-input-71-67bd8c9c485d>:13: SettingWithCopyWarning: \n",
            "A value is trying to be set on a copy of a slice from a DataFrame.\n",
            "Try using .loc[row_indexer,col_indexer] = value instead\n",
            "\n",
            "See the caveats in the documentation: https://pandas.pydata.org/pandas-docs/stable/user_guide/indexing.html#returning-a-view-versus-a-copy\n",
            "  second_part_df['r_cuped'] = r_cuped\n"
          ]
        },
        {
          "output_type": "stream",
          "name": "stdout",
          "text": [
            "Стандартная ошибка с использованием CUPAC: 0.0035722032092883613\n"
          ]
        }
      ],
      "source": [
        "from sklearn.ensemble import GradientBoostingRegressor\n",
        "\n",
        "model_bst = GradientBoostingRegressor()\n",
        "model_bst.fit(first_part_df[['slot_bool', 'empty_query_share']], first_part_df[['click_per_queries']])\n",
        "y_pred_bst = model_bst.predict(second_part_df[['slot_bool', 'empty_query_share']])\n",
        "second_part_df['y_pred'] = y_pred_bst\n",
        "\n",
        "model = sm.ols('click_per_queries ~ slot_bool + y_pred', data=second_part_df)\n",
        "results = model.fit(cov_type='HC3')\n",
        "\n",
        "results_cupac = model.fit(cov_type='HC3')\n",
        "r_cuped = second_part_df['click_per_queries'] - results.params[2] * second_part_df['y_pred']\n",
        "second_part_df['r_cuped'] = r_cuped\n",
        "\n",
        "model = sm.ols('r_cuped ~ slot_bool', data=second_part_df)\n",
        "results = model.fit(cov_type='HC3')\n",
        "\n",
        "std_error_cupac = results.bse[1]\n",
        "\n",
        "print(\"Стандартная ошибка с использованием CUPAC:\", std_error_cupac)\n"
      ]
    },
    {
      "cell_type": "code",
      "source": [
        "print(f'Стандартная ошибка уменьшилась на: {std_error2 - std_error_cupac}')"
      ],
      "metadata": {
        "id": "W3Yd7LeOPbSB",
        "outputId": "2336dd55-b069-4461-d391-5b0125affe22",
        "colab": {
          "base_uri": "https://localhost:8080/"
        }
      },
      "execution_count": 72,
      "outputs": [
        {
          "output_type": "stream",
          "name": "stdout",
          "text": [
            "Стандартная ошибка уменьшилась на: 0.0008701871640484872\n"
          ]
        }
      ]
    },
    {
      "cell_type": "code",
      "source": [
        "print(f'Стандартная ошибка сравнение cuped c cupac: {std_error_cuped - std_error_cupac}')"
      ],
      "metadata": {
        "colab": {
          "base_uri": "https://localhost:8080/"
        },
        "id": "pxQDdr9eBWaM",
        "outputId": "88baecf6-eec2-4adf-9e19-888c89850ba2"
      },
      "execution_count": 73,
      "outputs": [
        {
          "output_type": "stream",
          "name": "stdout",
          "text": [
            "Стандартная ошибка сравнение cuped c cupac: 3.909564756797608e-06\n"
          ]
        }
      ]
    },
    {
      "cell_type": "markdown",
      "metadata": {
        "id": "8JN6R0kQh1tx"
      },
      "source": [
        "__[10 баллов]__ Финальный вопрос! А как использовать эту новую стандартную ошибку в формуле для рассчёта числа наблюдений? Выясните при выбранном выми MDE, какая у нас будет ошибка второго рода в CUPED и CUPAC, если в АБ-тесте будет участвовать только половина наблюдений."
      ]
    }
  ],
  "metadata": {
    "kernelspec": {
      "display_name": "Python 3 (ipykernel)",
      "language": "python",
      "name": "python3"
    },
    "language_info": {
      "codemirror_mode": {
        "name": "ipython",
        "version": 3
      },
      "file_extension": ".py",
      "mimetype": "text/x-python",
      "name": "python",
      "nbconvert_exporter": "python",
      "pygments_lexer": "ipython3",
      "version": "3.10.9"
    },
    "colab": {
      "provenance": []
    }
  },
  "nbformat": 4,
  "nbformat_minor": 0
}